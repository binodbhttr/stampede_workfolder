{
 "cells": [
  {
   "cell_type": "markdown",
   "source": [
    "# Cluster 17"
   ],
   "metadata": {}
  },
  {
   "cell_type": "code",
   "execution_count": 1,
   "source": [
    "import gizmo_analysis as gizmo\n",
    "import utilities as ut\n",
    "from matplotlib import pyplot as plt\n",
    "import matplotlib\n",
    "import numpy as np\n",
    "from mpl_toolkits.mplot3d import Axes3D\n",
    "from sl_utilities import distinct_colours as dc\n",
    "from sl_utilities import distance_functions\n",
    "import os\n",
    "import pickle\n",
    "from fof_analysis import fof"
   ],
   "outputs": [
    {
     "output_type": "stream",
     "name": "stderr",
     "text": [
      "In /home1/07428/binod/anaconda3/lib/python3.7/site-packages/matplotlib/mpl-data/stylelib/_classic_test.mplstyle: \n",
      "The text.latex.preview rcparam was deprecated in Matplotlib 3.3 and will be removed two minor releases later.\n",
      "In /home1/07428/binod/anaconda3/lib/python3.7/site-packages/matplotlib/mpl-data/stylelib/_classic_test.mplstyle: \n",
      "The mathtext.fallback_to_cm rcparam was deprecated in Matplotlib 3.3 and will be removed two minor releases later.\n",
      "In /home1/07428/binod/anaconda3/lib/python3.7/site-packages/matplotlib/mpl-data/stylelib/_classic_test.mplstyle: Support for setting the 'mathtext.fallback_to_cm' rcParam is deprecated since 3.3 and will be removed two minor releases later; use 'mathtext.fallback : 'cm' instead.\n",
      "In /home1/07428/binod/anaconda3/lib/python3.7/site-packages/matplotlib/mpl-data/stylelib/_classic_test.mplstyle: \n",
      "The validate_bool_maybe_none function was deprecated in Matplotlib 3.3 and will be removed two minor releases later.\n",
      "In /home1/07428/binod/anaconda3/lib/python3.7/site-packages/matplotlib/mpl-data/stylelib/_classic_test.mplstyle: \n",
      "The savefig.jpeg_quality rcparam was deprecated in Matplotlib 3.3 and will be removed two minor releases later.\n",
      "In /home1/07428/binod/anaconda3/lib/python3.7/site-packages/matplotlib/mpl-data/stylelib/_classic_test.mplstyle: \n",
      "The keymap.all_axes rcparam was deprecated in Matplotlib 3.3 and will be removed two minor releases later.\n",
      "In /home1/07428/binod/anaconda3/lib/python3.7/site-packages/matplotlib/mpl-data/stylelib/_classic_test.mplstyle: \n",
      "The animation.avconv_path rcparam was deprecated in Matplotlib 3.3 and will be removed two minor releases later.\n",
      "In /home1/07428/binod/anaconda3/lib/python3.7/site-packages/matplotlib/mpl-data/stylelib/_classic_test.mplstyle: \n",
      "The animation.avconv_args rcparam was deprecated in Matplotlib 3.3 and will be removed two minor releases later.\n"
     ]
    }
   ],
   "metadata": {}
  },
  {
   "cell_type": "code",
   "execution_count": 2,
   "source": [
    "!hostname\n",
    "!pwd"
   ],
   "outputs": [
    {
     "output_type": "stream",
     "name": "stdout",
     "text": [
      "c506-021.stampede2.tacc.utexas.edu\n",
      "/home1/07428/binod\n"
     ]
    }
   ],
   "metadata": {}
  },
  {
   "cell_type": "code",
   "execution_count": 3,
   "source": [
    "simname = 'm12i_res7100_mhdcv'\n",
    "simdir = '/scratch/projects/xsede/GalaxiesOnFIRE/cr_suite/m12i_res7100/mhdcv/1Myr/fire2/'\n",
    "simtype=\"fire2\"\n",
    "snapnumber=650\n",
    "snap=snapnumber\n",
    "\n",
    "#data_path=\"/home1/07428/binod/stampede_workfolder/fire2/fire2_data_pkl/\" \n",
    "#gas_datapath=\"/home1/07428/binod/stampede_workfolder/fire2/fire2_gas_data_pkl/\"\n",
    "\n",
    "#gas_file_name=simtype+\"_gas_data\"+str(snapnumber)+\".pkl\"\n",
    "#cluster_data_name=\"all_clusters_at_snapshot_\"+str(snapnumber)+\".pkl\" \n",
    "\n",
    "#############################################################################\n",
    "#constants\n",
    "#############################################################################\n",
    "\n",
    "MsunToGm = 1.99e33\n",
    "KpcToCm = 3.086e21\n",
    "mp = 1.67e-24\n",
    "#bin_edge = 10.\n",
    "bin_edge = 30.\n",
    "\n",
    "bins = np.arange(-5,5,0.1)\n",
    "#bins = np.arange(-25,25,0.1)\n"
   ],
   "outputs": [],
   "metadata": {}
  },
  {
   "cell_type": "markdown",
   "source": [
    "# Extracting age, location and metallicity information for the simulations"
   ],
   "metadata": {}
  },
  {
   "cell_type": "code",
   "execution_count": 4,
   "source": [
    "part=gizmo.io.Read.read_snapshots(['star'],'snapshot_index', snap, simulation_name=simname, simulation_directory=simdir, assign_hosts=True, assign_hosts_rotation=True)               #snap is the snapshot number here that changes everytime the loop iterates. It starts with sanpshot_start\n",
    "\n",
    "age=part['star'].prop('age')\n",
    "x=part['star'].prop('host.distance.principal')[:,0] #x component of the position of all stars \n",
    "y=part['star'].prop('host.distance.principal')[:,1] #y component of the position of all stars\n",
    "z=part['star'].prop('host.distance.principal')[:,2] #z component of the position of all stars\n",
    "Rxy = part['star'].prop('host.distance.principal.cylindrical')[:,0]\n",
    "rxyz     = part['star'].prop('host.distance.total')\n",
    "mass     = part['star'].prop('mass')\n",
    "\n",
    "ids      = part['star'].prop('id')\n",
    "id_child = part['star'].prop('id.child')\n",
    "age      = part['star'].prop('age')\n",
    "\n",
    "feh = part['star'].prop('metallicity.fe')\n",
    "mgh = part['star'].prop('metallicity.mg')"
   ],
   "outputs": [
    {
     "output_type": "stream",
     "name": "stdout",
     "text": [
      "\n",
      "# in utilities.simulation.Snapshot():\n",
      "* reading:  scratch/projects/xsede/GalaxiesOnFIRE/cr_suite/m12i_res7100/mhdcv/1Myr/fire2/snapshot_times.txt\n",
      "\n",
      "  using snapshot index = 650, redshift = 0.003\n",
      "\n",
      "\n",
      "# in gizmo_analysis.gizmo_io.Read():\n",
      "* reading header from:  scratch/projects/xsede/GalaxiesOnFIRE/cr_suite/m12i_res7100/mhdcv/1Myr/fire2/output/snapdir_650/snapshot_650.0.hdf5\n",
      "  snapshot contains the following number of particles:\n",
      "    dark      (id = 1): 70514272 particles\n",
      "    dark2     (id = 2): 5513331 particles\n",
      "    gas       (id = 0): 55645118 particles\n",
      "    star      (id = 4): 15344402 particles\n",
      "    blackhole (id = 5): 0 particles\n",
      "\n",
      "* reading species: ['star']\n",
      "* reading particles from:\n",
      "    snapshot_650.0.hdf5\n",
      "    snapshot_650.1.hdf5\n",
      "    snapshot_650.2.hdf5\n",
      "    snapshot_650.3.hdf5\n",
      "\n",
      "* reading cosmological parameters from:  scratch/projects/xsede/GalaxiesOnFIRE/cr_suite/m12i_res7100/mhdcv/1Myr/fire2/initial_condition/ic_agora_m12i.conf\n",
      "\n",
      "* checking sanity of particle properties\n",
      "! warning: star id.child [min, max] = [0.000, 4.294e9]\n",
      "\n",
      "\n",
      "# in gizmo_analysis.gizmo_track.ParticleCoordinate():\n",
      "  read 1 host (position, velocity, rotation, axis ratios) from:  scratch/projects/xsede/GalaxiesOnFIRE/cr_suite/m12i_res7100/mhdcv/1Myr/fire2/track/host_coordinates.hdf5\n",
      "  host1 position = (41847.121, 44103.355, 46280.281) [kpc comoving]\n",
      "  host1 velocity = (-48.3, 82.2, 89.9) [km / s]\n",
      "  host1 axis ratios = (0.18, 0.19, 0.94)\n",
      "\n"
     ]
    }
   ],
   "metadata": {}
  },
  {
   "cell_type": "code",
   "execution_count": 5,
   "source": [
    "#select young stars within the disk for star clusters\n",
    "keep = np.where((age <= .003) & ((Rxy < 20) & (Rxy>2)) & (abs(z) < 1.5))\n",
    "#to run cluster finding on\n",
    "rxyz0     = rxyz[keep]\n",
    "Rxy0      = Rxy[keep]\n",
    "x0        = x[keep]\n",
    "y0        = y[keep]\n",
    "z0        = z[keep]\n",
    "mass0     = mass[keep]\n",
    "feh0      = feh[keep]\n",
    "mgh0      = mgh[keep]\n",
    "\n",
    "id0       = ids[keep]\n",
    "id_child0 = id_child[keep]\n",
    "age0      = age[keep]"
   ],
   "outputs": [],
   "metadata": {}
  },
  {
   "cell_type": "code",
   "execution_count": 6,
   "source": [
    "linking_length = 0.01 #10 parsec (unit here is in kpc)\n",
    "ncut           = 10 #5 star particles\n",
    "ind, xcm, ycm, zcm, mtot, grpid, r90, r50, rmax =fof.find(x0,y0,z0, b=linking_length, mass=mass0, ncut=ncut)\n",
    "ngroup = len(mtot)"
   ],
   "outputs": [
    {
     "output_type": "stream",
     "name": "stdout",
     "text": [
      "linking length  0.01\n",
      "min number particles in group  10\n",
      "0.06297612190246582 seconds\n",
      "number of groups 6\n",
      "max number in a group 26\n"
     ]
    }
   ],
   "metadata": {}
  },
  {
   "cell_type": "markdown",
   "source": [
    "# Loading cluster data and gas data"
   ],
   "metadata": {}
  },
  {
   "cell_type": "code",
   "execution_count": 7,
   "source": [
    "export_cluster={}\n",
    "for grp_index in range(ngroup):  #iterate over each group\n",
    "    cluster={}\n",
    "    ids_in_cluster = id0[ind[grp_index]]  #these are the star particle ids in each cluster\n",
    "    id_children_in_cluster = id_child0[ind[grp_index]]\n",
    "    age_cluster=age0[ind[grp_index]]\n",
    "    nstar = len(ids_in_cluster)\n",
    "    groupid=grpid[grp_index]\n",
    "    print('------------------------------------------------------------------------------------------------------------------')\n",
    "    print('grpid, nstar, xcm (kpc), ycm (kpc), zcm (kpc), mtot (msun), rmax (pc)')\n",
    "    print('%s     %i     %.4f     %.4f    %.4f     %.2e     %.1f ' % (grpid[grp_index], nstar, xcm[grp_index], ycm[grp_index], zcm[grp_index], mtot[grp_index], 1000*rmax[grp_index]))\n",
    "    print(\"age of stars in the cluster\",age_cluster)\n",
    "    print('ids')\n",
    "    string = '[' \n",
    "    for i in ids_in_cluster:\n",
    "        string = string + str(i) + ', '\n",
    "\n",
    "    #get rid of last extra ,\n",
    "    length = len(string)-2\n",
    "    string = string[0:length] + ']'\n",
    "    print(string)\n",
    "\n",
    "    print('id children')\n",
    "    string = '[' \n",
    "    for i in id_children_in_cluster:\n",
    "        string = string + str(i) + ', '\n",
    "\n",
    "    #get rid of last extra ,\n",
    "    length = len(string)-2\n",
    "    string = string[0:length] + ']'\n",
    "    print(string)\n",
    "    print(\"These are the ids printed\",ids_in_cluster)\n",
    "    #feh_in_cluster=feh0[ind[grp_index]]\n",
    "    #cluster={\"cluster_groupid\":groupid,\"no_of_star\":nstar,\"id\":ids_in_cluster,\"id_children\":id_children_in_cluster,\"xcm\":xcm[grp_index],\"ycm\":ycm[grp_index],\"zcm\":zcm[grp_index],\"mtot\":mtot[grp_index],\"r90\":r90[grp_index],\"r50\":r50[grp_index],\"rmax\":rmax[grp_index],\"x\":x0[ind[grp_index]],\"y\":y0[ind[grp_index]],\"z\":z0[ind[grp_index]],\"age\":age0[ind[grp_index]],\"feh\":feh0[ind[grp_index]],\"mgh\":mgh0[ind[grp_index]],\"ch\":ch0[ind[grp_index]],\"nh\":nh0[ind[grp_index]],\"oh\":oh0[ind[grp_index]],\"neh\":neh0[ind[grp_index]],\"sih\":sih0[ind[grp_index]],\"sh\":sh0[ind[grp_index]],\"cah\":cah0[ind[grp_index]],\"mgfe\":mgfe0[ind[grp_index]],\"ofe\":ofe0[ind[grp_index]],\"sife\":sife0[ind[grp_index]],\"sfe\":sfe0[ind[grp_index]],\"cafe\":cafe0[ind[grp_index]],\"nefe\":nefe0[ind[grp_index]]}\n",
    "    cluster={\"cluster_groupid\":groupid,\"no_of_star\":nstar,\"id\":ids_in_cluster,\"id_children\":id_children_in_cluster,\"xcm\":xcm[grp_index],\"ycm\":ycm[grp_index],\"zcm\":zcm[grp_index],\"mtot\":mtot[grp_index],\"r90\":r90[grp_index],\"r50\":r50[grp_index],\"rmax\":rmax[grp_index],\"x\":x0[ind[grp_index]],\"y\":y0[ind[grp_index]],\"z\":z0[ind[grp_index]],\"age\":age0[ind[grp_index]],\"feh\":feh0[ind[grp_index]],\"mgh\":mgh0[ind[grp_index]]}\n",
    "\n",
    "    export_cluster.update({groupid:cluster})\n"
   ],
   "outputs": [
    {
     "output_type": "stream",
     "name": "stdout",
     "text": [
      "------------------------------------------------------------------------------------------------------------------\n",
      "grpid, nstar, xcm (kpc), ycm (kpc), zcm (kpc), mtot (msun), rmax (pc)\n",
      "1     26     -3.7395     -2.7974    0.0142     3.21e+05     25.8 \n",
      "age of stars in the cluster [0.00146864 0.0015718  0.00148944 0.001551   0.0015302  0.00292374\n",
      " 0.00099693 0.00235134 0.00212588 0.00095617 0.00099693 0.00239211\n",
      " 0.00206431 0.00109926 0.00089461 0.00149942 0.00107929 0.00179725\n",
      " 0.0027823  0.00112006 0.00089461 0.00112006 0.00112006 0.00093537\n",
      " 0.00075069 0.00151523]\n",
      "ids\n",
      "[14058602, 34357020, 13147167, 5358915, 38684004, 65784341, 47370697, 39208166, 14111488, 29914784, 13481609, 10422086, 65263983, 34940154, 21311517, 24250014, 41504105, 31192369, 24381889, 25835958, 42077560, 18146433, 6783036, 57581487, 60526743, 41401080]\n",
      "id children\n",
      "[0, 0, 0, 0, 0, 0, 1, 0, 0, 0, 0, 0, 0, 0, 0, 0, 0, 0, 0, 0, 0, 0, 0, 0, 0, 0]\n",
      "These are the ids printed [14058602 34357020 13147167  5358915 38684004 65784341 47370697 39208166\n",
      " 14111488 29914784 13481609 10422086 65263983 34940154 21311517 24250014\n",
      " 41504105 31192369 24381889 25835958 42077560 18146433  6783036 57581487\n",
      " 60526743 41401080]\n",
      "------------------------------------------------------------------------------------------------------------------\n",
      "grpid, nstar, xcm (kpc), ycm (kpc), zcm (kpc), mtot (msun), rmax (pc)\n",
      "2     20     11.8778     -4.8821    0.1196     2.31e+05     16.0 \n",
      "age of stars in the cluster [0.00034056 0.00076067 0.00072989 0.000566   0.00070992 0.00095617\n",
      " 0.000566   0.00247447 0.00094535 0.00082223 0.00206431 0.00063755\n",
      " 0.00185882 0.00072989 0.00185882 0.00189958 0.00202271 0.00218744\n",
      " 0.00206431 0.0005868 ]\n",
      "ids\n",
      "[57985402, 49664520, 51924805, 13825809, 30988704, 50643340, 46015736, 13739056, 56315901, 10029936, 21266221, 38934655, 27444296, 19933082, 38908440, 22108816, 36132388, 41705660, 9204310, 27165067]\n",
      "id children\n",
      "[0, 0, 0, 1, 0, 0, 0, 0, 0, 0, 0, 0, 0, 0, 0, 0, 3, 0, 0, 0]\n",
      "These are the ids printed [57985402 49664520 51924805 13825809 30988704 50643340 46015736 13739056\n",
      " 56315901 10029936 21266221 38934655 27444296 19933082 38908440 22108816\n",
      " 36132388 41705660  9204310 27165067]\n",
      "------------------------------------------------------------------------------------------------------------------\n",
      "grpid, nstar, xcm (kpc), ycm (kpc), zcm (kpc), mtot (msun), rmax (pc)\n",
      "3     18     -3.7509     -2.7701    -0.0214     2.37e+05     15.3 \n",
      "age of stars in the cluster [0.00132554 0.00077148 0.00112006 0.00057599 0.00061758 0.00092539\n",
      " 0.00070992 0.00062756 0.00066833 0.00066833 0.00087381 0.00112006\n",
      " 0.00114086 0.00128395 0.00059678 0.00113586 0.00135633 0.00151023]\n",
      "ids\n",
      "[33218123, 60403507, 16575752, 40116596, 40631074, 32530604, 15386575, 23189147, 57100367, 49013105, 34271053, 28535025, 43846080, 37140990, 16173449, 58188156, 7415379, 14283663]\n",
      "id children\n",
      "[0, 0, 0, 0, 0, 0, 0, 0, 0, 0, 0, 0, 0, 0, 0, 0, 0, 2]\n",
      "These are the ids printed [33218123 60403507 16575752 40116596 40631074 32530604 15386575 23189147\n",
      " 57100367 49013105 34271053 28535025 43846080 37140990 16173449 58188156\n",
      "  7415379 14283663]\n",
      "------------------------------------------------------------------------------------------------------------------\n",
      "grpid, nstar, xcm (kpc), ycm (kpc), zcm (kpc), mtot (msun), rmax (pc)\n",
      "4     15     -7.1142     -0.4895    0.6237     1.65e+05     14.9 \n",
      "age of stars in the cluster [0.00184967 0.00157429 0.00182804 0.00124318 0.00123403 0.00124568\n",
      " 0.00134052 0.00120325 0.00109926 0.00222072 0.00095617 0.00226149\n",
      " 0.00029896 0.00038132 0.00085301]\n",
      "ids\n",
      "[37439337, 30499064, 37012295, 44317389, 9656412, 56619995, 31646481, 5650871, 46647564, 66649360, 46471912, 57548570, 52868830, 13048194, 13388612]\n",
      "id children\n",
      "[0, 0, 0, 0, 0, 0, 1, 0, 0, 0, 0, 0, 0, 0, 0]\n",
      "These are the ids printed [37439337 30499064 37012295 44317389  9656412 56619995 31646481  5650871\n",
      " 46647564 66649360 46471912 57548570 52868830 13048194 13388612]\n",
      "------------------------------------------------------------------------------------------------------------------\n",
      "grpid, nstar, xcm (kpc), ycm (kpc), zcm (kpc), mtot (msun), rmax (pc)\n",
      "5     13     2.1089     6.5920    0.0826     1.66e+05     9.5 \n",
      "age of stars in the cluster [2.98962675e-04 4.22083574e-04 1.69492508e-03 6.06766127e-04\n",
      " 9.76135565e-04 8.94607580e-04 1.05849575e-03 1.28394784e-03\n",
      " 1.85881881e-03 3.27575184e-05 1.09926000e-03 1.61256268e-03\n",
      " 1.03769770e-03]\n",
      "ids\n",
      "[12413469, 24916517, 26186291, 27722631, 26377353, 19453311, 33099741, 14618376, 7755910, 36034794, 18308905, 7550229, 60002675]\n",
      "id children\n",
      "[0, 0, 0, 0, 0, 0, 0, 0, 1, 0, 0, 0, 0]\n",
      "These are the ids printed [12413469 24916517 26186291 27722631 26377353 19453311 33099741 14618376\n",
      "  7755910 36034794 18308905  7550229 60002675]\n",
      "------------------------------------------------------------------------------------------------------------------\n",
      "grpid, nstar, xcm (kpc), ycm (kpc), zcm (kpc), mtot (msun), rmax (pc)\n",
      "6     13     11.8846     -4.8825    0.0915     1.53e+05     10.9 \n",
      "age of stars in the cluster [0.00136631 0.00042208 0.00136631 0.00072989 0.00075069 0.00085301\n",
      " 0.00091457 0.00192038 0.00144867 0.00161256 0.00029896 0.00095617\n",
      " 0.0010377 ]\n",
      "ids\n",
      "[8449163, 21502715, 38682179, 16349823, 55990172, 54906077, 51576484, 44060009, 64366649, 7251807, 13384452, 17674766, 36514535]\n",
      "id children\n",
      "[0, 0, 0, 0, 0, 0, 0, 0, 0, 0, 0, 0, 1]\n",
      "These are the ids printed [ 8449163 21502715 38682179 16349823 55990172 54906077 51576484 44060009\n",
      " 64366649  7251807 13384452 17674766 36514535]\n"
     ]
    }
   ],
   "metadata": {}
  },
  {
   "cell_type": "code",
   "execution_count": 8,
   "source": [
    "cluster_group=1\n",
    "export_cluster[cluster_group].keys()"
   ],
   "outputs": [
    {
     "output_type": "execute_result",
     "data": {
      "text/plain": [
       "dict_keys(['cluster_groupid', 'no_of_star', 'id', 'id_children', 'xcm', 'ycm', 'zcm', 'mtot', 'r90', 'r50', 'rmax', 'x', 'y', 'z', 'age', 'feh', 'mgh'])"
      ]
     },
     "metadata": {},
     "execution_count": 8
    }
   ],
   "metadata": {}
  },
  {
   "cell_type": "code",
   "execution_count": 9,
   "source": [
    "ind=export_cluster[1][\"feh\"]\n",
    "print(feh)\n",
    "print(export_cluster[1][\"x\"])\n",
    "print(export_cluster[1][\"r90\"])\n"
   ],
   "outputs": [
    {
     "output_type": "stream",
     "name": "stdout",
     "text": [
      "[-1.3928102  -3.8991706  -2.894322   ... -1.0909089  -0.32053772\n",
      " -1.1288569 ]\n",
      "[-3.74805334 -3.75573017 -3.74389719 -3.75529638 -3.74321136 -3.7605802\n",
      " -3.73832077 -3.76425812 -3.75845405 -3.73877067 -3.73193215 -3.74166775\n",
      " -3.74597824 -3.72971874 -3.7301591  -3.73366287 -3.72612488 -3.74533911\n",
      " -3.7549103  -3.72659125 -3.72662605 -3.72477175 -3.72897631 -3.72762211\n",
      " -3.72865464 -3.73258108]\n",
      "0.017659648284662866\n"
     ]
    }
   ],
   "metadata": {}
  },
  {
   "cell_type": "markdown",
   "source": [
    "# Locating the CM of the cluster"
   ],
   "metadata": {}
  },
  {
   "cell_type": "code",
   "execution_count": 10,
   "source": [
    "xcm=export_cluster[cluster_group][\"xcm\"]\n",
    "ycm=export_cluster[cluster_group][\"ycm\"]\n",
    "print(\"The cluster is located at:\",(xcm,ycm))\n",
    "radius=((xcm)**2+(ycm)**2)**(1/2)\n",
    "print(\"The cluster CM is at radius: \",radius)\n",
    "\n",
    "circle_radius=((x-xcm)**2+(y-ycm)**2)**(1/2)\n",
    "print(len(circle_radius))"
   ],
   "outputs": [
    {
     "output_type": "stream",
     "name": "stdout",
     "text": [
      "The cluster is located at: (-3.739526773080427, -2.797401371677934)\n",
      "The cluster CM is at radius:  4.670065836886124\n",
      "15344402\n"
     ]
    }
   ],
   "metadata": {}
  },
  {
   "cell_type": "code",
   "execution_count": 11,
   "source": [
    "region=np.linspace(1,10,10)/10\n",
    "print(region)\n"
   ],
   "outputs": [
    {
     "output_type": "stream",
     "name": "stdout",
     "text": [
      "[0.1 0.2 0.3 0.4 0.5 0.6 0.7 0.8 0.9 1. ]\n"
     ]
    }
   ],
   "metadata": {}
  },
  {
   "cell_type": "code",
   "execution_count": 12,
   "source": [
    "colors=['cyan','blue','green','magenta','yellow','teal','brown','darkslategray','lime','red','orange','purple','rosybrown','pink','navy','olive','cornflowerblue','blueviolet','darkgreen'] #19 colors\n",
    "fig1=plt.figure()\n",
    "ax=fig1.add_subplot(111)\n",
    "\n",
    "for cluster_group in export_cluster:\n",
    "    sigma_f=list()\n",
    "    xcm=export_cluster[cluster_group][\"xcm\"]\n",
    "    ycm=export_cluster[cluster_group][\"ycm\"]\n",
    "    r90_cluster=export_cluster[cluster_group][\"r90\"]\n",
    "    cluster_feh=export_cluster[cluster_group][\"feh\"]\n",
    "    cluster_feh_sigma=np.std(cluster_feh)\n",
    "    radius=((xcm)**2+(ycm)**2)**(1/2)\n",
    "    print(\"The cluster CM is at radius: \",radius)\n",
    "    circle_radius=((x-xcm)**2+(y-ycm)**2)**(1/2)\n",
    "    for r in region:\n",
    "        keep = np.where((age <= .003) & (circle_radius<=r) & (abs(z) < 1.5))\n",
    "        feh_region=feh[keep]\n",
    "        sigma_feh_region=np.std(feh_region)\n",
    "        sigma_f.append(sigma_feh_region)\n",
    "\n",
    "    print(sigma_f)\n",
    "    nstar=len(export_cluster[cluster_group][\"x\"])\n",
    "    label_text=r\"n$_{star}$=\"+str(nstar)+r\" R$_{CM}$=\"+str(round(radius,2))\n",
    "    ax.plot(region,sigma_f,label=label_text,c=colors[cluster_group-1])\n",
    "    #ax.scatter(r90_cluster,cluster_feh_sigma,marker=\"*\",c=colors[cluster_group-1])\n",
    "\n",
    "ax.set_xlabel(\"R (kpc)\")\n",
    "ax.set_ylabel(r\"$\\sigma$ [Fe/H]\")\n",
    "ax.minorticks_on()\n",
    "ax.legend(bbox_to_anchor=(1,0.5), loc='center left')\n",
    "ax.set_title(\"Clusters at Snapshot \"+str(snapnumber))\n",
    "fig1.savefig(\"sigma_feh_region_new_data.jpg\",bbox_inches='tight',dpi=200)"
   ],
   "outputs": [
    {
     "output_type": "stream",
     "name": "stdout",
     "text": [
      "The cluster CM is at radius:  4.670065836886124\n",
      "[0.008358664, 0.0085517885, 0.009038214, 0.009522325, 0.009522325, 0.009522325, 0.009847507, 0.010267844, 0.011199509, 0.01131515]\n",
      "The cluster CM is at radius:  12.841979748258208\n",
      "[0.0038308667, 0.0037950592, 0.0062607112, 0.006162452, 0.006162452, 0.006162452, 0.006086651, 0.0059909765, 0.005947134, 0.00608873]\n",
      "The cluster CM is at radius:  4.662889965744409\n",
      "[0.008602954, 0.0085517885, 0.009038214, 0.009522325, 0.009522325, 0.009522325, 0.009522325, 0.010267844, 0.011232015, 0.01131515]\n",
      "The cluster CM is at radius:  7.130996171849472\n",
      "[0.014287248, 0.014897469, 0.014897469, 0.014762343, 0.014762343, 0.014762343, 0.014762343, 0.014762343, 0.014762343, 0.014762343]\n",
      "The cluster CM is at radius:  6.921106382363384\n",
      "[0.009435324, 0.009435324, 0.009167707, 0.009024805, 0.009024805, 0.009024805, 0.009024805, 0.009024805, 0.008595361, 0.008595361]\n",
      "The cluster CM is at radius:  12.848461771277307\n",
      "[0.0038308667, 0.0063133016, 0.0062607112, 0.006162452, 0.006162452, 0.006162452, 0.006086651, 0.0059909765, 0.005947134, 0.00608873]\n"
     ]
    },
    {
     "output_type": "display_data",
     "data": {
      "image/png": "[encoded data removed]",
      "text/plain": [
       "<Figure size 432x288 with 1 Axes>"
      ]
     },
     "metadata": {
      "needs_background": "light"
     }
    }
   ],
   "metadata": {}
  },
  {
   "cell_type": "markdown",
   "source": [
    "# Mgh"
   ],
   "metadata": {}
  },
  {
   "cell_type": "code",
   "execution_count": 13,
   "source": [
    "colors=['cyan','blue','green','magenta','yellow','teal','brown','darkslategray','lime','red','orange','purple','rosybrown','pink','navy','olive','cornflowerblue','blueviolet','darkgreen'] #19 colors\n",
    "fig1=plt.figure()\n",
    "ax=fig1.add_subplot(111)\n",
    "\n",
    "for cluster_group in export_cluster:\n",
    "    sigma_mgh=list()\n",
    "    xcm=export_cluster[cluster_group][\"xcm\"]\n",
    "    ycm=export_cluster[cluster_group][\"ycm\"]\n",
    "    r90_cluster=export_cluster[cluster_group][\"r90\"]\n",
    "    cluster_mgh=export_cluster[cluster_group][\"mgh\"]\n",
    "    cluster_mgh_sigma=np.std(cluster_mgh)\n",
    "    radius=((xcm)**2+(ycm)**2)**(1/2)\n",
    "    print(\"The cluster CM is at radius: \",radius)\n",
    "    circle_radius=((x-xcm)**2+(y-ycm)**2)**(1/2)\n",
    "    for r in region:\n",
    "        keep = np.where((age <= .003) & (circle_radius<=r) & (abs(z) < 1.5))\n",
    "        mgh_region=mgh[keep]\n",
    "        sigma_mgh_region=np.std(mgh_region)\n",
    "        sigma_mgh.append(sigma_mgh_region)\n",
    "\n",
    "    #print(sigma_mgh)\n",
    "    nstar=len(export_cluster[cluster_group][\"x\"])\n",
    "    label_text=r\"n$_{star}$=\"+str(nstar)+r\" R$_{CM}$=\"+str(round(radius,2))\n",
    "    ax.plot(region,sigma_mgh,label=label_text,c=colors[cluster_group-1])\n",
    "    #ax.scatter(r90_cluster,cluster_mgh_sigma,marker=\"*\",c=colors[cluster_group-1])\n",
    "\n",
    "ax.set_xlabel(\"R (kpc)\")\n",
    "ax.set_ylabel(r\"$\\sigma$ [Mg/H]\")\n",
    "ax.minorticks_on()\n",
    "ax.legend(bbox_to_anchor=(1,0.5), loc='center left')\n",
    "ax.set_title(\"Clusters at Snapshot \"+str(snapnumber))\n",
    "fig1.savefig(str(snapnumber)+\"sigma_mgh_region_new_data.jpg\",bbox_inches='tight',dpi=200)"
   ],
   "outputs": [
    {
     "output_type": "stream",
     "name": "stdout",
     "text": [
      "The cluster CM is at radius:  4.670065836886124\n",
      "The cluster CM is at radius:  12.841979748258208\n",
      "The cluster CM is at radius:  4.662889965744409\n",
      "The cluster CM is at radius:  7.130996171849472\n",
      "The cluster CM is at radius:  6.921106382363384\n",
      "The cluster CM is at radius:  12.848461771277307\n"
     ]
    },
    {
     "output_type": "display_data",
     "data": {
      "image/png": "[encoded data removed]",
      "text/plain": [
       "<Figure size 432x288 with 1 Axes>"
      ]
     },
     "metadata": {
      "needs_background": "light"
     }
    }
   ],
   "metadata": {}
  },
  {
   "cell_type": "code",
   "execution_count": null,
   "source": [],
   "outputs": [],
   "metadata": {}
  }
 ],
 "metadata": {
  "kernelspec": {
   "display_name": "Python 3",
   "language": "python",
   "name": "python3"
  },
  "language_info": {
   "name": "python",
   "version": "3.7.6",
   "mimetype": "text/x-python",
   "codemirror_mode": {
    "name": "ipython",
    "version": 3
   },
   "pygments_lexer": "ipython3",
   "nbconvert_exporter": "python",
   "file_extension": ".py"
  }
 },
 "nbformat": 4,
 "nbformat_minor": 4
}