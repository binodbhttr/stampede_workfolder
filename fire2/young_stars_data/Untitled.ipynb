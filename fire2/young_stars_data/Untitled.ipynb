{
 "cells": [
  {
   "cell_type": "code",
   "execution_count": 4,
   "id": "86d1d098-44b5-44a9-a4c2-3ff261a78125",
   "metadata": {},
   "outputs": [
    {
     "data": {
      "text/plain": [
       "<matplotlib.collections.PathCollection at 0x2af144ce90d0>"
      ]
     },
     "execution_count": 4,
     "metadata": {},
     "output_type": "execute_result"
    },
    {
     "data": {
      "image/png": "[encoded data removed]",
      "text/plain": [
       "<Figure size 432x288 with 1 Axes>"
      ]
     },
     "metadata": {
      "needs_background": "light"
     },
     "output_type": "display_data"
    }
   ],
   "source": [
    "import pickle\n",
    "from matplotlib import pyplot as plt\n",
    "\n",
    "s=597\n",
    "\n",
    "datapath=\"/home1/07428/binod/stampede_workfolder/fire2/young_stars_data/\"\n",
    "\n",
    "file_name=\"fire2_young_clusters__snapshot_\"+str(s)+\".pkl\"\n",
    "\n",
    "with open(datapath+file_name, \"rb\") as fp:\n",
    "      import_cluster = pickle.load(fp)\n",
    "\n",
    "x=import_cluster[\"x_young\"]\n",
    "y=import_cluster[\"y_young\"]\n",
    "plt.scatter(x,y)\n",
    "\n"
   ]
  },
  {
   "cell_type": "code",
   "execution_count": 5,
   "id": "30775dd3-d2ab-42e2-a3b6-48f91c630aa9",
   "metadata": {},
   "outputs": [
    {
     "name": "stdout",
     "output_type": "stream",
     "text": [
      "643\n",
      "1036.8154648279062\n",
      "1036.5877397051036\n",
      "1037.277162868091\n",
      "1036.9762998689428\n",
      "2121.5469097039286\n",
      "1035.8677622418904\n"
     ]
    }
   ],
   "source": []
  },
  {
   "cell_type": "code",
   "execution_count": 11,
   "id": "6de711a9-2875-419e-b389-b220b7e72b3e",
   "metadata": {},
   "outputs": [
    {
     "name": "stdout",
     "output_type": "stream",
     "text": [
      "950\n",
      "2581.981508445389\n",
      "2581.9788701324987\n",
      "1360.7379390175174\n",
      "1360.750588356317\n",
      "1361.6252375042995\n",
      "1361.6230848809546\n",
      "1361.6267846812661\n",
      "213.27981410831532\n",
      "210.6110092423001\n",
      "210.6093042291362\n",
      "210.61251041154136\n",
      "210.60646128768568\n",
      "1362.648246645615\n",
      "1361.1581461248238\n",
      "1358.6920138896578\n",
      "212.72553483625276\n",
      "212.72432368190562\n",
      "212.72401239772296\n",
      "212.66945532553945\n",
      "1360.2935606344645\n"
     ]
    },
    {
     "data": {
      "image/png": "[encoded data removed]",
      "text/plain": [
       "<Figure size 432x288 with 1 Axes>"
      ]
     },
     "metadata": {
      "needs_background": "light"
     },
     "output_type": "display_data"
    }
   ],
   "source": [
    "s=630\n",
    "\n",
    "datapath=\"/home1/07428/binod/stampede_workfolder/fire2/young_stars_data/\"\n",
    "\n",
    "file_name=\"fire2_young_clusters__snapshot_\"+str(s)+\".pkl\"\n",
    "\n",
    "with open(datapath+file_name, \"rb\") as fp:\n",
    "      import_cluster = pickle.load(fp)\n",
    "\n",
    "x=import_cluster[\"x_young\"]\n",
    "y=import_cluster[\"y_young\"]\n",
    "plt.scatter(x,y)\n",
    "\n",
    "print(len(x))\n",
    "\n",
    "for i in range(len(x)):\n",
    "    if(x[i]>20):\n",
    "        print(x[i])\n"
   ]
  },
  {
   "cell_type": "code",
   "execution_count": 20,
   "id": "acdc99de-302e-4f2d-bed4-8d26d2887b42",
   "metadata": {},
   "outputs": [
    {
     "name": "stdout",
     "output_type": "stream",
     "text": [
      "712\n",
      "2172.84440975119\n",
      "117.20121345563915\n",
      "117.20066676122418\n",
      "117.20404131845062\n",
      "117.2002293872469\n",
      "116.96956775985606\n",
      "1068.7433048602913\n",
      "2172.384544784319\n"
     ]
    },
    {
     "data": {
      "image/png": "[encoded data removed]",
      "text/plain": [
       "<Figure size 432x288 with 1 Axes>"
      ]
     },
     "metadata": {
      "needs_background": "light"
     },
     "output_type": "display_data"
    }
   ],
   "source": [
    "s=599\n",
    "\n",
    "datapath=\"/home1/07428/binod/stampede_workfolder/fire2/young_stars_data/\"\n",
    "\n",
    "file_name=\"fire2_young_clusters__snapshot_\"+str(s)+\".pkl\"\n",
    "\n",
    "with open(datapath+file_name, \"rb\") as fp:\n",
    "      import_cluster = pickle.load(fp)\n",
    "\n",
    "x=import_cluster[\"x_young\"]\n",
    "y=import_cluster[\"y_young\"]\n",
    "plt.scatter(x,y)\n",
    "\n",
    "print(len(x))\n",
    "\n",
    "for i in range(len(x)):\n",
    "    if(x[i]>20):\n",
    "        print(x[i])"
   ]
  },
  {
   "cell_type": "code",
   "execution_count": null,
   "id": "d83a5214-e59d-40bd-a1d1-333b2355248f",
   "metadata": {},
   "outputs": [],
   "source": []
  }
 ],
 "metadata": {
  "kernelspec": {
   "display_name": "Python 3",
   "language": "python",
   "name": "python3"
  },
  "language_info": {
   "codemirror_mode": {
    "name": "ipython",
    "version": 3
   },
   "file_extension": ".py",
   "mimetype": "text/x-python",
   "name": "python",
   "nbconvert_exporter": "python",
   "pygments_lexer": "ipython3",
   "version": "3.8.8"
  }
 },
 "nbformat": 4,
 "nbformat_minor": 5
}
