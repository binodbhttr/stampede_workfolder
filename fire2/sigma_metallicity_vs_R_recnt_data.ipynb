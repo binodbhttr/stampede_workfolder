{
 "cells": [
  {
   "cell_type": "markdown",
   "source": [
    "# Cluster 17"
   ],
   "metadata": {}
  },
  {
   "cell_type": "code",
   "execution_count": 1,
   "source": [
    "import gizmo_analysis as gizmo\n",
    "import utilities as ut\n",
    "from matplotlib import pyplot as plt\n",
    "import matplotlib\n",
    "import numpy as np\n",
    "#from mpl_toolkits.mplot3d import Axes3D\n",
    "from sl_utilities import distinct_colours as dc\n",
    "from sl_utilities import distance_functions\n",
    "import os\n",
    "import pickle\n",
    "from fof_analysis import fof"
   ],
   "outputs": [
    {
     "output_type": "stream",
     "name": "stderr",
     "text": [
      "In /home1/07428/binod/anaconda3/lib/python3.7/site-packages/matplotlib/mpl-data/stylelib/_classic_test.mplstyle: \n",
      "The text.latex.preview rcparam was deprecated in Matplotlib 3.3 and will be removed two minor releases later.\n",
      "In /home1/07428/binod/anaconda3/lib/python3.7/site-packages/matplotlib/mpl-data/stylelib/_classic_test.mplstyle: \n",
      "The mathtext.fallback_to_cm rcparam was deprecated in Matplotlib 3.3 and will be removed two minor releases later.\n",
      "In /home1/07428/binod/anaconda3/lib/python3.7/site-packages/matplotlib/mpl-data/stylelib/_classic_test.mplstyle: Support for setting the 'mathtext.fallback_to_cm' rcParam is deprecated since 3.3 and will be removed two minor releases later; use 'mathtext.fallback : 'cm' instead.\n",
      "In /home1/07428/binod/anaconda3/lib/python3.7/site-packages/matplotlib/mpl-data/stylelib/_classic_test.mplstyle: \n",
      "The validate_bool_maybe_none function was deprecated in Matplotlib 3.3 and will be removed two minor releases later.\n",
      "In /home1/07428/binod/anaconda3/lib/python3.7/site-packages/matplotlib/mpl-data/stylelib/_classic_test.mplstyle: \n",
      "The savefig.jpeg_quality rcparam was deprecated in Matplotlib 3.3 and will be removed two minor releases later.\n",
      "In /home1/07428/binod/anaconda3/lib/python3.7/site-packages/matplotlib/mpl-data/stylelib/_classic_test.mplstyle: \n",
      "The keymap.all_axes rcparam was deprecated in Matplotlib 3.3 and will be removed two minor releases later.\n",
      "In /home1/07428/binod/anaconda3/lib/python3.7/site-packages/matplotlib/mpl-data/stylelib/_classic_test.mplstyle: \n",
      "The animation.avconv_path rcparam was deprecated in Matplotlib 3.3 and will be removed two minor releases later.\n",
      "In /home1/07428/binod/anaconda3/lib/python3.7/site-packages/matplotlib/mpl-data/stylelib/_classic_test.mplstyle: \n",
      "The animation.avconv_args rcparam was deprecated in Matplotlib 3.3 and will be removed two minor releases later.\n"
     ]
    }
   ],
   "metadata": {}
  },
  {
   "cell_type": "code",
   "execution_count": 2,
   "source": [
    "!hostname\n",
    "!pwd"
   ],
   "outputs": [
    {
     "output_type": "stream",
     "name": "stdout",
     "text": [
      "c506-091.stampede2.tacc.utexas.edu\n",
      "/home1/07428/binod\n"
     ]
    }
   ],
   "metadata": {}
  },
  {
   "cell_type": "code",
   "execution_count": 3,
   "source": [
    "simname = 'm12i_res7100_mhdcv'\n",
    "simdir = '/scratch/projects/xsede/GalaxiesOnFIRE/cr_suite/m12i_res7100/mhdcv/1Myr/fire2/'\n",
    "simtype=\"fire2\"\n",
    "snapnumber=596\n",
    "snap=snapnumber\n",
    "\n",
    "#data_path=\"/home1/07428/binod/stampede_workfolder/fire2/fire2_data_pkl/\" \n",
    "#gas_datapath=\"/home1/07428/binod/stampede_workfolder/fire2/fire2_gas_data_pkl/\"\n",
    "\n",
    "#gas_file_name=simtype+\"_gas_data\"+str(snapnumber)+\".pkl\"\n",
    "#cluster_data_name=\"all_clusters_at_snapshot_\"+str(snapnumber)+\".pkl\" \n",
    "\n",
    "#############################################################################\n",
    "#constants\n",
    "#############################################################################\n",
    "\n",
    "MsunToGm = 1.99e33\n",
    "KpcToCm = 3.086e21\n",
    "mp = 1.67e-24\n",
    "#bin_edge = 10.\n",
    "bin_edge = 30.\n",
    "\n",
    "bins = np.arange(-5,5,0.1)\n",
    "#bins = np.arange(-25,25,0.1)\n"
   ],
   "outputs": [],
   "metadata": {}
  },
  {
   "cell_type": "markdown",
   "source": [
    "# Extracting age, location and metallicity information for the simulations"
   ],
   "metadata": {}
  },
  {
   "cell_type": "code",
   "execution_count": 4,
   "source": [
    "part=gizmo.io.Read.read_snapshots(['star'],'snapshot_index', snap, simulation_name=simname, simulation_directory=simdir, assign_hosts=True, assign_hosts_rotation=True)               #snap is the snapshot number here that changes everytime the loop iterates. It starts with sanpshot_start\n",
    "\n",
    "age=part['star'].prop('age')\n",
    "x=part['star'].prop('host.distance.principal')[:,0] #x component of the position of all stars \n",
    "y=part['star'].prop('host.distance.principal')[:,1] #y component of the position of all stars\n",
    "z=part['star'].prop('host.distance.principal')[:,2] #z component of the position of all stars\n",
    "Rxy = part['star'].prop('host.distance.principal.cylindrical')[:,0]\n",
    "rxyz     = part['star'].prop('host.distance.total')\n",
    "mass     = part['star'].prop('mass')\n",
    "\n",
    "ids      = part['star'].prop('id')\n",
    "id_child = part['star'].prop('id.child')\n",
    "age      = part['star'].prop('age')\n",
    "\n",
    "feh = part['star'].prop('metallicity.fe')\n",
    "mgh = part['star'].prop('metallicity.mg')"
   ],
   "outputs": [
    {
     "output_type": "stream",
     "name": "stdout",
     "text": [
      "\n",
      "# in utilities.simulation.Snapshot():\n",
      "* reading:  scratch/projects/xsede/GalaxiesOnFIRE/cr_suite/m12i_res7100/mhdcv/1Myr/fire2/snapshot_times.txt\n",
      "\n",
      "  using snapshot index = 596, redshift = 0.007\n",
      "\n",
      "\n",
      "# in gizmo_analysis.gizmo_io.Read():\n",
      "* reading header from:  scratch/projects/xsede/GalaxiesOnFIRE/cr_suite/m12i_res7100/mhdcv/1Myr/fire2/output/snapdir_596/snapshot_596.0.hdf5\n",
      "  snapshot contains the following number of particles:\n",
      "    dark      (id = 1): 70514272 particles\n",
      "    dark2     (id = 2): 5513331 particles\n",
      "    gas       (id = 0): 55685704 particles\n",
      "    star      (id = 4): 15298647 particles\n",
      "    blackhole (id = 5): 0 particles\n",
      "\n",
      "* reading species: ['star']\n",
      "* reading particles from:\n",
      "    snapshot_596.0.hdf5\n",
      "    snapshot_596.1.hdf5\n",
      "    snapshot_596.2.hdf5\n",
      "    snapshot_596.3.hdf5\n",
      "\n",
      "* reading cosmological parameters from:  scratch/projects/xsede/GalaxiesOnFIRE/cr_suite/m12i_res7100/mhdcv/1Myr/fire2/initial_condition/ic_agora_m12i.conf\n",
      "\n",
      "* checking sanity of particle properties\n",
      "! warning: star id.child [min, max] = [0.000, 4.294e9]\n",
      "\n",
      "\n",
      "# in gizmo_analysis.gizmo_track.ParticleCoordinate():\n",
      "  read 1 host (position, velocity, rotation, axis ratios) from:  scratch/projects/xsede/GalaxiesOnFIRE/cr_suite/m12i_res7100/mhdcv/1Myr/fire2/track/host_coordinates.hdf5\n",
      "  host1 position = (41850.223, 44099.113, 46275.023) [kpc comoving]\n",
      "  host1 velocity = (-49.2, 78.8, 92.3) [km / s]\n",
      "  host1 axis ratios = (0.18, 0.19, 0.94)\n",
      "\n"
     ]
    }
   ],
   "metadata": {}
  },
  {
   "cell_type": "code",
   "execution_count": 5,
   "source": [
    "#select young stars within the disk for star clusters\n",
    "keep = np.where((age <= .003) & ((Rxy < 20) & (Rxy>2)) & (abs(z) < 1.5))\n",
    "#to run cluster finding on\n",
    "rxyz0     = rxyz[keep]\n",
    "Rxy0      = Rxy[keep]\n",
    "x0        = x[keep]\n",
    "y0        = y[keep]\n",
    "z0        = z[keep]\n",
    "mass0     = mass[keep]\n",
    "feh0      = feh[keep]\n",
    "mgh0      = mgh[keep]\n",
    "\n",
    "id0       = ids[keep]\n",
    "id_child0 = id_child[keep]\n",
    "age0      = age[keep]"
   ],
   "outputs": [],
   "metadata": {}
  },
  {
   "cell_type": "code",
   "execution_count": 6,
   "source": [
    "linking_length = 0.01 #10 parsec (unit here is in kpc)\n",
    "ncut           = 10 #5 star particles\n",
    "ind, xcm, ycm, zcm, mtot, grpid, r90, r50, rmax =fof.find(x0,y0,z0, b=linking_length, mass=mass0, ncut=ncut)\n",
    "ngroup = len(mtot)"
   ],
   "outputs": [
    {
     "output_type": "stream",
     "name": "stdout",
     "text": [
      "linking length  0.01\n",
      "min number particles in group  10\n",
      "0.10235357284545898 seconds\n",
      "number of groups 16\n",
      "max number in a group 43\n"
     ]
    }
   ],
   "metadata": {}
  },
  {
   "cell_type": "markdown",
   "source": [
    "# Loading cluster data and gas data"
   ],
   "metadata": {}
  },
  {
   "cell_type": "code",
   "execution_count": 7,
   "source": [
    "export_cluster={}\n",
    "for grp_index in range(ngroup):  #iterate over each group\n",
    "    cluster={}\n",
    "    ids_in_cluster = id0[ind[grp_index]]  #these are the star particle ids in each cluster\n",
    "    id_children_in_cluster = id_child0[ind[grp_index]]\n",
    "    age_cluster=age0[ind[grp_index]]\n",
    "    nstar = len(ids_in_cluster)\n",
    "    groupid=grpid[grp_index]\n",
    "    print('------------------------------------------------------------------------------------------------------------------')\n",
    "    print('grpid, nstar, xcm (kpc), ycm (kpc), zcm (kpc), mtot (msun), rmax (pc)')\n",
    "    print('%s     %i     %.4f     %.4f    %.4f     %.2e     %.1f ' % (grpid[grp_index], nstar, xcm[grp_index], ycm[grp_index], zcm[grp_index], mtot[grp_index], 1000*rmax[grp_index]))\n",
    "    print(\"age of stars in the cluster\",age_cluster)\n",
    "    print('ids')\n",
    "    string = '[' \n",
    "    for i in ids_in_cluster:\n",
    "        string = string + str(i) + ', '\n",
    "\n",
    "    #get rid of last extra ,\n",
    "    length = len(string)-2\n",
    "    string = string[0:length] + ']'\n",
    "    print(string)\n",
    "\n",
    "    print('id children')\n",
    "    string = '[' \n",
    "    for i in id_children_in_cluster:\n",
    "        string = string + str(i) + ', '\n",
    "\n",
    "    #get rid of last extra ,\n",
    "    length = len(string)-2\n",
    "    string = string[0:length] + ']'\n",
    "    print(string)\n",
    "    print(\"These are the ids printed\",ids_in_cluster)\n",
    "    #feh_in_cluster=feh0[ind[grp_index]]\n",
    "    #cluster={\"cluster_groupid\":groupid,\"no_of_star\":nstar,\"id\":ids_in_cluster,\"id_children\":id_children_in_cluster,\"xcm\":xcm[grp_index],\"ycm\":ycm[grp_index],\"zcm\":zcm[grp_index],\"mtot\":mtot[grp_index],\"r90\":r90[grp_index],\"r50\":r50[grp_index],\"rmax\":rmax[grp_index],\"x\":x0[ind[grp_index]],\"y\":y0[ind[grp_index]],\"z\":z0[ind[grp_index]],\"age\":age0[ind[grp_index]],\"feh\":feh0[ind[grp_index]],\"mgh\":mgh0[ind[grp_index]],\"ch\":ch0[ind[grp_index]],\"nh\":nh0[ind[grp_index]],\"oh\":oh0[ind[grp_index]],\"neh\":neh0[ind[grp_index]],\"sih\":sih0[ind[grp_index]],\"sh\":sh0[ind[grp_index]],\"cah\":cah0[ind[grp_index]],\"mgfe\":mgfe0[ind[grp_index]],\"ofe\":ofe0[ind[grp_index]],\"sife\":sife0[ind[grp_index]],\"sfe\":sfe0[ind[grp_index]],\"cafe\":cafe0[ind[grp_index]],\"nefe\":nefe0[ind[grp_index]]}\n",
    "    cluster={\"cluster_groupid\":groupid,\"no_of_star\":nstar,\"id\":ids_in_cluster,\"id_children\":id_children_in_cluster,\"xcm\":xcm[grp_index],\"ycm\":ycm[grp_index],\"zcm\":zcm[grp_index],\"mtot\":mtot[grp_index],\"r90\":r90[grp_index],\"r50\":r50[grp_index],\"rmax\":rmax[grp_index],\"x\":x0[ind[grp_index]],\"y\":y0[ind[grp_index]],\"z\":z0[ind[grp_index]],\"age\":age0[ind[grp_index]],\"feh\":feh0[ind[grp_index]],\"mgh\":mgh0[ind[grp_index]]}\n",
    "\n",
    "    export_cluster.update({groupid:cluster})\n"
   ],
   "outputs": [
    {
     "output_type": "stream",
     "name": "stdout",
     "text": [
      "------------------------------------------------------------------------------------------------------------------\n",
      "grpid, nstar, xcm (kpc), ycm (kpc), zcm (kpc), mtot (msun), rmax (pc)\n",
      "1     43     -6.0073     6.0728    0.1123     4.95e+05     14.0 \n",
      "age of stars in the cluster [2.24651479e-04 8.28341143e-04 1.34115589e-03 3.98085611e-04\n",
      " 9.12414719e-05 1.52109695e-04 1.57946382e-04 8.28341143e-04\n",
      " 1.05431180e-03 2.24651479e-04 2.13811888e-04 2.34657260e-04\n",
      " 3.98085611e-04 3.78073916e-04 9.10891061e-04 6.84921765e-04\n",
      " 1.40202732e-03 5.41503254e-04 1.95571435e-03 7.46625344e-04\n",
      " 1.11252925e-04 8.04019418e-05 1.52109695e-04 1.13602866e-03\n",
      " 5.21491438e-04 1.38201478e-03 8.69440557e-06 1.72955012e-04\n",
      " 5.62348914e-04 3.88079761e-04 1.50459187e-03 1.62800345e-03\n",
      " 2.54668835e-04 1.01247196e-04 6.03905145e-05 8.04019418e-05\n",
      " 1.95339030e-05 1.22092469e-04 1.62949258e-04 1.72955012e-04\n",
      " 2.34657260e-04 2.95395972e-05 1.25860448e-03]\n",
      "ids\n",
      "[21964074, 13285005, 30978536, 68630449, 45857179, 47786639, 57702149, 19618367, 15329324, 34194763, 47378181, 13826769, 59570031, 40986229, 8908953, 19549744, 47837702, 22810807, 29187485, 15137299, 37115631, 61430465, 16546558, 36814748, 34745906, 14417153, 55390648, 16401221, 26360923, 20640400, 13409766, 7530384, 19930456, 18125528, 24685347, 27644515, 24071454, 22664528, 35943583, 26608080, 13890784, 40596381, 60695413]\n",
      "id children\n",
      "[0, 0, 0, 0, 0, 0, 0, 0, 0, 0, 0, 0, 0, 0, 1, 0, 0, 1, 0, 1, 0, 0, 0, 0, 0, 0, 0, 0, 0, 0, 0, 0, 0, 0, 0, 0, 0, 0, 0, 0, 0, 0, 0]\n",
      "These are the ids printed [21964074 13285005 30978536 68630449 45857179 47786639 57702149 19618367\n",
      " 15329324 34194763 47378181 13826769 59570031 40986229  8908953 19549744\n",
      " 47837702 22810807 29187485 15137299 37115631 61430465 16546558 36814748\n",
      " 34745906 14417153 55390648 16401221 26360923 20640400 13409766  7530384\n",
      " 19930456 18125528 24685347 27644515 24071454 22664528 35943583 26608080\n",
      " 13890784 40596381 60695413]\n",
      "------------------------------------------------------------------------------------------------------------------\n",
      "grpid, nstar, xcm (kpc), ycm (kpc), zcm (kpc), mtot (msun), rmax (pc)\n",
      "2     40     -5.9301     5.9179    -0.0535     4.74e+05     23.2 \n",
      "age of stars in the cluster [0.0015663  0.00193487 0.00117689 0.00201742 0.00173057 0.001884\n",
      " 0.00106432 0.00082834 0.00170972 0.00140203 0.00105431 0.00164301\n",
      " 0.00177143 0.00187399 0.00197573 0.00111518 0.00168888 0.00165886\n",
      " 0.00224257 0.00205828 0.001628   0.00180228 0.0015763  0.00163801\n",
      " 0.00261115 0.00159715 0.00145373 0.00293887 0.00198657 0.00199657\n",
      " 0.00173057 0.00066491 0.00145373 0.00257029 0.00152544 0.00138201\n",
      " 0.00220171 0.00195571 0.00039809 0.00011125]\n",
      "ids\n",
      "[46786008, 6860778, 20107439, 49550991, 13027098, 22977173, 39704303, 10198043, 24799333, 24417344, 7002081, 27712015, 43323314, 45046197, 17769166, 27255123, 61338518, 43727962, 8567404, 13560518, 60115939, 18130738, 19163283, 31087189, 31237355, 43507221, 46756910, 67267822, 40474883, 37713207, 14623897, 33161748, 28443331, 58175346, 25315569, 19222307, 39278483, 56718637, 35909616, 12306432]\n",
      "id children\n",
      "[0, 0, 0, 0, 0, 0, 0, 0, 0, 0, 0, 0, 0, 1, 0, 0, 0, 0, 0, 0, 0, 0, 0, 0, 0, 0, 0, 0, 0, 0, 0, 0, 0, 0, 0, 0, 1, 0, 0, 0]\n",
      "These are the ids printed [46786008  6860778 20107439 49550991 13027098 22977173 39704303 10198043\n",
      " 24799333 24417344  7002081 27712015 43323314 45046197 17769166 27255123\n",
      " 61338518 43727962  8567404 13560518 60115939 18130738 19163283 31087189\n",
      " 31237355 43507221 46756910 67267822 40474883 37713207 14623897 33161748\n",
      " 28443331 58175346 25315569 19222307 39278483 56718637 35909616 12306432]\n",
      "------------------------------------------------------------------------------------------------------------------\n",
      "grpid, nstar, xcm (kpc), ycm (kpc), zcm (kpc), mtot (msun), rmax (pc)\n",
      "3     30     -5.8539     -4.3099    -0.0181     3.37e+05     22.6 \n",
      "age of stars in the cluster [0.00062405 0.00117689 0.00186816 0.00048063 0.0012586  0.00109517\n",
      " 0.0012586  0.00080833 0.00103347 0.00158714 0.00117689 0.0016822\n",
      " 0.001889   0.00176976 0.00176893 0.00176226 0.00176226 0.00168637\n",
      " 0.0017806  0.00183647 0.00136117 0.00119773 0.00126944 0.00196239\n",
      " 0.00113603 0.00033472 0.00203076 0.00200158 0.00205578 0.00064406]\n",
      "ids\n",
      "[62790620, 7971613, 7124981, 18458607, 46845465, 49310711, 31817459, 59750126, 9713924, 17360972, 32610269, 20288913, 57213856, 49330677, 26809768, 60575512, 28960278, 54310013, 39824972, 52141811, 26483755, 19726841, 14889399, 65726832, 22337018, 29403687, 33733805, 19317441, 64701671, 49292708]\n",
      "id children\n",
      "[0, 0, 0, 0, 0, 0, 0, 0, 0, 0, 0, 0, 0, 0, 0, 0, 0, 0, 0, 0, 0, 0, 0, 0, 0, 0, 0, 0, 0, 0]\n",
      "These are the ids printed [62790620  7971613  7124981 18458607 46845465 49310711 31817459 59750126\n",
      "  9713924 17360972 32610269 20288913 57213856 49330677 26809768 60575512\n",
      " 28960278 54310013 39824972 52141811 26483755 19726841 14889399 65726832\n",
      " 22337018 29403687 33733805 19317441 64701671 49292708]\n",
      "------------------------------------------------------------------------------------------------------------------\n",
      "grpid, nstar, xcm (kpc), ycm (kpc), zcm (kpc), mtot (msun), rmax (pc)\n",
      "4     18     1.4592     -9.0036    -0.1461     2.22e+05     22.1 \n",
      "age of stars in the cluster [0.00076747 0.00048063 0.00031637 0.00017296 0.00060321 0.00050065\n",
      " 0.00064406 0.00017296 0.0001938  0.00056235 0.00048063 0.0005415\n",
      " 0.00082834 0.00060321 0.0009309  0.0009309  0.00109517 0.00048063]\n",
      "ids\n",
      "[14414590, 25582478, 11997460, 60576906, 62206937, 68561855, 26587754, 8663530, 17366528, 61955348, 63176870, 51426856, 24502113, 42011761, 18399794, 45167926, 65324916, 41979164]\n",
      "id children\n",
      "[0, 1, 0, 0, 0, 0, 0, 0, 0, 0, 0, 0, 0, 0, 0, 0, 0, 0]\n",
      "These are the ids printed [14414590 25582478 11997460 60576906 62206937 68561855 26587754  8663530\n",
      " 17366528 61955348 63176870 51426856 24502113 42011761 18399794 45167926\n",
      " 65324916 41979164]\n",
      "------------------------------------------------------------------------------------------------------------------\n",
      "grpid, nstar, xcm (kpc), ycm (kpc), zcm (kpc), mtot (msun), rmax (pc)\n",
      "5     17     -5.7997     4.8623    -0.1497     2.10e+05     15.6 \n",
      "age of stars in the cluster [0.00272373 0.00270371 0.00285715 0.00281629 0.00288801 0.00269287\n",
      " 0.00299058 0.00280628 0.00248857 0.00252943 0.00269287 0.00270371\n",
      " 0.00228343 0.00252943 0.00177143 0.002642   0.00285715]\n",
      "ids\n",
      "[61681120, 19786554, 34568294, 9334324, 18409418, 25656472, 30337539, 14700993, 26209741, 29950309, 64076045, 20094025, 61782811, 11321017, 17577398, 41690646, 65713053]\n",
      "id children\n",
      "[0, 0, 0, 0, 0, 0, 0, 0, 0, 0, 0, 0, 0, 0, 0, 0, 0]\n",
      "These are the ids printed [61681120 19786554 34568294  9334324 18409418 25656472 30337539 14700993\n",
      " 26209741 29950309 64076045 20094025 61782811 11321017 17577398 41690646\n",
      " 65713053]\n",
      "------------------------------------------------------------------------------------------------------------------\n",
      "grpid, nstar, xcm (kpc), ycm (kpc), zcm (kpc), mtot (msun), rmax (pc)\n",
      "6     16     1.4162     -5.8908    0.0395     1.97e+05     24.7 \n",
      "age of stars in the cluster [0.00133032 0.00175058 0.00146373 0.00166886 0.00220171 0.00138201\n",
      " 0.00154545 0.00207829 0.00109517 0.00175058 0.00048063 0.00064406\n",
      " 0.00191485 0.00277543 0.00166886 0.00187399]\n",
      "ids\n",
      "[23888142, 56861081, 58480800, 11231257, 28903083, 37862951, 40452866, 61784408, 29181244, 40083411, 65407874, 10938043, 24967274, 51540307, 28523925, 30493413]\n",
      "id children\n",
      "[0, 0, 0, 0, 0, 0, 0, 0, 0, 0, 0, 0, 0, 1, 0, 0]\n",
      "These are the ids printed [23888142 56861081 58480800 11231257 28903083 37862951 40452866 61784408\n",
      " 29181244 40083411 65407874 10938043 24967274 51540307 28523925 30493413]\n",
      "------------------------------------------------------------------------------------------------------------------\n",
      "grpid, nstar, xcm (kpc), ycm (kpc), zcm (kpc), mtot (msun), rmax (pc)\n",
      "7     15     -5.7459     -4.5006    -0.2751     1.54e+05     20.4 \n",
      "age of stars in the cluster [0.00221672 0.00228343 0.00134116 0.001628   0.00257029 0.00214\n",
      " 0.00254944 0.00267286 0.00201742 0.00291636 0.00150459 0.00221172\n",
      " 0.00250858 0.00142287 0.00214   ]\n",
      "ids\n",
      "[24591021, 26434291, 21993241, 15940208, 8945136, 19516955, 10068334, 7692300, 16031828, 59301406, 50866627, 8677736, 23900310, 30728899, 37067335]\n",
      "id children\n",
      "[0, 1, 0, 0, 1287616337, 0, 0, 0, 0, 0, 0, 0, 0, 0, 0]\n",
      "These are the ids printed [24591021 26434291 21993241 15940208  8945136 19516955 10068334  7692300\n",
      " 16031828 59301406 50866627  8677736 23900310 30728899 37067335]\n",
      "------------------------------------------------------------------------------------------------------------------\n",
      "grpid, nstar, xcm (kpc), ycm (kpc), zcm (kpc), mtot (msun), rmax (pc)\n",
      "8     14     10.1850     -8.2242    0.0986     1.37e+05     17.9 \n",
      "age of stars in the cluster [0.00254944 0.002632   0.002878   0.00293887 0.00257029 0.00203743\n",
      " 0.00294388 0.00244771 0.00265201 0.00179144 0.00279544 0.00267286\n",
      " 0.00222172 0.00284714]\n",
      "ids\n",
      "[7620560, 64973359, 37115634, 22018460, 57048199, 64336462, 11396756, 15963144, 5078452, 38480512, 51251614, 41238223, 56558892, 29262007]\n",
      "id children\n",
      "[0, 0, 0, 0, 0, 0, 0, 0, 0, 0, 0, 1, 0, 0]\n",
      "These are the ids printed [ 7620560 64973359 37115634 22018460 57048199 64336462 11396756 15963144\n",
      "  5078452 38480512 51251614 41238223 56558892 29262007]\n",
      "------------------------------------------------------------------------------------------------------------------\n",
      "grpid, nstar, xcm (kpc), ycm (kpc), zcm (kpc), mtot (msun), rmax (pc)\n",
      "9     14     -2.0068     3.6603    -0.0735     1.78e+05     14.1 \n",
      "age of stars in the cluster [7.03962261e-05 2.96359668e-04 8.90045095e-04 1.01345348e-03\n",
      " 2.96359668e-04 8.90045095e-04 4.39776697e-04 6.84921765e-04\n",
      " 9.71761387e-04 3.37216757e-04 8.08329084e-04 1.87399467e-03\n",
      " 5.83194592e-04 2.40601152e-03]\n",
      "ids\n",
      "[44278931, 62150715, 61381345, 32775523, 38889490, 46063489, 40301127, 35894155, 28601221, 58516713, 33960741, 19309413, 9202538, 55098896]\n",
      "id children\n",
      "[0, 0, 0, 0, 4, 0, 0, 0, 3, 0, 0, 0, 0, 0]\n",
      "These are the ids printed [44278931 62150715 61381345 32775523 38889490 46063489 40301127 35894155\n",
      " 28601221 58516713 33960741 19309413  9202538 55098896]\n",
      "------------------------------------------------------------------------------------------------------------------\n",
      "grpid, nstar, xcm (kpc), ycm (kpc), zcm (kpc), mtot (msun), rmax (pc)\n",
      "10     13     -6.5248     -2.9507    0.0904     1.38e+05     16.0 \n",
      "age of stars in the cluster [0.00048063 0.00025467 0.00045979 0.00072661 0.00027551 0.00048564\n",
      " 0.00080833 0.00021381 0.00052149 0.00082834 0.00023466 0.00121775\n",
      " 0.00021381]\n",
      "ids\n",
      "[25231225, 17389810, 21914606, 13335905, 24792646, 40099929, 22286505, 40898384, 46797648, 49890842, 28973299, 46010056, 22861758]\n",
      "id children\n",
      "[0, 0, 0, 0, 0, 0, 0, 0, 0, 1, 0, 1, 0]\n",
      "These are the ids printed [25231225 17389810 21914606 13335905 24792646 40099929 22286505 40898384\n",
      " 46797648 49890842 28973299 46010056 22861758]\n",
      "------------------------------------------------------------------------------------------------------------------\n",
      "grpid, nstar, xcm (kpc), ycm (kpc), zcm (kpc), mtot (msun), rmax (pc)\n",
      "11     12     -6.3121     -1.2064    0.1527     1.61e+05     14.9 \n",
      "age of stars in the cluster [0.0018323  0.00199657 0.00228343 0.00234514 0.00220171 0.00160716\n",
      " 0.00173057 0.001628   0.00140203 0.00252943 0.00113603 0.0012586 ]\n",
      "ids\n",
      "[43004516, 30110818, 27128824, 32774816, 66212089, 40676850, 9423734, 25677879, 39796477, 9311440, 13565575, 49261332]\n",
      "id children\n",
      "[0, 0, 0, 0, 0, 1, 0, 0, 0, 0, 0, 0]\n",
      "These are the ids printed [43004516 30110818 27128824 32774816 66212089 40676850  9423734 25677879\n",
      " 39796477  9311440 13565575 49261332]\n",
      "------------------------------------------------------------------------------------------------------------------\n",
      "grpid, nstar, xcm (kpc), ycm (kpc), zcm (kpc), mtot (msun), rmax (pc)\n",
      "12     12     -5.9456     -5.1921    -0.2855     1.32e+05     17.4 \n",
      "age of stars in the cluster [0.00293887 0.00195571 0.00193487 0.00175058 0.00179144 0.00175058\n",
      " 0.00177143 0.00224257 0.002386   0.00295972 0.00222172 0.00244771]\n",
      "ids\n",
      "[18388142, 63578704, 44268673, 10655268, 43303626, 17172923, 57089958, 52232893, 9936869, 35268007, 21988266, 24240638]\n",
      "id children\n",
      "[0, 0, 0, 0, 0, 0, 0, 0, 0, 0, 0, 0]\n",
      "These are the ids printed [18388142 63578704 44268673 10655268 43303626 17172923 57089958 52232893\n",
      "  9936869 35268007 21988266 24240638]\n",
      "------------------------------------------------------------------------------------------------------------------\n",
      "grpid, nstar, xcm (kpc), ycm (kpc), zcm (kpc), mtot (msun), rmax (pc)\n",
      "13     12     -0.3326     3.9958    -0.2636     1.63e+05     10.9 \n",
      "age of stars in the cluster [0.00064406 0.00111518 0.00105431 0.00064406 0.00175058 0.00150459\n",
      " 0.00134116 0.00064406 0.0001938  0.00117689 0.00045979 0.00080833]\n",
      "ids\n",
      "[60827496, 44655548, 47620536, 28024580, 16073975, 42378738, 59086088, 25868858, 40042597, 21203311, 59814771, 32188347]\n",
      "id children\n",
      "[0, 0, 0, 0, 0, 0, 0, 0, 0, 0, 0, 0]\n",
      "These are the ids printed [60827496 44655548 47620536 28024580 16073975 42378738 59086088 25868858\n",
      " 40042597 21203311 59814771 32188347]\n",
      "------------------------------------------------------------------------------------------------------------------\n",
      "grpid, nstar, xcm (kpc), ycm (kpc), zcm (kpc), mtot (msun), rmax (pc)\n",
      "14     11     10.1481     -8.1736    0.1102     1.27e+05     9.7 \n",
      "age of stars in the cluster [0.00203743 0.00179144 0.00174058 0.00205828 0.00232429 0.00177143\n",
      " 0.00187399 0.00193487 0.00148458 0.00142287 0.00184064]\n",
      "ids\n",
      "[17499835, 35239115, 37509533, 64637611, 23208118, 29571652, 48134396, 15811901, 63687208, 13175404, 61260333]\n",
      "id children\n",
      "[0, 0, 0, 0, 0, 0, 0, 0, 0, 0, 0]\n",
      "These are the ids printed [17499835 35239115 37509533 64637611 23208118 29571652 48134396 15811901\n",
      " 63687208 13175404 61260333]\n",
      "------------------------------------------------------------------------------------------------------------------\n",
      "grpid, nstar, xcm (kpc), ycm (kpc), zcm (kpc), mtot (msun), rmax (pc)\n",
      "15     11     -4.9704     2.2625    -0.0319     1.37e+05     9.2 \n",
      "age of stars in the cluster [5.21491438e-04 3.95452957e-05 1.42103949e-04 2.03806116e-04\n",
      " 5.62348914e-04 3.78073916e-04 2.85520045e-04 3.16371295e-04\n",
      " 2.54668835e-04 9.12414719e-05 5.03848072e-05]\n",
      "ids\n",
      "[30910337, 15652649, 55258526, 20688675, 54201603, 64689772, 16402683, 18149141, 19004040, 50670745, 19283629]\n",
      "id children\n",
      "[0, 0, 0, 0, 0, 0, 0, 0, 0, 0, 1]\n",
      "These are the ids printed [30910337 15652649 55258526 20688675 54201603 64689772 16402683 18149141\n",
      " 19004040 50670745 19283629]\n",
      "------------------------------------------------------------------------------------------------------------------\n",
      "grpid, nstar, xcm (kpc), ycm (kpc), zcm (kpc), mtot (msun), rmax (pc)\n",
      "16     11     1.8683     12.7883    -0.4698     1.22e+05     12.9 \n",
      "age of stars in the cluster [0.00179144 0.00173057 0.00297974 0.00190401 0.00203743 0.00190401\n",
      " 0.00228343 0.00109517 0.00084919 0.00250858 0.00220171]\n",
      "ids\n",
      "[20968098, 18482246, 21305841, 67268150, 26541835, 9887543, 62220877, 36062363, 62819189, 6666220, 16732073]\n",
      "id children\n",
      "[0, 0, 0, 0, 0, 0, 0, 0, 0, 0, 0]\n",
      "These are the ids printed [20968098 18482246 21305841 67268150 26541835  9887543 62220877 36062363\n",
      " 62819189  6666220 16732073]\n"
     ]
    }
   ],
   "metadata": {}
  },
  {
   "cell_type": "code",
   "execution_count": 8,
   "source": [
    "cluster_group=1\n",
    "export_cluster[cluster_group].keys()"
   ],
   "outputs": [
    {
     "output_type": "execute_result",
     "data": {
      "text/plain": [
       "dict_keys(['cluster_groupid', 'no_of_star', 'id', 'id_children', 'xcm', 'ycm', 'zcm', 'mtot', 'r90', 'r50', 'rmax', 'x', 'y', 'z', 'age', 'feh', 'mgh'])"
      ]
     },
     "metadata": {},
     "execution_count": 8
    }
   ],
   "metadata": {}
  },
  {
   "cell_type": "code",
   "execution_count": 9,
   "source": [
    "ind=export_cluster[1][\"feh\"]\n",
    "print(feh)\n",
    "print(export_cluster[1][\"x\"])\n",
    "print(export_cluster[1][\"r90\"])\n"
   ],
   "outputs": [
    {
     "output_type": "stream",
     "name": "stdout",
     "text": [
      "[-2.0814083 -1.21252   -1.3928102 ... -1.169801  -1.2236117 -1.7191033]\n",
      "[-6.00307966 -6.00349799 -5.99988107 -6.00310962 -6.0017005  -6.00654862\n",
      " -6.00698674 -6.00554434 -6.0050974  -6.00808298 -6.00762546 -6.00812528\n",
      " -6.01068292 -6.00328777 -6.00619153 -6.00745984 -6.00777392 -6.00678715\n",
      " -6.0006055  -6.00562482 -6.00646929 -6.00540532 -6.00503285 -6.00668641\n",
      " -6.00979852 -6.00419566 -6.00853963 -6.00964962 -6.0024964  -6.00964411\n",
      " -6.01415946 -6.0062386  -6.00951576 -6.00939451 -6.01092185 -6.01307867\n",
      " -6.00950509 -6.00960962 -6.00954438 -6.00964288 -6.01100886 -6.01159239\n",
      " -6.01534861]\n",
      "0.009604226707545014\n"
     ]
    }
   ],
   "metadata": {}
  },
  {
   "cell_type": "markdown",
   "source": [
    "# Locating the CM of the cluster"
   ],
   "metadata": {}
  },
  {
   "cell_type": "code",
   "execution_count": 10,
   "source": [
    "xcm=export_cluster[cluster_group][\"xcm\"]\n",
    "ycm=export_cluster[cluster_group][\"ycm\"]\n",
    "print(\"The cluster is located at:\",(xcm,ycm))\n",
    "radius=((xcm)**2+(ycm)**2)**(1/2)\n",
    "print(\"The cluster CM is at radius: \",radius)\n",
    "\n",
    "circle_radius=((x-xcm)**2+(y-ycm)**2)**(1/2)\n",
    "print(len(circle_radius))\n",
    "\n",
    "cm_R=list()\n",
    "for i in export_cluster:\n",
    "    xcm=export_cluster[i][\"xcm\"]\n",
    "    ycm=export_cluster[i][\"ycm\"]\n",
    "    radius=((xcm)**2+(ycm)**2)**(1/2)\n",
    "    cm_R.append(radius)\n",
    "    \n",
    "\n",
    "print(cm_R)\n"
   ],
   "outputs": [
    {
     "output_type": "stream",
     "name": "stdout",
     "text": [
      "The cluster is located at: (-6.007335501751587, 6.072812012658155)\n",
      "The cluster CM is at radius:  8.542079698275485\n",
      "15298647\n",
      "[8.542079698275485, 8.377818342008291, 7.269312278960123, 9.121051204780578, 7.568216071203412, 6.05867245602863, 7.298719833188445, 13.090947848338857, 4.174343238454306, 7.160994715543686, 6.426306455847568, 7.8935588338106015, 4.009661754254098, 13.030381289833587, 5.461061312766238, 12.924026626242185]\n"
     ]
    }
   ],
   "metadata": {}
  },
  {
   "cell_type": "code",
   "execution_count": 42,
   "source": [
    "region=np.linspace(1,20,20)/10\n",
    "print(region)\n",
    "print(cluster_group)\n"
   ],
   "outputs": [
    {
     "output_type": "stream",
     "name": "stdout",
     "text": [
      "[0.1 0.2 0.3 0.4 0.5 0.6 0.7 0.8 0.9 1.  1.1 1.2 1.3 1.4 1.5 1.6 1.7 1.8\n",
      " 1.9 2. ]\n",
      "1\n"
     ]
    }
   ],
   "metadata": {}
  },
  {
   "cell_type": "code",
   "execution_count": 70,
   "source": [
    "import matplotlib.pyplot as plt \n",
    "import matplotlib.colors as colors\n",
    "\n",
    "cmap = plt.cm.get_cmap('bwr')\n",
    "#cmap = matplotlib.cm.get_cmap('bwr')\n",
    "print(cmap)\n",
    "rgba = cmap(0.9)\n",
    "print(rgba)\n",
    "clr=colors.rgb2hex(rgba)\n",
    "print(clr)\n",
    "\n",
    "\n",
    "def gen_color(see_map,n):\n",
    "    '''Generates n distinct color from a given colormap%%!\n",
    "    Returns: a list with hex values of colors\n",
    "    '''\n",
    "    cmap = plt.cm.get_cmap(str(see_map)) # select the desired cmap\n",
    "    arr=np.linspace(0,1,n) #create a list with numbers from 0 to 1 with n items\n",
    "    colorlist=list()\n",
    "    for c in arr:\n",
    "        rgba=cmap(c) #select the rgba value of the cmap at point c which is a number between 0 to 1\n",
    "        clr=colors.rgb2hex(rgba) #convert to hex\n",
    "        colorlist.append(str(clr)) # create a list of these colors\n",
    "    return colorlist\n",
    "\n",
    "\n",
    "def gen_color_normalized(see_map,data_arr):\n",
    "    '''Generates n distinct color from a given colormap for a an array with data\n",
    "    Returns: a list with hex values of colors\n",
    "    '''\n",
    "    cmap = plt.cm.get_cmap(str(see_map)) # select the desired cmap\n",
    "    data_min=np.min(data_arr)\n",
    "    data_max=np.max(data_arr)\n",
    "    \n",
    "    colorlist=list()\n",
    "    for c in data_arr:\n",
    "        norm=(c-data_min)/(data_max-data_min)*0.99\n",
    "        rgba=cmap(norm) #select the rgba value of the cmap at point c which is a number between 0 to 1\n",
    "        clr=colors.rgb2hex(rgba) #convert to hex\n",
    "        colorlist.append(str(clr)) # create a list of these colors\n",
    "    return colorlist\n",
    "\n",
    "\n",
    "\n",
    "\n",
    "c_list=gen_color(\"bwr\",16)\n",
    "\n",
    "normalized_c_list=gen_color_normalized(\"coolwarm\",cm_R)\n",
    "\n",
    "\n",
    "plt.scatter(2,3,c=normalized_c_list[12],marker=\"^\",s=400)\n",
    "\n",
    "print(cm_R)\n",
    "print(cm_R[7])\n"
   ],
   "outputs": [
    {
     "output_type": "stream",
     "name": "stdout",
     "text": [
      "<matplotlib.colors.LinearSegmentedColormap object at 0x2b5d18bc8110>\n",
      "(1.0, 0.196078431372549, 0.196078431372549, 1.0)\n",
      "#ff3232\n",
      "[8.542079698275485, 8.377818342008291, 7.269312278960123, 9.121051204780578, 7.568216071203412, 6.05867245602863, 7.298719833188445, 13.090947848338857, 4.174343238454306, 7.160994715543686, 6.426306455847568, 7.8935588338106015, 4.009661754254098, 13.030381289833587, 5.461061312766238, 12.924026626242185]\n",
      "13.090947848338857\n"
     ]
    },
    {
     "output_type": "display_data",
     "data": {
      "image/png": "[encoded data removed]",
      "text/plain": [
       "<Figure size 432x288 with 1 Axes>"
      ]
     },
     "metadata": {
      "needs_background": "light"
     }
    }
   ],
   "metadata": {}
  },
  {
   "cell_type": "code",
   "execution_count": 29,
   "source": [
    "colors=['cyan','blue','green','magenta','yellow','teal','brown','darkslategray','lime','red','orange','purple','rosybrown','pink','navy','olive','cornflowerblue','blueviolet','darkgreen'] #19 colors\n",
    "fig1=plt.figure()\n",
    "ax=fig1.add_subplot(212)\n",
    "ax0=fig1.add_subplot(211)\n",
    "\n",
    "for cluster_group in export_cluster:\n",
    "    sigma_f=list()\n",
    "    mean_f=list()\n",
    "    xcm=export_cluster[cluster_group][\"xcm\"]\n",
    "    ycm=export_cluster[cluster_group][\"ycm\"]\n",
    "    r90_cluster=export_cluster[cluster_group][\"r90\"]\n",
    "    cluster_feh=export_cluster[cluster_group][\"feh\"]\n",
    "    cluster_feh_sigma=np.std(cluster_feh)\n",
    "    radius=((xcm)**2+(ycm)**2)**(1/2)\n",
    "    #print(\"The cluster CM is at radius: \",round(radius,2))\n",
    "    circle_radius=((x-xcm)**2+(y-ycm)**2)**(1/2)\n",
    "    for r in region:\n",
    "        keep = np.where((age <= .003) & (circle_radius<=r) & (abs(z) < 1.5))\n",
    "        feh_region=feh[keep]\n",
    "        sigma_feh_region=np.std(feh_region)\n",
    "        mean_feh_region=np.mean(feh_region)\n",
    "        sigma_f.append(sigma_feh_region)\n",
    "        mean_f.append(mean_feh_region)\n",
    "\n",
    "    #print(sigma_f)\n",
    "    nstar=len(export_cluster[cluster_group][\"x\"])\n",
    "    label_text=r\"n$_{star}$=\"+str(nstar)+r\" R$_{CM}$=\"+str(round(radius,2))\n",
    "    ax.plot(region,sigma_f,label=label_text,c=colors[cluster_group-1])\n",
    "    ax0.plot(region,mean_f,label=label_text,c=colors[cluster_group-1])\n",
    "\n",
    "    #ax.scatter(r90_cluster,cluster_feh_sigma,marker=\"*\",c=colors[cluster_group-1])\n",
    "\n",
    "ax.set_xlabel(\"R (kpc)\")\n",
    "ax.set_ylabel(r\"$\\sigma$ [Fe/H]\")\n",
    "ax.minorticks_on()\n",
    "ax.legend(bbox_to_anchor=(1,0.5), loc='center left')\n",
    "\n",
    "ax0.set_title(\"Clusters at Snapshot \"+str(snapnumber))\n",
    "#ax0.set_xlabel(\"R (kpc)\")\n",
    "ax0.set_ylabel(r\"$Mean$ [Fe/H]\")\n",
    "ax0.minorticks_on()\n",
    "fig1.savefig(\"sigma_feh_region_new_data.jpg\",bbox_inches='tight',dpi=200)\n",
    "plt.show()"
   ],
   "outputs": [
    {
     "output_type": "display_data",
     "data": {
      "image/png": "[encoded data removed]",
      "text/plain": [
       "<Figure size 432x288 with 2 Axes>"
      ]
     },
     "metadata": {
      "needs_background": "light"
     }
    }
   ],
   "metadata": {}
  },
  {
   "cell_type": "markdown",
   "source": [
    "# Mgh"
   ],
   "metadata": {}
  },
  {
   "cell_type": "code",
   "execution_count": null,
   "source": [
    "colors=['cyan','blue','green','magenta','yellow','teal','brown','darkslategray','lime','red','orange','purple','rosybrown','pink','navy','olive','cornflowerblue','blueviolet','darkgreen'] #19 colors\n",
    "fig1=plt.figure()\n",
    "ax=fig1.add_subplot(111)\n",
    "\n",
    "for cluster_group in export_cluster:\n",
    "    sigma_mgh=list()\n",
    "    xcm=export_cluster[cluster_group][\"xcm\"]\n",
    "    ycm=export_cluster[cluster_group][\"ycm\"]\n",
    "    r90_cluster=export_cluster[cluster_group][\"r90\"]\n",
    "    cluster_mgh=export_cluster[cluster_group][\"mgh\"]\n",
    "    cluster_mgh_sigma=np.std(cluster_mgh)\n",
    "    radius=((xcm)**2+(ycm)**2)**(1/2)\n",
    "    print(\"The cluster CM is at radius: \",radius)\n",
    "    circle_radius=((x-xcm)**2+(y-ycm)**2)**(1/2)\n",
    "    for r in region:\n",
    "        keep = np.where((age <= .003) & (circle_radius<=r) & (abs(z) < 1.5))\n",
    "        mgh_region=mgh[keep]\n",
    "        sigma_mgh_region=np.std(mgh_region)\n",
    "        sigma_mgh.append(sigma_mgh_region)\n",
    "\n",
    "    #print(sigma_mgh)\n",
    "    nstar=len(export_cluster[cluster_group][\"x\"])\n",
    "    label_text=r\"n$_{star}$=\"+str(nstar)+r\" R$_{CM}$=\"+str(round(radius,2))\n",
    "    ax.plot(region,sigma_mgh,label=label_text,c=colors[cluster_group-1])\n",
    "    #ax.scatter(r90_cluster,cluster_mgh_sigma,marker=\"*\",c=colors[cluster_group-1])\n",
    "\n",
    "ax.set_xlabel(\"R (kpc)\")\n",
    "ax.set_ylabel(r\"$\\sigma$ [Mg/H]\")\n",
    "ax.minorticks_on()\n",
    "ax.legend(bbox_to_anchor=(1,0.5), loc='center left')\n",
    "ax.set_title(\"Clusters at Snapshot \"+str(snapnumber))\n",
    "fig1.savefig(\"sigma_mgh_region_new_data.jpg\",bbox_inches='tight',dpi=200)"
   ],
   "outputs": [],
   "metadata": {}
  },
  {
   "cell_type": "code",
   "execution_count": null,
   "source": [],
   "outputs": [],
   "metadata": {}
  }
 ],
 "metadata": {
  "kernelspec": {
   "display_name": "Python 3",
   "language": "python",
   "name": "python3"
  },
  "language_info": {
   "name": "python",
   "version": "3.7.6",
   "mimetype": "text/x-python",
   "codemirror_mode": {
    "name": "ipython",
    "version": 3
   },
   "pygments_lexer": "ipython3",
   "nbconvert_exporter": "python",
   "file_extension": ".py"
  }
 },
 "nbformat": 4,
 "nbformat_minor": 4
}