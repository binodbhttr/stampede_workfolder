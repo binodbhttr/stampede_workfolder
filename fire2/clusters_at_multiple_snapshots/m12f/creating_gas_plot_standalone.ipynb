{
 "cells": [
  {
   "cell_type": "code",
   "execution_count": null,
   "id": "b51759cd-98ab-4f66-8e77-f27148b40a69",
   "metadata": {},
   "outputs": [],
   "source": [
    "#This file is designed to export gas data of the snapshots into a file that can be used to create plots with gas in the background\n",
    "import numpy as np\n",
    "from mpl_toolkits.mplot3d import Axes3D\n",
    "import os\n",
    "import pickle\n",
    "import matplotlib\n",
    "import matplotlib.colors as colors\n",
    "import gizmo_analysis as gizmo\n",
    "import astropy\n",
    "from astropy.io import ascii\n",
    "#############################################################################\n",
    "#constants\n",
    "#############################################################################\n",
    "MsunToGm = 1.99e33\n",
    "KpcToCm = 3.086e21\n",
    "mp = 1.67e-24\n",
    "#bin_edge = 10.\n",
    "bin_edge = 30.\n",
    "bins = np.arange(-25,25,0.1)"
   ]
  },
  {
   "cell_type": "markdown",
   "id": "4fcf55f4-5418-4ec0-aaaf-bf8e00c491b3",
   "metadata": {},
   "source": [
    "# Setting simulation parameters"
   ]
  },
  {
   "cell_type": "code",
   "execution_count": null,
   "id": "31fbcf7d-386d-43a2-bcb8-ddbc9a9dd52f",
   "metadata": {},
   "outputs": [],
   "source": [
    "############################################################################\n",
    "#read in sim files and find relevant particles\n",
    "############################################################################\n",
    "simname = 'm12i_res7100_mhdcv'\n",
    "simtype=\"fire2\"  #this is the simtype eg. fire2, fire3, sf-fire3, sf-fire3-alpha01, sf-fire3-alpha03, sf-fire3-alpha05 \n",
    "simdir = '/scratch/projects/xsede/GalaxiesOnFIRE/cr_suite/m12i_r7100/mhdcv/1Myr/fire2/'\n",
    "snapnumber=596      #this is the true snapshot number each time for eg, 596, 597 .. and son\n",
    "#reading in snapshot_times.txt file to get snapshot numbers and times\n",
    "\n",
    "\n",
    "#reading in snapshot_times.txt file to get snapshot numbers and times\n",
    "# columns are: snapshot scale-factor redshift time[Gyr] time_width[Myr]\n",
    "snapshot_times = simdir + 'snapshot_times.txt'\n",
    "snaptime_data = astropy.io.ascii.read(snapshot_times, guess=False, comment=\"#\")\n",
    "snaptime_data = np.genfromtxt(snapshot_times, usecols=(0,3), skip_header=4, dtype=float) #the first and fourth columns are the only ones we need \n",
    "snaps = np.array(snaptime_data[:,0]) #col1 = first column saved from text file #This is a collection of all snapshot nos.\n",
    "times = np.array(snaptime_data[:,1]) #col4 = second column saved #This is a collection of times equivalent to those snapshot nos.\n",
    "\n",
    "#######################################\n",
    "#######################################"
   ]
  },
  {
   "cell_type": "markdown",
   "id": "50899e40-23e0-4d6d-b688-2105d8184cd3",
   "metadata": {},
   "source": [
    "# Exporting components of gas plot to a file"
   ]
  },
  {
   "cell_type": "code",
   "execution_count": null,
   "id": "380e3b8c-9a67-4245-8b61-8f2c5972f0e1",
   "metadata": {},
   "outputs": [],
   "source": [
    "gas_datapath=\"./\"\n",
    "tracked_gas={} \n",
    "snaptime = times[np.where(snaps == snapnumber)][0] #time of snapshot in Gyr\n",
    "\n",
    "part = gizmo.io.Read.read_snapshots(['all'],'snapshot_index', snapnumber, simulation_name=simname, simulation_directory=simdir, assign_hosts_rotation=True, assign_hosts=True)  \n",
    "#t = np.max(part['star'].prop('form.time'))  \n",
    "\n",
    "rGas = part['gas'].prop('host.distance.principal.cylindrical')[:,0]\n",
    "\n",
    "xGas = part['gas'].prop('host.distance.principal.cartesian')[:,0]\n",
    "yGas = part['gas'].prop('host.distance.principal.cartesian')[:,1]\n",
    "zGas = part['gas'].prop('host.distance.principal.cartesian')[:,2]\n",
    "\n",
    "\n",
    "mGas = part['gas']['mass']\n",
    "rhoGas = part['gas']['density']\n",
    "tGas = part['gas']['temperature']\n",
    "idGas = part['gas']['id']\n",
    "\n",
    "i_gas = np.where((rGas <= bin_edge) & (np.fabs(zGas) <= 1.5) & (part['gas']['density']*((MsunToGm/KpcToCm**3)/mp) >= 10.) & (tGas <= 1e4))\n",
    "\n",
    "x = xGas[i_gas]\n",
    "y = yGas[i_gas]\n",
    "z = zGas[i_gas]\n",
    "\n",
    "rho = part['gas'].prop('number.density')[i_gas]\n",
    "id = part['gas']['id'][i_gas]\n",
    "\n",
    "###########################################################################\n",
    "#gas image (2d histogram)\n",
    "###########################################################################\n",
    "#cold (< 10^4 K) gas in the midplane (|z| <= 1.5 kpc within bin_edge\n",
    "v =  np.where((rGas <= bin_edge) & (np.fabs(zGas) <= 1.5) & (tGas <= 1e4))\n",
    "face, xh, yh = np.histogram2d(part['gas'].prop('host.distance.principal.cartesian')[v,1][0],part['gas'].prop('host.distance.principal.cartesian')[v,0][0],bins=[bins,bins], weights=part['gas']['mass'][v])\n",
    "\n",
    "###########################################################################\n",
    "tracked_gas={\"snaptime\":snaptime,\"v\":v,\"face\":face,\"xh\":xh,\"yh\":yh}\n",
    "file_name=simtype+\"_gas_data\"+str(snapnumber)+\".pkl\"\n",
    "with open(gas_datapath+file_name, 'wb') as output:\n",
    "    pickle.dump(tracked_gas, output)\n",
    "print(\"\\n Stored the gas data for background plot from the snapshot no.\",snapnumber,\"to filename:\",file_name,\"\\n#####\\n\")\n",
    "\n",
    "#Copy this code block from below to another cell and read the file if you want the generate plot fromt the file\n",
    "'''\n",
    "This is how to read the data:\n",
    "file_name=\"gas_data_snapshot_\"+str(snapnumber)+\".pkl\"\n",
    "with open(gas_datapath+file_name, \"rb\") as input:\n",
    "  import_gasdata = pickle.load(input\n",
    "  \n",
    "#Extracting the variables  \n",
    "v=import_gasdata[\"v\"]\n",
    "face=import_gasdata[\"face\"]\n",
    "xh=import_gasdata[\"xh\"]\n",
    "yh=import_gasdata[\"yh\"]\n",
    "#Use these as follows to generate the plot if you are going to generate plot using the above exported pkl file\n",
    "'''"
   ]
  },
  {
   "cell_type": "markdown",
   "id": "1ca8a835-6e9d-4f26-9cfa-6c983ae3a873",
   "metadata": {},
   "source": [
    "# Creating the plot"
   ]
  },
  {
   "cell_type": "code",
   "execution_count": null,
   "id": "2709720b-1d1d-47bd-b81e-83612f57a4c1",
   "metadata": {},
   "outputs": [],
   "source": [
    "from matplotlib import pyplot as plt\n",
    "fig1=plt.figure()\n",
    "fig1.set_size_inches(7,7)\n",
    "ax=fig1.add_axes([0.17, 0.185, 0.65, 0.65]) #left, bottom, width, height\n",
    "bin_edge = 30.\n",
    "#bins = np.arange(-5,5,0.1)\n",
    "bins = np.arange(-25,25,0.1)\n",
    "norm = matplotlib.colors.LogNorm(vmin=1, vmax=1000) #the color range plotted\n",
    "im = ax.imshow(face/(((bins[1]-bins[0])*1000)**2),origin='lower',interpolation='nearest',norm=norm,extent=(-25,25,-25,25),cmap='binary') \n",
    "\n",
    "#colorbar for the background gas density\n",
    "cmap_gray = matplotlib.cm.get_cmap('binary')\n",
    "norm1 = matplotlib.colors.LogNorm(vmin=1,vmax=1000)\n",
    "cbar_ax1 = fig1.add_axes([0.04, 0.185, 0.04, 0.64]) # position of gray colorbar (left, bottom, width, height)\n",
    "cb1 = fig1.colorbar(im, cax=cbar_ax1, ticklocation='left')\n",
    "cb1.set_label('$\\Sigma$ (M$_{{\\odot}}$/pc$^2$)', labelpad=-5, fontsize=12)\n",
    "#plot a scale bar 5 kpc long\n",
    "ax.plot([-22.5,-17.5], [22.5,22.5], 'k-', linewidth=5)\n",
    "label1 = \"5 kpc\"\n",
    "ax.text(-22.5, 20, label1, fontsize=12.5)"
   ]
  },
  {
   "cell_type": "code",
   "execution_count": null,
   "id": "4ee5c9ed-6b69-4e20-a842-c659e71f48d1",
   "metadata": {},
   "outputs": [],
   "source": []
  }
 ],
 "metadata": {
  "kernelspec": {
   "display_name": "Python 3",
   "language": "python",
   "name": "python3"
  },
  "language_info": {
   "codemirror_mode": {
    "name": "ipython",
    "version": 3
   },
   "file_extension": ".py",
   "mimetype": "text/x-python",
   "name": "python",
   "nbconvert_exporter": "python",
   "pygments_lexer": "ipython3",
   "version": "3.8.8"
  }
 },
 "nbformat": 4,
 "nbformat_minor": 5
}
