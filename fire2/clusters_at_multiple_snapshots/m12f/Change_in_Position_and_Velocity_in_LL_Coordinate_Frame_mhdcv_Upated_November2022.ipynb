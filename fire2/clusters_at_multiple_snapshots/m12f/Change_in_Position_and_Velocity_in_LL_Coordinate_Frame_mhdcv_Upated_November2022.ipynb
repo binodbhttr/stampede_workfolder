{
 "cells": [
  {
   "cell_type": "markdown",
   "id": "2a7e1041-ce40-40a1-a02a-0afc755728a1",
   "metadata": {},
   "source": [
    "##### Author: Davoud Masoumi dmasoumi@ucmerced.edu \n",
    "Version 2, Updated on November 2022"
   ]
  },
  {
   "cell_type": "code",
   "execution_count": 1,
   "id": "61ab5cb1-60b7-4241-96dc-4416861e3533",
   "metadata": {},
   "outputs": [],
   "source": [
    "import gizmo_analysis as gizmo\n",
    "import utilities as ut\n",
    "import numpy as np"
   ]
  },
  {
   "cell_type": "code",
   "execution_count": 2,
   "id": "0c029512-b042-443c-b95b-e40338cfecf2",
   "metadata": {},
   "outputs": [],
   "source": [
    "## NOTE: Inputs can be either position or velocity in the \"Translated Box Coordinate Frame\"\n",
    "## If inputs are positions in the \"Translated Box Coordinate Frame\", outputs will be positions in the \"Loebman Lab Coordinate Frame\"\n",
    "## If inputs are velocities in the \"Translated Box Coordinate Frame\", outputs will be velocities in the \"Loebman Lab Coordinate Frame\"\n",
    "\n",
    "def ll_coordinate_transformation(rotation_matrix, x_translated_box_coordinate, y_translated_box_coordinate, z_translated_box_coordinate):\n",
    "    \n",
    "    # identifying the elements of the True Rotation Matrix\n",
    "    rot_mat11 = rotation_matrix[0][0][0]\n",
    "    rot_mat12 = rotation_matrix[0][0][1]\n",
    "    rot_mat13 = rotation_matrix[0][0][2]\n",
    "    \n",
    "    rot_mat21 = rotation_matrix[0][1][0]\n",
    "    rot_mat22 = rotation_matrix[0][1][1]\n",
    "    rot_mat23 = rotation_matrix[0][1][2]\n",
    "    \n",
    "    rot_mat31 = rotation_matrix[0][2][0]\n",
    "    rot_mat32 = rotation_matrix[0][2][1]\n",
    "    rot_mat33 = rotation_matrix[0][2][2]\n",
    "    \n",
    "    ''' \n",
    "        Finding the three \"True Rotation Angles\": rot_angle_0, rot_angle_1 and rot_angle_2\n",
    "        \n",
    "        Note that there are eight possible sets of rotation angles.\n",
    "\n",
    "        We use the following approach to know which set of rotation angles is the \"True Rotation Angles\" set.\n",
    "        For each of the eight possible sets of rotation angles, \n",
    "        we compute the rotation matrix (let's call it the Recovered Rotation Matrix), \n",
    "        and we check which of these \"Recovered Rotation Matrices\" matches the \"True Rotation Matrix.\"\n",
    "        \n",
    "    '''\n",
    "    \n",
    "    rot_angle_0 = [] \n",
    "    rot_angle_1 = []\n",
    "    rot_angle_2 = []\n",
    "\n",
    "    for k in range (2):\n",
    "        for j in range (2):\n",
    "            for i in range (2):\n",
    "                recovered_rotation_angles = [0, 0, 0]\n",
    "                recovered_rotation_angles[0] =  np.arctan(-rot_mat32/rot_mat33) + (i*np.pi)\n",
    "                recovered_rotation_angles[1] =  np.arctan(rot_mat31/(np.sqrt(1- (rot_mat31**2)))) + (j*np.pi)\n",
    "                recovered_rotation_angles[2] =  np.arctan(-rot_mat21/rot_mat11) + (k*np.pi)\n",
    "\n",
    "                recovered_rot_mat11 = np.cos(recovered_rotation_angles[1]) * np.cos(recovered_rotation_angles[2])\n",
    "                recovered_rot_mat12 = np.cos(recovered_rotation_angles[0]) * np.sin(recovered_rotation_angles[2]) + np.sin(recovered_rotation_angles[0]) * np.sin(recovered_rotation_angles[1]) * np.cos(recovered_rotation_angles[2])\n",
    "                recovered_rot_mat13 = np.sin(recovered_rotation_angles[0]) * np.sin(recovered_rotation_angles[2]) - np.cos(recovered_rotation_angles[0]) * np.sin(recovered_rotation_angles[1]) * np.cos(recovered_rotation_angles[2])\n",
    "                recovered_rot_mat21 = -np.cos(recovered_rotation_angles[1]) * np.sin(recovered_rotation_angles[2])\n",
    "                recovered_rot_mat22 = np.cos(recovered_rotation_angles[0]) * np.cos(recovered_rotation_angles[2]) - np.sin(recovered_rotation_angles[0]) * np.sin(recovered_rotation_angles[1]) * np.sin(recovered_rotation_angles[2])\n",
    "                recovered_rot_mat23 = np.sin(recovered_rotation_angles[0]) * np.cos(recovered_rotation_angles[2]) + np.cos(recovered_rotation_angles[0]) * np.sin(recovered_rotation_angles[1]) * np.sin(recovered_rotation_angles[2])\n",
    "                recovered_rot_mat31 = np.sin(recovered_rotation_angles[1])\n",
    "                recovered_rot_mat32 = -np.sin(recovered_rotation_angles[0]) * np.cos(recovered_rotation_angles[1])\n",
    "                recovered_rot_mat33 = np.cos(recovered_rotation_angles[0]) * np.cos(recovered_rotation_angles[1])\n",
    "\n",
    "                if ((np.round(recovered_rot_mat11.astype('float64'), 3) == np.round(rot_mat11.astype('float64'), 3)) & \n",
    "                    (np.round(recovered_rot_mat12.astype('float64'), 3) == np.round(rot_mat12.astype('float64'), 3)) & \n",
    "                    (np.round(recovered_rot_mat13.astype('float64'), 3) == np.round(rot_mat13.astype('float64'), 3)) &\n",
    "                    (np.round(recovered_rot_mat21.astype('float64'), 3) == np.round(rot_mat21.astype('float64'), 3)) &\n",
    "                    (np.round(recovered_rot_mat22.astype('float64'), 3) == np.round(rot_mat22.astype('float64'), 3)) &\n",
    "                    (np.round(recovered_rot_mat23.astype('float64'), 3) == np.round(rot_mat23.astype('float64'), 3)) &\n",
    "                    (np.round(recovered_rot_mat31.astype('float64'), 3) == np.round(rot_mat31.astype('float64'), 3)) &\n",
    "                    (np.round(recovered_rot_mat32.astype('float64'), 3) == np.round(rot_mat32.astype('float64'), 3)) &\n",
    "                    (np.round(recovered_rot_mat33.astype('float64'), 3) == np.round(rot_mat33.astype('float64'), 3))):\n",
    "\n",
    "                    rot_angle_0.append(recovered_rotation_angles[0])\n",
    "                    rot_angle_1.append(recovered_rotation_angles[1])\n",
    "                    rot_angle_2.append(recovered_rotation_angles[2])\n",
    "\n",
    "                    break\n",
    "                    del(recovered_rotation_angles)\n",
    "                    \n",
    "    ''' \n",
    "        Constructing the \"Loebman Lab Transformation Matrix\": ll_tans_matij   \n",
    "    '''\n",
    "    \n",
    "    ll_trans_mat11 = np.cos(rot_angle_1)\n",
    "    ll_trans_mat12 = np.sin(rot_angle_0) * np.sin(rot_angle_1)\n",
    "    ll_trans_mat13 = - np.cos(rot_angle_0) * np.sin(rot_angle_1)\n",
    "    ll_trans_mat21 = np.zeros(1)\n",
    "    ll_trans_mat22 = np.cos(rot_angle_0)\n",
    "    ll_trans_mat23 = np.sin(rot_angle_0) \n",
    "    ll_trans_mat31 = np.sin(rot_angle_1)\n",
    "    ll_trans_mat32 = -np.sin(rot_angle_0) * np.cos(rot_angle_1)\n",
    "    ll_trans_mat33 = np.cos(rot_angle_0) * np.cos(rot_angle_1)\n",
    "    \n",
    "    '''\n",
    "        Finding coordinate of particles in the \"Loebman Lab Coordinate System\": x_ll, y_ll and z_ll\n",
    "    '''\n",
    "    \n",
    "    x_ll = (ll_trans_mat11*x_translated_box_coordinate) + (ll_trans_mat12*y_translated_box_coordinate) + (ll_trans_mat13*z_translated_box_coordinate)\n",
    "    y_ll = (ll_trans_mat21*x_translated_box_coordinate) + (ll_trans_mat22*y_translated_box_coordinate) + (ll_trans_mat23*z_translated_box_coordinate)\n",
    "    z_ll = (ll_trans_mat31*x_translated_box_coordinate) + (ll_trans_mat32*y_translated_box_coordinate) + (ll_trans_mat33*z_translated_box_coordinate)\n",
    "    \n",
    "    position_ll = np.asarray((x_ll, y_ll, z_ll)).T\n",
    "    \n",
    "    return position_ll"
   ]
  },
  {
   "cell_type": "markdown",
   "id": "9883603b-236c-436e-941e-f99784227634",
   "metadata": {},
   "source": [
    "#### We show how one can compute the change in position and velocity of star particles.\n",
    "\n",
    "#### In this Jupyter notebook, we consider the star particle with the following IDs:\n",
    "#####   selected_star_id:  32171833\n",
    "#####   selected_star_idchild:  0\n",
    "#####   selected_star_idgeneration:  0"
   ]
  },
  {
   "cell_type": "code",
   "execution_count": 3,
   "id": "964fa80c-93aa-469a-bc9f-532e99f3c56a",
   "metadata": {},
   "outputs": [],
   "source": [
    "selected_star_id =  32171833\n",
    "selected_star_idchild =  0\n",
    "selected_star_idgeneration =  0"
   ]
  },
  {
   "cell_type": "markdown",
   "id": "ac98aee1-b920-4df4-8520-58bdd9957c28",
   "metadata": {},
   "source": [
    "### Step 1: \n",
    "#### (I) Identifying the star with three given IDs in two different snapshots 696 and 695\n",
    "#### (II) Reading the position and velocity of the star with respect to the \"Box Coordinate Frame\"\n",
    "#### (II) Computing the position and velocity of the star with respect to the \"Loebman Lab Coordinate Frame\" "
   ]
  },
  {
   "cell_type": "markdown",
   "id": "82318149-2331-4c97-af95-1975eaed9301",
   "metadata": {
    "tags": []
   },
   "source": [
    "### 1-1) snapshot 696"
   ]
  },
  {
   "cell_type": "code",
   "execution_count": 3,
   "id": "55cb469b-f4e8-4b6f-95d9-f63af0afb1c7",
   "metadata": {},
   "outputs": [
    {
     "name": "stdout",
     "output_type": "stream",
     "text": [
      "\n",
      "# in utilities.simulation.Snapshot():\n",
      "* reading:  scratch/projects/xsede/GalaxiesOnFIRE/cr_suite/m12f_r7100/mhdcv/1Myr/snapshot_times.txt\n",
      "\n",
      "  using snapshot index = 597, redshift = 0.007\n",
      "\n",
      "\n",
      "# in gizmo_analysis.gizmo_io.Read():\n",
      "* reading header from:  scratch/projects/xsede/GalaxiesOnFIRE/cr_suite/m12f_r7100/mhdcv/1Myr/output/snapshot_597.hdf5\n",
      "  snapshot contains the following number of particles:\n",
      "    dark      (id = 1): 81363848 particles\n",
      "    dark2     (id = 2): 7086235 particles\n",
      "    gas       (id = 0): 64166200 particles\n",
      "    star      (id = 4): 17784971 particles\n",
      "    blackhole (id = 5): 0 particles\n",
      "\n",
      "* reading the following\n",
      "  species: ['dark', 'dark2', 'gas', 'star']\n",
      "  gas properties: ['density', 'electron.fraction', 'hydrogen.neutral.fraction', 'id', 'id.child', 'id.generation', 'magnetic.field', 'mass', 'massfraction', 'position', 'sfr', 'size', 'temperature', 'velocity']\n",
      "\n",
      "* reading particles from:\n",
      "    scratch/projects/xsede/GalaxiesOnFIRE/cr_suite/m12f_r7100/mhdcv/1Myr/output/snapshot_597.hdf5\n",
      "\n",
      "* reading cosmological parameters from:  scratch/projects/xsede/GalaxiesOnFIRE/cr_suite/m12f_r7100/mhdcv/1Myr/initial_condition/ic_agora_m12f.conf\n",
      "\n",
      "* checking sanity of particle properties\n",
      "! warning: gas mass [min, med, max] = [7067.277, 7067.277, 91799.477]\n",
      "! warning: star id.child [min, max] = [0.000, 4.254e9]\n",
      "! warning: star mass [min, med, max] = [3245.210, 5412.012, 1.375e5]\n",
      "\n",
      "\n",
      "# in gizmo_analysis.gizmo_track.ParticleCoordinate():\n",
      "  read 1 host (position, velocity, principal axes) from:  scratch/projects/xsede/GalaxiesOnFIRE/cr_suite/m12f_r7100/mhdcv/1Myr/track/host_coordinates.hdf5\n",
      "  host1 position = (38723.84, 47658.03, 46754.42) [kpc comoving]\n",
      "  host1 velocity = (-157.8, 165.8, 106.8) [km / s]\n",
      "  host1 axis ratios = (0.18, 0.19, 0.95)\n",
      "  host1 R_90 = 12.1 kpc\n",
      "  host1 M_90 = 7.5e+10 Msun\n",
      "\n"
     ]
    }
   ],
   "source": [
    "simname = 'm12f_res7100_mhdcv'\n",
    "simdir = '/scratch/projects/xsede/GalaxiesOnFIRE/cr_suite/m12f_r7100/mhdcv/1Myr/'\n",
    "snapnumber = 597\n",
    "\n",
    "\n",
    "#simname = 'm12i_res7100'                                                         \n",
    "#simdir = '/scratch/projects/xsede/GalaxiesOnFIRE/cr_suite/m12i_r7100/mhdcv/1Myr/fire2/'    # on stampede2\n",
    "#simdir = '/share/wetzellab/m12i/m12i_r7100_mhdcv/1Myr/fire2'                               # on pleoton\n",
    "#snapnumber=696\n",
    "part_696 = gizmo.io.Read.read_snapshots(['all'], 'snapshot_index', snapnumber, simulation_directory=simdir, assign_hosts_rotation=True)"
   ]
  },
  {
   "cell_type": "code",
   "execution_count": 4,
   "id": "3a45ae3d-3ae6-4029-a570-d4d411c2b2bb",
   "metadata": {},
   "outputs": [],
   "source": [
    "''' read the position of ALL stars in the \"TRANSLATED BOX COORDINATE FRAME\" '''\n",
    "\n",
    "x_696 = part_696['star'].prop('host.distance')[:,0]\n",
    "y_696 = part_696['star'].prop('host.distance')[:,1]\n",
    "z_696 = part_696['star'].prop('host.distance')[:,2]\n",
    "\n",
    "vx_696 = part_696['star'].prop('host.velocity')[:,0]\n",
    "vy_696 = part_696['star'].prop('host.velocity')[:,1]\n",
    "vz_696 = part_696['star'].prop('host.velocity')[:,2]\n",
    "\n",
    "star_id_696 = part_696['star']['id']\n",
    "star_idchild_696 = part_696['star']['id.child']\n",
    "star_idgeneration_696 = part_696['star']['id.generation']"
   ]
  },
  {
   "cell_type": "code",
   "execution_count": null,
   "id": "fa16a57c-83b9-4ec2-ac64-16ac2e64ca13",
   "metadata": {},
   "outputs": [],
   "source": [
    "''' read the \"True Rotation Matrix\": i.e., the Rotation Matrix of the snapshot which is loaded '''\n",
    "\n",
    "# we use \"rm\" to represent the \"True Rotation Matrix\" in our code\n",
    "rm_696 = part_696.host['rotation'] "
   ]
  },
  {
   "cell_type": "code",
   "execution_count": 7,
   "id": "d8c91b68-c0d5-476a-8f1b-1d4a1d5e4ba6",
   "metadata": {},
   "outputs": [],
   "source": [
    "''' we wnat to select and track ONLY ONE stars with the given \n",
    "    id = 32171833 , \n",
    "    idchild = 0, and \n",
    "    idgeneration = 0 '''\n",
    "\n",
    "mask_696 = np.where((star_id_696 == 32171833) & (star_idchild_696 == 0) & (star_idgeneration_696 == 0))\n",
    "\n",
    "''' identifying the position and velocity of the selected star at snapshot 696 '''\n",
    "\n",
    "# x, y, z: position of the selected star with respect to the \"TRANSLATED BOX COORDINATE FRAME\"\n",
    "# vx, vy, vz: velocity of the selected star with respect to the center of the host galaxy in the \"TRANSLATED BOX COORDINATE FRAME\"\n",
    "\n",
    "x_selected_696 = x_696[mask_696[0][0]]\n",
    "y_selected_696 = y_696[mask_696[0][0]]\n",
    "z_selected_696 = z_696[mask_696[0][0]]\n",
    "\n",
    "vx_selected_696 = vx_696[mask_696[0][0]]\n",
    "vy_selected_696 = vy_696[mask_696[0][0]]\n",
    "vz_selected_696 = vz_696[mask_696[0][0]]\n",
    "\n",
    "''' \n",
    "   converting the position and velocity of the selected star at snapshot 696 \n",
    "   from the \"TRANSLATED BOX COORDINATE FRAME\" \n",
    "   to the \"Loebman Lab COORDINATE FRAME\"\n",
    "'''\n",
    "\n",
    "## For the exmple provided in this jupyter notebook\n",
    "\n",
    "## Inputs: \n",
    "# rotation_matrix ---------------------> rm_696\n",
    "# x_translated_box_coordinate  --------> x_selected_696\n",
    "# y_translated_box_coordinate  --------> y_selected_696\n",
    "# z_translated_box_coordinate  --------> z_selected_696\n",
    "\n",
    "x_selected_696_ll = ll_coordinate_transformation(rm_696, x_selected_696, y_selected_696, z_selected_696)[:,0]\n",
    "y_selected_696_ll = ll_coordinate_transformation(rm_696, x_selected_696, y_selected_696, z_selected_696)[:,1]\n",
    "z_selected_696_ll = ll_coordinate_transformation(rm_696, x_selected_696, y_selected_696, z_selected_696)[:,2]\n",
    "\n",
    "\n",
    "## Inputs: \n",
    "# rotation_matrix ---------------------> rm_696\n",
    "# x_translated_box_coordinate  --------> vx_selected_696\n",
    "# y_translated_box_coordinate  --------> vy_selected_696\n",
    "# z_translated_box_coordinate  --------> vz_selected_696\n",
    "\n",
    "vx_selected_696_ll = ll_coordinate_transformation(rm_696, vx_selected_696, vy_selected_696, vz_selected_696)[:,0]\n",
    "vy_selected_696_ll = ll_coordinate_transformation(rm_696, vx_selected_696, vy_selected_696, vz_selected_696)[:,1]\n",
    "vz_selected_696_ll = ll_coordinate_transformation(rm_696, vx_selected_696, vy_selected_696, vz_selected_696)[:,2]"
   ]
  },
  {
   "cell_type": "code",
   "execution_count": 11,
   "id": "40dd9a41-835b-47e3-a4c0-5f9f1c5de51d",
   "metadata": {},
   "outputs": [
    {
     "name": "stdout",
     "output_type": "stream",
     "text": [
      "[-1.05280185]\n",
      "-0.8052467137061134\n"
     ]
    }
   ],
   "source": [
    "print(x_selected_696_ll)\n",
    "print(x_selected_696)\n",
    "\n"
   ]
  },
  {
   "cell_type": "code",
   "execution_count": 8,
   "id": "e500c980-1336-4319-913f-74bc39627f07",
   "metadata": {},
   "outputs": [],
   "source": [
    "del(part_696, x_696, y_696, z_696, \n",
    "    vx_696, vy_696, vz_696, \n",
    "    star_id_696, star_idchild_696, star_idgeneration_696)"
   ]
  },
  {
   "cell_type": "markdown",
   "id": "005e0196-6d6d-4d96-a9d8-7985e49d3193",
   "metadata": {
    "tags": []
   },
   "source": [
    "### 1-2) Snapshot 695"
   ]
  },
  {
   "cell_type": "code",
   "execution_count": 9,
   "id": "8d84d0b0-1cdf-4754-b8cb-2dcd2cc3c6af",
   "metadata": {},
   "outputs": [
    {
     "name": "stdout",
     "output_type": "stream",
     "text": [
      "\n",
      "# in utilities.simulation.Snapshot():\n",
      "* reading:  scratch/projects/xsede/GalaxiesOnFIRE/cr_suite/m12i_r7100/mhdcv/1Myr/fire2/snapshot_times.txt\n",
      "\n",
      "  using snapshot index = 695, redshift = 0.000\n",
      "\n",
      "\n",
      "# in gizmo_analysis.gizmo_io.Read():\n",
      "* reading header from:  scratch/projects/xsede/GalaxiesOnFIRE/cr_suite/m12i_r7100/mhdcv/1Myr/fire2/output/snapdir_695/snapshot_695.0.hdf5\n",
      "  snapshot contains the following number of particles:\n",
      "    dark      (id = 1): 70514272 particles\n",
      "    dark2     (id = 2): 5513331 particles\n",
      "    gas       (id = 0): 55618422 particles\n",
      "    star      (id = 4): 15374989 particles\n",
      "    blackhole (id = 5): 0 particles\n",
      "\n",
      "* reading the following\n",
      "  species: ['dark', 'dark2', 'gas', 'star']\n",
      "  gas properties: ['acceleration', 'density', 'electron.fraction', 'hydrogen.neutral.fraction', 'id', 'id.child', 'id.generation', 'magnetic.field', 'mass', 'massfraction', 'photon.energy', 'position', 'potential', 'sfr', 'size', 'temperature', 'velocity']\n",
      "\n",
      "* reading particles from:\n",
      "    snapshot_695.0.hdf5\n",
      "    snapshot_695.1.hdf5\n",
      "    snapshot_695.2.hdf5\n",
      "    snapshot_695.3.hdf5\n",
      "\n",
      "* reading cosmological parameters from:  scratch/projects/xsede/GalaxiesOnFIRE/cr_suite/m12i_r7100/mhdcv/1Myr/fire2/initial_condition/ic_agora_m12i.conf\n",
      "\n",
      "* checking sanity of particle properties\n",
      "! warning: gas id.child [min, max] = [0.000, 4.290e9]\n",
      "! warning: star id.child [min, max] = [0.000, 4.294e9]\n",
      "\n",
      "\n",
      "# in gizmo_analysis.gizmo_track.ParticleCoordinate():\n",
      "  read 1 host (position, velocity, principal axes) from:  scratch/projects/xsede/GalaxiesOnFIRE/cr_suite/m12i_r7100/mhdcv/1Myr/fire2/track/host_coordinates.hdf5\n",
      "  host1 position = (41844.87, 44106.82, 46284.56) [kpc comoving]\n",
      "  host1 velocity = (-48.8, 80.2, 89.3) [km / s]\n",
      "  host1 axis ratios = (0.18, 0.19, 0.96)\n",
      "  host1 R_90 = 9.8 kpc\n",
      "  host1 M_90 = 6.2e+10 Msun\n",
      "\n"
     ]
    }
   ],
   "source": [
    "simname = 'm12i_res7100'                                                         \n",
    "simdir = '/scratch/projects/xsede/GalaxiesOnFIRE/cr_suite/m12i_r7100/mhdcv/1Myr/fire2/'    # on stampede2\n",
    "#simdir = '/share/wetzellab/m12i/m12i_r7100_mhdcv/1Myr/fire2'                               # on pleoton\n",
    "\n",
    "part_695 = gizmo.io.Read.read_snapshots(['all'], 'snapshot_index', 695, simulation_directory=simdir, assign_hosts_rotation=True)"
   ]
  },
  {
   "cell_type": "code",
   "execution_count": 10,
   "id": "89c49e51-e51c-47ea-8f72-00b626ffe873",
   "metadata": {},
   "outputs": [],
   "source": [
    "''' read the position of ALL stars in the \"TRANSLATED BOX COORDINATE FRAME\" '''\n",
    "\n",
    "x_695 = part_695['star'].prop('host.distance')[:,0]\n",
    "y_695 = part_695['star'].prop('host.distance')[:,1]\n",
    "z_695 = part_695['star'].prop('host.distance')[:,2]\n",
    "\n",
    "vx_695 = part_695['star'].prop('host.velocity')[:,0]\n",
    "vy_695 = part_695['star'].prop('host.velocity')[:,1]\n",
    "vz_695 = part_695['star'].prop('host.velocity')[:,2]\n",
    "\n",
    "star_id_695 = part_695['star']['id']\n",
    "star_idchild_695 = part_695['star']['id.child']\n",
    "star_idgeneration_695 = part_695['star']['id.generation']"
   ]
  },
  {
   "cell_type": "code",
   "execution_count": 11,
   "id": "8168dda1-3fbe-42e0-8e31-b0053f89c0e9",
   "metadata": {},
   "outputs": [],
   "source": [
    "''' read the \"True Rotation Matrix\": i.e., the Rotation Matrix of the snapshot which is loaded '''\n",
    "\n",
    "# we use \"rm\" to represent the \"True Rotation Matrix\" in our code\n",
    "rm_695 = part_695.host['rotation'] "
   ]
  },
  {
   "cell_type": "code",
   "execution_count": 12,
   "id": "442772cc-634a-4b4c-8377-d4a3925f518a",
   "metadata": {},
   "outputs": [],
   "source": [
    "''' we wnat to identify the same star in snapshot 695;\n",
    "    we use the given IDs for this aim\n",
    "    id = 32171833 , \n",
    "    idchild = 0, and \n",
    "    idgeneration = 0 '''\n",
    "\n",
    "mask_695 = np.where((star_id_695 == 32171833) & (star_idchild_695 == 0) & (star_idgeneration_695 == 0))\n",
    "\n",
    "''' identifying the position and velocity of the selected star at snapshot 695 '''\n",
    "\n",
    "# x, y, z: position of the selected star with respect to the \"TRANSLATED BOX COORDINATE FRAME\"\n",
    "# vx, vy, vz: velocity of the selected star with respect to the center of the host galaxy in the \"TRANSLATED BOX COORDINATE FRAME\"\n",
    "\n",
    "x_selected_695 = x_695[mask_695[0][0]]\n",
    "y_selected_695 = y_695[mask_695[0][0]]\n",
    "z_selected_695 = z_695[mask_695[0][0]]\n",
    "\n",
    "vx_selected_695 = vx_695[mask_695[0][0]]\n",
    "vy_selected_695 = vy_695[mask_695[0][0]]\n",
    "vz_selected_695 = vz_695[mask_695[0][0]]\n",
    "\n",
    "''' \n",
    "   converting the position and velocity of the selected star at snapshot 695 \n",
    "   from the \"TRANSLATED BOX COORDINATE FRAME\" \n",
    "   to the \"Loebman Lab COORDINATE FRAME\"\n",
    "'''\n",
    "\n",
    "## For the exmple provided in this jupyter notebook\n",
    "\n",
    "## Inputs: \n",
    "# rotation_matrix ---------------------> rm_695\n",
    "# x_translated_box_coordinate  --------> x_selected_695\n",
    "# y_translated_box_coordinate  --------> y_selected_695\n",
    "# z_translated_box_coordinate  --------> z_selected_695\n",
    "\n",
    "x_selected_695_ll = ll_coordinate_transformation(rm_695, x_selected_695, y_selected_695, z_selected_695)[:,0]\n",
    "y_selected_695_ll = ll_coordinate_transformation(rm_695, x_selected_695, y_selected_695, z_selected_695)[:,1]\n",
    "z_selected_695_ll = ll_coordinate_transformation(rm_695, x_selected_695, y_selected_695, z_selected_695)[:,2]\n",
    "\n",
    "\n",
    "## Inputs: \n",
    "# rotation_matrix ---------------------> rm_695\n",
    "# x_translated_box_coordinate  --------> vx_selected_695\n",
    "# y_translated_box_coordinate  --------> vy_selected_695\n",
    "# z_translated_box_coordinate  --------> vz_selected_695\n",
    "\n",
    "vx_selected_695_ll = ll_coordinate_transformation(rm_695, vx_selected_695, vy_selected_695, vz_selected_695)[:,0]\n",
    "vy_selected_695_ll = ll_coordinate_transformation(rm_695, vx_selected_695, vy_selected_695, vz_selected_695)[:,1]\n",
    "vz_selected_695_ll = ll_coordinate_transformation(rm_695, vx_selected_695, vy_selected_695, vz_selected_695)[:,2]"
   ]
  },
  {
   "cell_type": "code",
   "execution_count": 13,
   "id": "e272f8de-c1a4-4682-af7d-a09ea53b86e9",
   "metadata": {},
   "outputs": [],
   "source": [
    "del(part_695, x_695, y_695, z_695, \n",
    "    vx_695, vy_695, vz_695, \n",
    "    star_id_695, star_idchild_695, star_idgeneration_695)"
   ]
  },
  {
   "cell_type": "markdown",
   "id": "aa01945d-8c2e-477f-acfc-dc5bbc587dad",
   "metadata": {
    "tags": []
   },
   "source": [
    "### Step 2: Computing Change in Position and Velocity"
   ]
  },
  {
   "cell_type": "code",
   "execution_count": 14,
   "id": "a84c6fd1-b5b3-4567-bc1e-9c6c3549d305",
   "metadata": {},
   "outputs": [],
   "source": [
    "'In the Translated Box Coordinate Frame:'\n",
    "\n",
    "Δx = x_selected_696 - x_selected_695\n",
    "Δy = y_selected_696 - y_selected_695\n",
    "Δz = z_selected_696 - z_selected_695\n",
    "change_in_position = np.sqrt(Δx**2 + Δy**2 + Δz**2)\n",
    "\n",
    "Δvx = vx_selected_696 - vx_selected_695\n",
    "Δvy = vy_selected_696 - vy_selected_695\n",
    "Δvz = vz_selected_696 - vz_selected_695\n",
    "change_in_velocity = np.sqrt(Δvx**2 + Δvy**2 + Δvz**2)\n",
    "\n",
    "'In the Loebman Lab Coordinate Frame:'\n",
    "\n",
    "Δx_ll = x_selected_696_ll - x_selected_695_ll\n",
    "Δy_ll = y_selected_696_ll - y_selected_695_ll\n",
    "Δz_ll = z_selected_696_ll - z_selected_695_ll\n",
    "change_in_position_ll = np.sqrt(Δx_ll**2 + Δy_ll**2 + Δz_ll**2)\n",
    "\n",
    "Δvx_ll = vx_selected_696_ll - vx_selected_695_ll\n",
    "Δvy_ll = vy_selected_696_ll - vy_selected_695_ll\n",
    "Δvz_ll = vz_selected_696_ll - vz_selected_695_ll\n",
    "change_in_velocity_ll = np.sqrt(Δvx_ll**2 + Δvy_ll**2 + Δvz_ll**2)"
   ]
  },
  {
   "cell_type": "markdown",
   "id": "135f00df-6710-44ea-bf5f-430a8a87e666",
   "metadata": {},
   "source": [
    "### Step 3: Comparison and Visualization"
   ]
  },
  {
   "cell_type": "code",
   "execution_count": 15,
   "id": "ef8f1fa9-1630-45ec-919b-d30e09f926ea",
   "metadata": {},
   "outputs": [
    {
     "name": "stdout",
     "output_type": "stream",
     "text": [
      "In the Translated Box Coordinate Frame:\n",
      "Δx =  0.16223884419413076 kpc\n",
      "Δy =  0.02964239132057056 kpc\n",
      "Δz =  -0.08939696958879129 kpc\n",
      "change in position =  0.18759512813585685 kpc\n",
      "\n",
      "In the Loebman Lab Coordinate Frame:\n",
      "Δx_{Loebman Lab} =  [0.16972408] kpc\n",
      "Δy_{Loebman Lab} =  [-0.05852377] kpc\n",
      "Δz_{Loebman Lab} =  [0.05180407] kpc\n",
      "change in position_{Loebman Lab} =  [0.18685544] kpc\n",
      "\n",
      "##########################################\n",
      "##########################################\n",
      "\n",
      "In the Translated Box Coordinate Frame:\n",
      "Δvx =  0.38893127 km/s\n",
      "Δvy =  -6.647808 km/s\n",
      "Δvz =  3.7898102 km/s\n",
      "change in velocity =  7.662067667612204 km/s\n",
      "\n",
      "In the Loebman Lab Coordinate Frame:\n",
      "Δvx_{Loebman Lab} =  [0.21434083] km/s\n",
      "Δvy_{Loebman Lab} =  [7.53000908] km/s\n",
      "Δvz_{Loebman Lab} =  [-1.28085066] km/s\n",
      "change in velocity_{Loebman Lab} =  [7.64117511] km/s\n"
     ]
    }
   ],
   "source": [
    "print('In the Translated Box Coordinate Frame:')\n",
    "print('Δx = ', Δx, 'kpc')\n",
    "print('Δy = ', Δy, 'kpc')\n",
    "print('Δz = ', Δz, 'kpc')\n",
    "print('change in position = ', change_in_position, 'kpc')\n",
    "\n",
    "print( )\n",
    "\n",
    "print('In the Loebman Lab Coordinate Frame:')\n",
    "print('Δx_{Loebman Lab} = ', Δx_ll, 'kpc')\n",
    "print('Δy_{Loebman Lab} = ', Δy_ll, 'kpc')\n",
    "print('Δz_{Loebman Lab} = ', Δz_ll, 'kpc')\n",
    "print('change in position_{Loebman Lab} = ', change_in_position_ll, 'kpc')\n",
    "\n",
    "print( )\n",
    "print('##########################################')\n",
    "print('##########################################')\n",
    "print( )\n",
    "\n",
    "print('In the Translated Box Coordinate Frame:')\n",
    "print('Δvx = ', Δvx, 'km/s')\n",
    "print('Δvy = ', Δvy, 'km/s')\n",
    "print('Δvz = ', Δvz, 'km/s')\n",
    "print('change in velocity = ', change_in_velocity, 'km/s')\n",
    "\n",
    "print( )\n",
    "\n",
    "print('In the Loebman Lab Coordinate Frame:')\n",
    "print('Δvx_{Loebman Lab} = ', Δvx_ll, 'km/s')\n",
    "print('Δvy_{Loebman Lab} = ', Δvy_ll, 'km/s')\n",
    "print('Δvz_{Loebman Lab} = ', Δvz_ll, 'km/s')\n",
    "print('change in velocity_{Loebman Lab} = ', change_in_velocity_ll, 'km/s')"
   ]
  },
  {
   "cell_type": "code",
   "execution_count": 16,
   "id": "89a368ce-c1ca-42d4-b7be-13847886c626",
   "metadata": {},
   "outputs": [
    {
     "data": {
      "image/png": "[encoded data removed]",
      "text/plain": [
       "<Figure size 432x288 with 1 Axes>"
      ]
     },
     "metadata": {
      "needs_background": "light"
     },
     "output_type": "display_data"
    },
    {
     "data": {
      "image/png": "[encoded data removed]",
      "text/plain": [
       "<Figure size 432x288 with 1 Axes>"
      ]
     },
     "metadata": {
      "needs_background": "light"
     },
     "output_type": "display_data"
    }
   ],
   "source": [
    "import matplotlib.pyplot as plt\n",
    "\n",
    "plt.scatter(x_selected_696, y_selected_696, color='red', label='position at snapshot 696')\n",
    "plt.scatter(x_selected_695, y_selected_695, color='blue', label='position at snapshot 695')\n",
    "plt.xlabel('$x_{Translated\\; Box}$', fontsize=15)\n",
    "plt.ylabel('$y_{Translated\\; Box}$', fontsize=15)\n",
    "plt.xlim(-10, 10)\n",
    "plt.ylim(-10, 10)\n",
    "plt.legend(loc=(1.01, 0.8), fontsize=12)\n",
    "plt.show()\n",
    "\n",
    "plt.scatter(x_selected_696_ll, y_selected_696_ll, color='red', label='position at snapshot 696')\n",
    "plt.scatter(x_selected_695_ll, y_selected_695_ll, color='blue', label='position at snapshot 695')\n",
    "plt.xlabel('$x_{Loebman\\; Lab}$', fontsize=15)\n",
    "plt.ylabel('$y_{Loebman\\; Lab}$', fontsize=15)\n",
    "plt.xlim(-10, 10)\n",
    "plt.ylim(-10, 10)\n",
    "plt.legend(loc=(1.01, 0.8), fontsize=12)\n",
    "plt.show()"
   ]
  }
 ],
 "metadata": {
  "kernelspec": {
   "display_name": "Python 3",
   "language": "python",
   "name": "python3"
  },
  "language_info": {
   "codemirror_mode": {
    "name": "ipython",
    "version": 3
   },
   "file_extension": ".py",
   "mimetype": "text/x-python",
   "name": "python",
   "nbconvert_exporter": "python",
   "pygments_lexer": "ipython3",
   "version": "3.8.8"
  }
 },
 "nbformat": 4,
 "nbformat_minor": 5
}
