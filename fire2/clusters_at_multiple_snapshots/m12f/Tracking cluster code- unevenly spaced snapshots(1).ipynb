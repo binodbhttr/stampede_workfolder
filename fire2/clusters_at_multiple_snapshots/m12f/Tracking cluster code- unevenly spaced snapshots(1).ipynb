{
 "cells": [
  {
   "cell_type": "markdown",
   "id": "dea0fb4d",
   "metadata": {},
   "source": [
    "## this file will load snapshots and store details of the tracked star cluster thoroughout the snapshots into individual files available at ./data\n"
   ]
  },
  {
   "cell_type": "markdown",
   "id": "f08f85cd",
   "metadata": {},
   "source": [
    "### Given that I don't have all snapshots downloaded, I ran into issues of tracking clusters at unevenly spaced snapshots (code was going from snap 1 to snap 1+1. If snap 2 did not exsit, it didn't know how to jumpt to the next available snapshot. This code fixes this issue).\n"
   ]
  },
  {
   "cell_type": "code",
   "execution_count": 1,
   "id": "89f25399",
   "metadata": {},
   "outputs": [],
   "source": [
    "from fof_analysis import fof"
   ]
  },
  {
   "cell_type": "markdown",
   "id": "2279071f",
   "metadata": {},
   "source": [
    "above cell add the for loop and store into pkl\n"
   ]
  },
  {
   "cell_type": "code",
   "execution_count": null,
   "id": "ee4f1951",
   "metadata": {},
   "outputs": [],
   "source": []
  },
  {
   "cell_type": "code",
   "execution_count": 2,
   "id": "f5925e51",
   "metadata": {},
   "outputs": [],
   "source": [
    "import gizmo_analysis as gizmo\n",
    "import utilities as ut\n",
    "from matplotlib import pyplot as plt\n",
    "import numpy as np\n",
    "from mpl_toolkits.mplot3d import Axes3D\n",
    "from sl_utilities import distinct_colours as dc\n",
    "from sl_utilities import distance_functions\n",
    "import os\n",
    "import pickle"
   ]
  },
  {
   "cell_type": "code",
   "execution_count": 13,
   "id": "c441dd68",
   "metadata": {},
   "outputs": [],
   "source": [
    "#read in the simulation\n",
    "simname = 'm12i_r7100'\n",
    "simdir = '/scratch/projects/xsede/GalaxiesOnFIRE/cr_suite/m12i_r7100/mhdcv/output/'\n"
   ]
  },
  {
   "cell_type": "code",
   "execution_count": 7,
   "id": "76f30c73",
   "metadata": {},
   "outputs": [],
   "source": [
    "# creating a loop of snapshots (to track clusters over long periods of time)\n",
    "\n",
    "# snapshot_start=446\n",
    "# snapshot_end=600 \n",
    "\n",
    "#snaps = [412,446,486,534,590,591,592,593,594,595,596,597,598,599,600]\n",
    "\n",
    "#Loading the sample cluster to be tracked and sorting its id and id_child\n",
    "# snapnumber=590 #Remember to change it if you  are changing the star cluster you are tracking in given snapshot\n",
    "\n",
    "path=\"./\"\n",
    "if not os.path.exists(path):\n",
    "  os.makedirs(path)\n",
    "\n",
    "\n",
    "temporary_name =\"fire2_clusters_m12i_res7100_snapshot_600_5_0_age_6_0.pkl\"\n",
    "# temporary_name = simname+'.'+str(snaps[0])+\".minage\"+ str('%.2f' %min_age_array_Gyr[k])+\"_\"+\"maxage\"+\"_\"+str('%.2f' %max_age_array_Gyr[k])+\"_b\"+str(b_parsec)+\"_nmin\"+str(ncut_min)+\".pkl\"\n",
    "with open(path+temporary_name, \"rb\") as fp:\n",
    "    cluster_dic = pickle.load(fp)\n"
   ]
  },
  {
   "cell_type": "code",
   "execution_count": 8,
   "id": "d9154898",
   "metadata": {},
   "outputs": [],
   "source": [
    "def matchids(id_current,id_child_current,id_next,id_child_next,id_generation_next): #this function returns the index of the ids in the next snapshot that match with the current\n",
    "    ind=np.array(0)\n",
    "    for i in range(len(id_current)):\n",
    "        match=np.where((id_next==id_current[i])&(id_child_next==id_child_current[i])&(id_generation_next<30)) #Also add id_generations<30\n",
    "    print(\"\\nFound the id\",id_next[match],\"at the index\",match[0],\"in this snapshot\")\n",
    "    ind=np.append(ind,match)\n",
    "    ind_tracked_id_next=ind[1:len(ind)]  #The extra element in the beginning is removed by this process\n",
    "    print(\"\\nThese are the indices of the ids that matched in current snapshot\\n\",ind_tracked_id_next)\n",
    "    return ind_tracked_id_next  \n",
    "################################################################\n",
    "################################################################"
   ]
  },
  {
   "cell_type": "code",
   "execution_count": 9,
   "id": "3dd655e5",
   "metadata": {},
   "outputs": [],
   "source": [
    "total_clusters=len(cluster_dic)         #count the total no. of clusters we have in clusters file\n",
    "total_snaps=len(snaps)  #count the total no. of snapshots we are going to track\n",
    "snap=snaps[0]                      #Mark the beginning of the snapshot\n",
    "test_cluster=1                             #Mark the beginning of the cluster that we would be tracking\n",
    "ind_tracked={}                             #finding the indices of the tracked stars in each snapshot for each cluster.\n",
    "\n",
    "tracked_data_all_clusters_each_snap={}     #dictionary for storing data from all clusters and in each snapshot"
   ]
  },
  {
   "cell_type": "code",
   "execution_count": null,
   "id": "2a7c31f4",
   "metadata": {},
   "outputs": [],
   "source": []
  },
  {
   "cell_type": "code",
   "execution_count": 14,
   "id": "0e242043",
   "metadata": {
    "scrolled": true
   },
   "outputs": [
    {
     "name": "stdout",
     "output_type": "stream",
     "text": [
      "\n",
      "# in utilities.simulation.Snapshot():\n",
      "* reading:  scratch/projects/xsede/GalaxiesOnFIRE/cr_suite/m12i_r7100/mhdcv/output/snapshot_times.txt\n",
      "\n",
      "* reading:  scratch/projects/xsede/GalaxiesOnFIRE/cr_suite/m12i_r7100/mhdcv/output/snapshot_scalefactors.txt\n",
      "\n",
      "* reading:  scratch/projects/xsede/GalaxiesOnFIRE/cr_suite/m12i_r7100/mhdcv/output/snapshot_scale-factors.txt\n",
      "\n",
      "cannot find file of snapshot times in /scratch/projects/xsede/GalaxiesOnFIRE/cr_suite/m12i_r7100/mhdcv/output/\n",
      "\n",
      "# in utilities.io.get_file_names():\n",
      "! cannot find files with base name:  /scratch/projects/xsede/GalaxiesOnFIRE/cr_suite/m12i_r7100/mhdcv/output/output/snap*[!.txt!.ewah]\n"
     ]
    },
    {
     "ename": "OSError",
     "evalue": "cannot find snapshot index = 412 in:  []",
     "output_type": "error",
     "traceback": [
      "\u001b[0;31m---------------------------------------------------------------------------\u001b[0m",
      "\u001b[0;31mOSError\u001b[0m                                   Traceback (most recent call last)",
      "\u001b[0;32m<ipython-input-14-a1ed6469b698>\u001b[0m in \u001b[0;36m<module>\u001b[0;34m\u001b[0m\n\u001b[1;32m      2\u001b[0m \u001b[0;34m\u001b[0m\u001b[0m\n\u001b[1;32m      3\u001b[0m \u001b[0;32mfor\u001b[0m \u001b[0msnap\u001b[0m \u001b[0;32min\u001b[0m \u001b[0msnaps\u001b[0m\u001b[0;34m:\u001b[0m               \u001b[0;31m#we run a for loop until the end of all snapshots\u001b[0m\u001b[0;34m\u001b[0m\u001b[0;34m\u001b[0m\u001b[0m\n\u001b[0;32m----> 4\u001b[0;31m     \u001b[0mpart\u001b[0m\u001b[0;34m=\u001b[0m\u001b[0mgizmo\u001b[0m\u001b[0;34m.\u001b[0m\u001b[0mio\u001b[0m\u001b[0;34m.\u001b[0m\u001b[0mRead\u001b[0m\u001b[0;34m.\u001b[0m\u001b[0mread_snapshots\u001b[0m\u001b[0;34m(\u001b[0m\u001b[0;34m[\u001b[0m\u001b[0;34m'star'\u001b[0m\u001b[0;34m]\u001b[0m\u001b[0;34m,\u001b[0m\u001b[0;34m'index'\u001b[0m\u001b[0;34m,\u001b[0m \u001b[0msnap\u001b[0m\u001b[0;34m,\u001b[0m \u001b[0msimulation_name\u001b[0m\u001b[0;34m=\u001b[0m\u001b[0msimname\u001b[0m\u001b[0;34m,\u001b[0m \u001b[0msimulation_directory\u001b[0m\u001b[0;34m=\u001b[0m\u001b[0msimdir\u001b[0m\u001b[0;34m,\u001b[0m \u001b[0massign_hosts\u001b[0m\u001b[0;34m=\u001b[0m\u001b[0;32mTrue\u001b[0m\u001b[0;34m,\u001b[0m \u001b[0massign_hosts_rotation\u001b[0m\u001b[0;34m=\u001b[0m\u001b[0;32mTrue\u001b[0m\u001b[0;34m)\u001b[0m               \u001b[0;31m#snap is the snapshot number here that changes everytime the loop iterates. It starts with sanpshot_start\u001b[0m\u001b[0;34m\u001b[0m\u001b[0;34m\u001b[0m\u001b[0m\n\u001b[0m\u001b[1;32m      5\u001b[0m \u001b[0;34m\u001b[0m\u001b[0m\n\u001b[1;32m      6\u001b[0m     \u001b[0mid\u001b[0m\u001b[0;34m=\u001b[0m\u001b[0mpart\u001b[0m\u001b[0;34m[\u001b[0m\u001b[0;34m'star'\u001b[0m\u001b[0;34m]\u001b[0m\u001b[0;34m.\u001b[0m\u001b[0mprop\u001b[0m\u001b[0;34m(\u001b[0m\u001b[0;34m'id'\u001b[0m\u001b[0;34m)\u001b[0m\u001b[0;34m\u001b[0m\u001b[0;34m\u001b[0m\u001b[0m\n",
      "\u001b[0;32m~/simulation_code/gizmo_analysis/gizmo_io.py\u001b[0m in \u001b[0;36mread_snapshots\u001b[0;34m(self, species, snapshot_value_kind, snapshot_values, simulation_directory, snapshot_directory, track_directory, simulation_name, properties, elements, particle_subsample_factor, separate_dark_lowres, sort_dark_by_id, convert_float32, host_number, assign_hosts, assign_hosts_rotation, assign_orbits, assign_formation_coordinates, assign_pointers, check_properties)\u001b[0m\n\u001b[1;32m   1027\u001b[0m \u001b[0;34m\u001b[0m\u001b[0m\n\u001b[1;32m   1028\u001b[0m             \u001b[0;31m# read header from snapshot file\u001b[0m\u001b[0;34m\u001b[0m\u001b[0;34m\u001b[0m\u001b[0;34m\u001b[0m\u001b[0m\n\u001b[0;32m-> 1029\u001b[0;31m             header = self.read_header(\n\u001b[0m\u001b[1;32m   1030\u001b[0m                 \u001b[0msimulation_directory\u001b[0m\u001b[0;34m,\u001b[0m \u001b[0msnapshot_directory\u001b[0m\u001b[0;34m,\u001b[0m \u001b[0;34m'index'\u001b[0m\u001b[0;34m,\u001b[0m \u001b[0msnapshot_index\u001b[0m\u001b[0;34m,\u001b[0m \u001b[0msimulation_name\u001b[0m\u001b[0;34m\u001b[0m\u001b[0;34m\u001b[0m\u001b[0m\n\u001b[1;32m   1031\u001b[0m             )\n",
      "\u001b[0;32m~/simulation_code/gizmo_analysis/gizmo_io.py\u001b[0m in \u001b[0;36mread_header\u001b[0;34m(self, simulation_directory, snapshot_directory, snapshot_value_kind, snapshot_value, simulation_name, snapshot_block_index, verbose)\u001b[0m\n\u001b[1;32m   1421\u001b[0m             )\n\u001b[1;32m   1422\u001b[0m \u001b[0;34m\u001b[0m\u001b[0m\n\u001b[0;32m-> 1423\u001b[0;31m         path_file_name = self.get_snapshot_file_names_indices(\n\u001b[0m\u001b[1;32m   1424\u001b[0m             \u001b[0msnapshot_directory\u001b[0m\u001b[0;34m,\u001b[0m \u001b[0msnapshot_index\u001b[0m\u001b[0;34m,\u001b[0m \u001b[0msnapshot_block_index\u001b[0m\u001b[0;34m\u001b[0m\u001b[0;34m\u001b[0m\u001b[0m\n\u001b[1;32m   1425\u001b[0m         )\n",
      "\u001b[0;32m~/simulation_code/gizmo_analysis/gizmo_io.py\u001b[0m in \u001b[0;36mget_snapshot_file_names_indices\u001b[0;34m(self, directory, snapshot_index, snapshot_block_index)\u001b[0m\n\u001b[1;32m   2184\u001b[0m             \u001b[0msnapshot_index\u001b[0m \u001b[0;34m=\u001b[0m \u001b[0mfile_indices\u001b[0m\u001b[0;34m[\u001b[0m\u001b[0msnapshot_index\u001b[0m\u001b[0;34m]\u001b[0m  \u001b[0;31m# allow negative indexing of snapshots\u001b[0m\u001b[0;34m\u001b[0m\u001b[0;34m\u001b[0m\u001b[0m\n\u001b[1;32m   2185\u001b[0m         \u001b[0;32melif\u001b[0m \u001b[0msnapshot_index\u001b[0m \u001b[0;32mnot\u001b[0m \u001b[0;32min\u001b[0m \u001b[0mfile_indices\u001b[0m\u001b[0;34m:\u001b[0m\u001b[0;34m\u001b[0m\u001b[0;34m\u001b[0m\u001b[0m\n\u001b[0;32m-> 2186\u001b[0;31m             \u001b[0;32mraise\u001b[0m \u001b[0mOSError\u001b[0m\u001b[0;34m(\u001b[0m\u001b[0;34mf'cannot find snapshot index = {snapshot_index} in:  {path_file_names}'\u001b[0m\u001b[0;34m)\u001b[0m\u001b[0;34m\u001b[0m\u001b[0;34m\u001b[0m\u001b[0m\n\u001b[0m\u001b[1;32m   2187\u001b[0m \u001b[0;34m\u001b[0m\u001b[0m\n\u001b[1;32m   2188\u001b[0m         \u001b[0mpath_file_names\u001b[0m \u001b[0;34m=\u001b[0m \u001b[0mpath_file_names\u001b[0m\u001b[0;34m[\u001b[0m\u001b[0mnp\u001b[0m\u001b[0;34m.\u001b[0m\u001b[0mwhere\u001b[0m\u001b[0;34m(\u001b[0m\u001b[0mfile_indices\u001b[0m \u001b[0;34m==\u001b[0m \u001b[0msnapshot_index\u001b[0m\u001b[0;34m)\u001b[0m\u001b[0;34m[\u001b[0m\u001b[0;36m0\u001b[0m\u001b[0;34m]\u001b[0m\u001b[0;34m[\u001b[0m\u001b[0;36m0\u001b[0m\u001b[0;34m]\u001b[0m\u001b[0;34m]\u001b[0m\u001b[0;34m\u001b[0m\u001b[0;34m\u001b[0m\u001b[0m\n",
      "\u001b[0;31mOSError\u001b[0m: cannot find snapshot index = 412 in:  []"
     ]
    }
   ],
   "source": [
    "snaps = [412]\n",
    "\n",
    "for snap in snaps:               #we run a for loop until the end of all snapshots\n",
    "    part=gizmo.io.Read.read_snapshots(['star'],'index', snap, simulation_name=simname, simulation_directory=simdir, assign_hosts=True, assign_hosts_rotation=True)               #snap is the snapshot number here that changes everytime the loop iterates. It starts with sanpshot_start\n",
    "\n",
    "    id=part['star'].prop('id')\n",
    "    id_child=part['star'].prop('id.child')\n",
    "    id_generation=part['star'].prop('id.generation')\n",
    "    age=part['star'].prop('age')\n",
    "    x=part['star'].prop('host.distance.principal')[:,0] #x component of the position of all stars \n",
    "    y=part['star'].prop('host.distance.principal')[:,1] #y component of the position of all stars\n",
    "    z=part['star'].prop('host.distance.principal')[:,2] #z component of the position of all stars\n",
    "    n=len(x) # counting the total no. of star particles\n",
    "    vx=part['star'].prop('host.velocity.principal')[:,0]\n",
    "    vy=part['star'].prop('host.velocity.principal')[:,1]\n",
    "    vz=part['star'].prop('host.velocity.principal')[:,2]\n",
    "    mass=part['star']['mass'] #mass of all stars in snapshot 691\n",
    "    \n",
    "#     above is simulation data without transformation\n",
    "\n",
    "#  transformation code \n",
    "# save output into new set of variables = data with transformation\n",
    "\n",
    "    \n",
    "    \n",
    "    \n",
    "    #compute 3-D velocity in cylindrical coordinates\n",
    "    # first value is along the major axes (positive definite)\n",
    "    # secod value is azimuthal velocity in the plane of the disk (positive definite)\n",
    "    # third value is vertical velocity wrt the disk (signed)\n",
    "    vR_cyl=part['star'].prop('host.velocity.principal.cylindrical')[:,0]\n",
    "    vphi_cyl=part['star'].prop('host.velocity.principal.cylindrical')[:,1]\n",
    "    vz_cyl=part['star'].prop('host.velocity.principal.cylindrical')[:,2]\n",
    "    print(\"\\n#########\\n############\\nLoaded id,id_child,age,x,y,z,vx,vy,vz,mass, cylindrical velocities and number of particles for snapshot no.\",snap)\n",
    "    print(\"Total no of particles in this shapshot no.\",snap,\"is\",n)\n",
    "    \n",
    " ### Now matching the IDs of this snapshot with the ids of all clusters\n",
    "\n",
    "\n",
    "    test_cluster=1                       #This is the test cluster to begin with. It resets to 1 at each snapshot \n",
    "    tracked_data_all_clusters={}         #This dictionary keeps the tracked information for all star clusters in given snapshot. It also resets with snapshots.\n",
    "    for j in range(total_clusters):\n",
    "        tracked_data={}                    #This dictionary holds the tracked information for a cluster temporarily until it is pushed to tracked_data_all_clusters\n",
    "        print(\"\\n\\nNow Matching the ids of the snapshot\",snap,\" with the cluster group id\",test_cluster)\n",
    "        id_test_cluster=cluster_dic[test_cluster][\"id\"]\n",
    "        id_child_test_cluster=cluster_dic[test_cluster][\"id_children\"]\n",
    "        sortind=np.argsort(id_test_cluster)\n",
    "        id_test_cluster_sorted=id_test_cluster[sortind]\n",
    "        id_child_test_cluster_sorted=id_child_test_cluster[sortind]\n",
    "        print(\"The total no. of stars in cluster id \",test_cluster,\" is\",len(id_test_cluster_sorted))\n",
    "        print(\"Sorted ids of this cluster is\",id_test_cluster_sorted)\n",
    "        ind_tracked=matchids(id_test_cluster_sorted,id_child_test_cluster_sorted,id,id_child,id_generation)\n",
    "    \n",
    "    ################################################################\n",
    "    ################################################################\n",
    "    #Now finding the postion, velocities, age and mass of the tracked stars in each snapshots\n",
    "        age_tracked=age[ind_tracked]\n",
    "        x_tracked=x[ind_tracked]\n",
    "        y_tracked=y[ind_tracked]\n",
    "        z_tracked=z[ind_tracked]\n",
    "        vx_tracked=vx[ind_tracked]\n",
    "        vy_tracked=vy[ind_tracked]\n",
    "        vz_tracked=vz[ind_tracked]\n",
    "        mass_tracked=mass[ind_tracked]\n",
    "        \n",
    "        vR_cyl_tracked=vR_cyl[ind_tracked]\n",
    "        vphi_cyl_tracked=vphi_cyl[ind_tracked]\n",
    "        vz_cyl_tracked=vz_cyl[ind_tracked]\n",
    "    \n",
    "    \n",
    "    ################################################################\n",
    "    ################################################################\n",
    "        #Now calculating center of mass and related properties  \n",
    "        print(mass_tracked)\n",
    "        xcm=distance_functions.cm(x_tracked,mass_tracked)\n",
    "        ycm=distance_functions.cm(y_tracked,mass_tracked)\n",
    "        zcm=distance_functions.cm(z_tracked,mass_tracked)\n",
    "        delta_rxyz=distance_functions.dr(x_tracked,y_tracked,z_tracked,mass_tracked)\n",
    "        rmax=distance_functions.drmax(x_tracked,y_tracked,z_tracked,mass_tracked)\n",
    "        ymax=(ycm+1.1*rmax)\n",
    "        ymin=(ycm-1.1*rmax)\n",
    "        xmax=(xcm+1.1*rmax)\n",
    "        xmin=(xcm-1.1*rmax)\n",
    "        avg_delta_rxyz=np.mean(np.absolute(delta_rxyz))\n",
    "  \n",
    "  \n",
    "    ################################################################\n",
    "    ################################################################\n",
    "    #Now lets write our tracked data from each snapshots to a file\n",
    "        tracked_data={\"ind_tracked\":ind_tracked,\"age_tracked\":age_tracked,\"x_tracked\":x_tracked,\"y_tracked\":y_tracked,\"z_tracked\":z_tracked,\n",
    "        \"vx_tracked\":vx_tracked,\"vy_tracked\":vy_tracked,\"vz_tracked\":vz_tracked,\n",
    "        \"mass_tracked\":mass_tracked,\"xcm\":xcm,\"ycm\":ycm,\"zcm\":zcm,\"delta_rxyz\":delta_rxyz,\"rmax\":rmax,\n",
    "        \"ymax\":ymax,\"ymin\":ymin,\"xmax\":xmax,\"xmin\":xmin,\"avg_delta_rxyz\":avg_delta_rxyz,\n",
    "        \"vR_cyl_tracked\":vR_cyl_tracked,\"vphi_cyl_tracked\":vphi_cyl_tracked,\"vz_cyl_tracked\":vz_cyl_tracked}\n",
    "\n",
    "    \n",
    "        tracked_data_all_clusters.update({test_cluster:tracked_data}) #access it using tracked_data_all_clusters[clusterid][\"key\"]\n",
    "        test_cluster+=1\n",
    "  \n",
    "  #We have collected all tracked information for our test clusters for one snapshot now which is in dictionary tracked_data_all_clusters.\n",
    "  #We would store that dictionary in a pickle file as a backup data from each snapshot about or all star cluster.\n",
    "  ###Now moving out of the j loop. We scanned all clusters and stored the tracked data into a dictionary tracked_data_all_clusters  \n",
    "    file_name=\"tracked_clusters_at_snapshot_\"+str(snap)+\".pkl\"\n",
    "    with open(path+file_name, 'wb') as output:\n",
    "        pickle.dump(tracked_data_all_clusters, output)\n",
    "    print(\"\\n Stored tracked data of all stars clusters in the snapshot no.\",snap,\"to filename:\",file_name,\"\\n#####\\n\")\n",
    "  #Note we are still in i loop which is scanning each snapshot !!!!!!!!!!!!!!!!!!\n",
    "    tracked_data_all_clusters_each_snap.update({snap:tracked_data_all_clusters}) \n",
    "\n",
    " \n",
    "#Came out of i loop \n",
    "  \n",
    "#Finally we scanned through all the snapshots and now we come out of the loop to store the final file that contains all the tracked information of all clusters \n",
    "#Now we store the tracked data of all clusters into a dictionary with snapshot number as the key. This would be our final dictionary of dictinaries. \n",
    "with open(path+\"total_data_tracked_clusters_all_snapshots.pkl\", 'wb') as output:\n",
    "    pickle.dump(tracked_data_all_clusters_each_snap, output) #access the data using tracked_data_all_clusters_each_snap[snapshot][cluster_id][\"x_tracked\"])\n",
    "  \n",
    "#Expected Result: tracked_data_all_clusters_each_snap={596:{1:tracked_data,2:tracked_data..},597:{1:tracked_data,2:tracked_data..upto total clusters},598....     upto total snapshots}"
   ]
  },
  {
   "cell_type": "code",
   "execution_count": null,
   "id": "516be918",
   "metadata": {},
   "outputs": [],
   "source": [
    "cluster_dic.keys()\n",
    "tracked_data_all_clusters_each_snap.keys()"
   ]
  },
  {
   "cell_type": "code",
   "execution_count": null,
   "id": "6f546813",
   "metadata": {},
   "outputs": [],
   "source": [
    "# print out masses see when it is giving me zero"
   ]
  },
  {
   "cell_type": "code",
   "execution_count": null,
   "id": "003efd9e",
   "metadata": {},
   "outputs": [],
   "source": [
    "path_2=\"/Network/Servers/VALIVARRE.PHY.TCU.EDU/Volumes/SDF2/aibrahim/Research_with_Sarah/Plots/\"\n",
    "# if not os.path.exists(path):\n",
    "#   os.makedirs(path)\n",
    "\n",
    "\n",
    "tracked_file =\"total_data_tracked_clusters_all_snapshots.pkl\"\n",
    "# temporary_name = simname+'.'+str(snaps[0])+\".minage\"+ str('%.2f' %min_age_array_Gyr[k])+\"_\"+\"maxage\"+\"_\"+str('%.2f' %max_age_array_Gyr[k])+\"_b\"+str(b_parsec)+\"_nmin\"+str(ncut_min)+\".pkl\"\n",
    "with open(path_2+tracked_file, \"rb\") as fp:\n",
    "    tracked_data_all_clusters_each_snap = pickle.load(fp)"
   ]
  },
  {
   "cell_type": "markdown",
   "id": "ebf0a3e5",
   "metadata": {},
   "source": [
    "change aspect ratio CHECK\n",
    "plot rcm vs. zcm\n",
    "legend by snapshot number"
   ]
  },
  {
   "cell_type": "code",
   "execution_count": null,
   "id": "36aaaa41",
   "metadata": {},
   "outputs": [],
   "source": [
    "snaps = [412,446,486,534,590,591,592,593,594,595,596,597,598,599,600]\n",
    "\n",
    "fig2 = plt.figure()\n",
    "ax2 = plt.gca()\n",
    "\n",
    "for m in range(2,3):\n",
    "    for i in snaps:\n",
    "        \n",
    "        x_tracked_cluster = tracked_data_all_clusters_each_snap[i][m][\"xcm\"]\n",
    "        y_tracked_cluster = tracked_data_all_clusters_each_snap[i][m][\"ycm\"]\n",
    "        z_tracked_cluster = tracked_data_all_clusters_each_snap[i][m][\"zcm\"]\n",
    "        rcm = np.sqrt(x_tracked_cluster**2+y_tracked_cluster**2)\n",
    "        ax2.scatter(rcm,z_tracked_cluster,label=i)\n",
    "        ax2.set_xlabel(\"X [kpc]\")\n",
    "        ax2.set_ylabel(\"Z [kpc]\")\n",
    "#         ax2.set_aspect('equal')\n",
    "#         ax2.legend()\n",
    "    plt.show()\n"
   ]
  },
  {
   "cell_type": "code",
   "execution_count": null,
   "id": "4b85a16e",
   "metadata": {
    "scrolled": true
   },
   "outputs": [],
   "source": [
    "\n",
    "rcm_values = []\n",
    "zcm_values = []\n",
    "for m in range(1,2):\n",
    "    for i in snaps:\n",
    "        snaps = [412,446,486,534,590,591,592,593,594,595,596,597,598,599,600]\n",
    "\n",
    "        x_tracked_cluster = tracked_data_all_clusters_each_snap[i][m][\"xcm\"]\n",
    "        y_tracked_cluster = tracked_data_all_clusters_each_snap[i][m][\"ycm\"]\n",
    "        z_tracked_cluster = tracked_data_all_clusters_each_snap[i][m][\"zcm\"]\n",
    "        rcm = np.sqrt(x_tracked_cluster**2+y_tracked_cluster**2)\n",
    "        rcm_values.append(rcm)\n",
    "        zcm_values.append(z_tracked_cluster)\n",
    "#         ax2.scatter(np.array(rcm),np.array(z_tracked_cluster),c=snaps,cmap='Purples')\n",
    "#         ax2.set_xlabel(\"rcm [kpc]\")\n",
    "#         ax2.set_ylabel(\"Z [kpc]\")\n",
    "#         ax2.set_aspect('equal')\n",
    "# #         print(x_tracked_cluster)\n",
    "#         print(rcm)\n",
    "#         print(z_tracked_cluster)\n",
    "\n",
    "        #         ax2.legend()\n",
    "#     plt.show()\n"
   ]
  },
  {
   "cell_type": "code",
   "execution_count": null,
   "id": "2cc7a799",
   "metadata": {},
   "outputs": [],
   "source": [
    "fig = plt.figure()\n",
    "ax = plt.gca()\n",
    "\n",
    "ax.scatter(rcm_values,zcm_values,c=snaps,cmap='gist_rainbow')\n",
    "ax.text(3.78,-0.52,'snap 600')\n",
    "ax.text(3.27,-0.27,'Snap 446')\n",
    "ax.text(5.8,1.47,'Snap 486')\n",
    "ax.text(3.58, 1.4372971018024545,'Snap 534')\n",
    "ax.text(3.99,-0.3500246096634756,'Snap 599')\n",
    "ax.set_xlabel('Rcm [Kpc]')\n",
    "ax.set_ylabel('Zcm [Kpc]')\n",
    "ax.set_aspect('equal')\n"
   ]
  },
  {
   "cell_type": "code",
   "execution_count": null,
   "id": "05d64ba8",
   "metadata": {},
   "outputs": [],
   "source": [
    "# ###### snaps = [446,486,534,590,591,592,593,594,595,596,597,598,599,600]\n",
    "\n",
    "# fig2 = plt.figure()\n",
    "# ax2 = plt.gca()\n",
    "\n",
    "rcm_values = []\n",
    "zcm_values = []\n",
    "for m in range(2,3):\n",
    "    for i in snaps:\n",
    "        snaps = [412,446,486,534,590,591,592,593,594,595,596,597,598,599,600]\n",
    "\n",
    "        x_tracked_cluster = tracked_data_all_clusters_each_snap[i][m][\"xcm\"]\n",
    "        y_tracked_cluster = tracked_data_all_clusters_each_snap[i][m][\"ycm\"]\n",
    "        z_tracked_cluster = tracked_data_all_clusters_each_snap[i][m][\"zcm\"]\n",
    "        rcm = np.sqrt(x_tracked_cluster**2+y_tracked_cluster**2)\n",
    "        rcm_values.append(rcm)\n",
    "        zcm_values.append(z_tracked_cluster)\n",
    "#         ax2.scatter(np.array(rcm),np.array(z_tracked_cluster),c=snaps,cmap='Purples')\n",
    "#         ax2.set_xlabel(\"rcm [kpc]\")\n",
    "#         ax2.set_ylabel(\"Z [kpc]\")\n",
    "#         ax2.set_aspect('equal')\n",
    "# #         print(x_tracked_cluster)\n",
    "#         print(rcm)\n",
    "#         print(z_tracked_cluster)\n",
    "\n",
    "#         #         ax2.legend()\n",
    "#     plt.show()\n"
   ]
  },
  {
   "cell_type": "code",
   "execution_count": null,
   "id": "6220d9e5",
   "metadata": {},
   "outputs": [],
   "source": [
    "fig = plt.figure()\n",
    "ax = plt.gca()\n",
    "\n",
    "ax.scatter(rcm_values,zcm_values,c=snaps,cmap ='gist_rainbow')\n",
    "ax.text(4.3,-0.93,'snap 600')\n",
    "ax.text(3.77 ,-1.104,'Snap 446')\n",
    "ax.text(4.76,-0.74,'Snap 486')\n",
    "ax.text(5.27,-0.93,'Snap 534')\n",
    "ax.text(4.46,-1.12,'Snap 599')\n",
    "ax.set_xlabel('Rcm [Kpc]')\n",
    "ax.set_ylabel('Zcm [Kpc]')\n",
    "ax.set_aspect('equal')\n"
   ]
  },
  {
   "cell_type": "code",
   "execution_count": null,
   "id": "e94c30a2",
   "metadata": {},
   "outputs": [],
   "source": []
  }
 ],
 "metadata": {
  "kernelspec": {
   "display_name": "Python 3",
   "language": "python",
   "name": "python3"
  },
  "language_info": {
   "codemirror_mode": {
    "name": "ipython",
    "version": 3
   },
   "file_extension": ".py",
   "mimetype": "text/x-python",
   "name": "python",
   "nbconvert_exporter": "python",
   "pygments_lexer": "ipython3",
   "version": "3.8.8"
  }
 },
 "nbformat": 4,
 "nbformat_minor": 5
}
