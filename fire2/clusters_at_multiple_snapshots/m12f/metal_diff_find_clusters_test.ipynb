{
 "cells": [
  {
   "cell_type": "code",
   "execution_count": 1,
   "id": "0737e2c3-569a-46ba-a79d-2884c2ad222f",
   "metadata": {},
   "outputs": [],
   "source": [
    "import matplotlib as plt2 #need this for patches for shaded circles\n",
    "import numpy as np\n",
    "import matplotlib.pyplot as plt\n",
    "import gizmo_analysis as gizmo \n",
    "import utilities as ut\n",
    "import matplotlib.colors as colors\n",
    "from matplotlib import rc #to use Latex math symbols like 'phi'\n",
    "import astropy\n",
    "from astropy.io import ascii\n",
    "import matplotlib\n",
    "\n",
    "import pdb\n",
    "from importlib import reload\n",
    "# from sl_utilities import distance_functions\n",
    "#pdb.set_trace()  #<--in case need to troubleshoot\n",
    "import pickle\n",
    "import os\n",
    "from fof_analysis import fof"
   ]
  },
  {
   "cell_type": "code",
   "execution_count": 2,
   "id": "817dbb07-c8b0-4cb0-9a2f-288c864a4407",
   "metadata": {},
   "outputs": [
    {
     "name": "stdout",
     "output_type": "stream",
     "text": [
      "\n",
      "# in utilities.simulation.Snapshot():\n",
      "* reading:  scratch/projects/xsede/GalaxiesOnFIRE/metal_diffusion/m12i_r7100/snapshot_times.txt\n",
      "\n",
      "  using snapshot index = 600, redshift = 0.000\n",
      "\n",
      "\n",
      "# in gizmo_analysis.gizmo_io.Read():\n",
      "* reading header from:  scratch/projects/xsede/GalaxiesOnFIRE/metal_diffusion/m12i_r7100/output/snapdir_600/snapshot_600.0.hdf5\n",
      "  snapshot contains the following number of particles:\n",
      "    dark      (id = 1): 70514272 particles\n",
      "    dark2     (id = 2): 5513331 particles\n",
      "    gas       (id = 0): 57060074 particles\n",
      "    star      (id = 4): 13976485 particles\n",
      "    blackhole (id = 5): 0 particles\n",
      "\n",
      "* reading the following\n",
      "  species: ['star']\n",
      "\n",
      "* reading particles from:\n",
      "    snapshot_600.0.hdf5\n",
      "    snapshot_600.1.hdf5\n",
      "    snapshot_600.2.hdf5\n",
      "    snapshot_600.3.hdf5\n",
      "\n",
      "* reading cosmological parameters from:  scratch/projects/xsede/GalaxiesOnFIRE/metal_diffusion/m12i_r7100/initial_condition/ic_agora_m12i.conf\n",
      "\n",
      "* checking sanity of particle properties\n",
      "\n",
      "\n",
      "# in gizmo_analysis.gizmo_track.ParticleCoordinate():\n",
      "  read 1 host (position, velocity, principal axes) from:  scratch/projects/xsede/GalaxiesOnFIRE/metal_diffusion/m12i_r7100/track/host_coordinates.hdf5\n",
      "  host1 position = (41792.15, 44131.23, 46267.68) [kpc comoving]\n",
      "  host1 velocity = (-52.2, 73.6, 94.7) [km / s]\n",
      "  host1 axis ratios = (0.16, 0.16, 0.99)\n",
      "\n"
     ]
    }
   ],
   "source": [
    "#########################################################################\n",
    "#########################################################################\n",
    "#load particle data here as you normally do to get the star information\n",
    "#cut on Rxy, |z| and age\n",
    "#run fof\n",
    "#sind, sxcm, sycm, szcm, smtot, sgrpid, sr90, sr50, srmax =fof.find(x[si],y[si],z[si], b=b_kpc, mass=mass[si], ncut=ncut_min)\n",
    "#srcm = np.sqrt(sxcm**2. + sycm**2.)\n",
    "\n",
    "simname = 'm12i_res7100_mhdcv'\n",
    "simtype=\"fire2\"\n",
    "simdir='/scratch/projects/xsede/GalaxiesOnFIRE/metal_diffusion/m12i_r7100/'\n",
    "#simdir = '/scratch/projects/xsede/GalaxiesOnFIRE/cr_suite/m12i_r7100/mhdcv/1Myr/fire2/'\n",
    "snapnumber = 600\n",
    "part = gizmo.io.Read.read_snapshots(['star'],'index', snapnumber, simulation_name=simname, simulation_directory=simdir, assign_hosts_rotation=True, assign_hosts=True)  \n"
   ]
  },
  {
   "cell_type": "code",
   "execution_count": 3,
   "id": "44cda17d-a550-41e1-8482-c7ecd39320fc",
   "metadata": {},
   "outputs": [
    {
     "name": "stdout",
     "output_type": "stream",
     "text": [
      "linking length  0.004\n",
      "min number particles in group  5\n",
      "7.072356224060059 seconds\n",
      "number of groups 1\n",
      "max number in a group 5\n"
     ]
    }
   ],
   "source": [
    "rxyz     = part['star'].prop('host.distance.total')\n",
    "Rxy      = part['star'].prop('host.distance.principal.cylindrical')[:,0]\n",
    "x        = part['star'].prop('host.distance.principal')[:,0]\n",
    "y        = part['star'].prop('host.distance.principal')[:,1]\n",
    "z        = part['star'].prop('host.distance.principal')[:,2] \n",
    "age      = part['star'].prop('age')\n",
    "mass     = part['star'].prop('mass')\n",
    "ids      = part['star'].prop('id')\n",
    "id_child = part['star'].prop('id.child')\n",
    "feh      = part['star'].prop('metallicity.fe')\n",
    "\n",
    "\n",
    "linking_length = 0.004 #4 parsec (unit here is in kpc)\n",
    "ncut           = 5 #4 star particles\n",
    "\n",
    "#keep = np.where((age <= .003) & ((Rxy < 20) & (Rxy>2)) & (abs(z) < 1.5))\n",
    "#keep = np.where((age <= .003) & (rxyz < 20) & (abs(z) < 1.5))\n",
    "min_age_value = 5.42\n",
    "max_age_value = 5.46\n",
    "keep = np.where((age >= min_age_value) & (age <= max_age_value) & ((Rxy < 20) & (Rxy>2)) & (abs(z) < 1.5))\n",
    "\n",
    "rxyz0     = rxyz[keep]\n",
    "Rxy0      = Rxy[keep]\n",
    "x0        = x[keep]\n",
    "y0        = y[keep]\n",
    "z0        = z[keep]\n",
    "mass0     = mass[keep]\n",
    "id0       = ids[keep]\n",
    "id_child0 = id_child[keep]\n",
    "feh0      = feh[keep]\n",
    "\n",
    "\n",
    "ind, xcm, ycm, zcm, mtot, grpid, r90, r50, rmax =fof.find(x0,y0,z0, b=linking_length, mass=mass0, ncut=ncut)"
   ]
  },
  {
   "cell_type": "code",
   "execution_count": 4,
   "id": "5cf5a3a2-b6ec-4c79-8bf1-e6472b368a0c",
   "metadata": {},
   "outputs": [
    {
     "name": "stdout",
     "output_type": "stream",
     "text": [
      "------------------------------------------------------------------------------------------------------------------\n",
      "grpid, nstar, xcm (kpc), ycm (kpc), zcm (kpc), mtot (msun), rmax (pc)\n",
      "1     5     -3.5964     2.4800    -0.9374     4.80e+04     3.5 \n",
      "age os stars in the cluster [ 9.76040017  1.56987583 11.52149151 ... 12.08954577 11.67528356\n",
      " 11.67533884]\n",
      "ids\n",
      "[19282605, 37408125, 30082663, 38998283, 10956972]\n",
      "id children\n",
      "[0, 29, 0, 0, 0]\n",
      "These are the ids printed [19282605 37408125 30082663 38998283 10956972]\n"
     ]
    }
   ],
   "source": [
    "ngroup = len(mtot)\n",
    "export_cluster={}\n",
    "for grp_index in range(ngroup):  #iterate over each group\n",
    "    cluster={}\n",
    "    ids_in_cluster = id0[ind[grp_index]]  #these are the star particle ids in each cluster\n",
    "    id_children_in_cluster = id_child0[ind[grp_index]]\n",
    "    nstar = len(ids_in_cluster)\n",
    "    groupid=grpid[grp_index]\n",
    "    print('------------------------------------------------------------------------------------------------------------------')\n",
    "    print('grpid, nstar, xcm (kpc), ycm (kpc), zcm (kpc), mtot (msun), rmax (pc)')\n",
    "    print('%s     %i     %.4f     %.4f    %.4f     %.2e     %.1f ' % (grpid[grp_index], nstar, xcm[grp_index], ycm[grp_index], zcm[grp_index], mtot[grp_index], 1000*rmax[grp_index]))\n",
    "    print(\"age os stars in the cluster\",age)\n",
    "    print('ids')\n",
    "    string = '[' \n",
    "    for i in ids_in_cluster:\n",
    "        string = string + str(i) + ', '\n",
    "\n",
    "    #get rid of last extra ,\n",
    "    length = len(string)-2\n",
    "    string = string[0:length] + ']'\n",
    "    print(string)\n",
    "\n",
    "    print('id children')\n",
    "    string = '[' \n",
    "    for i in id_children_in_cluster:\n",
    "        string = string + str(i) + ', '\n",
    "\n",
    "    #get rid of last extra ,\n",
    "    length = len(string)-2\n",
    "    string = string[0:length] + ']'\n",
    "    print(string)\n",
    "    print(\"These are the ids printed\",ids_in_cluster)\n",
    "    feh_in_cluster=feh0[ind[grp_index]]\n",
    "    cluster={\"cluster_groupid\":groupid,\"no_of_star\":nstar,\"id\":ids_in_cluster,\n",
    "    \"id_children\":id_children_in_cluster,\"xcm\":xcm[grp_index],\"ycm\":ycm[grp_index],\n",
    "    \"zcm\":zcm[grp_index],\"mtot\":mtot[grp_index],\"r90\":r90[grp_index],\"r50\":r50[grp_index],\n",
    "    \"rmax\":rmax[grp_index],\"x\":x0[ind[grp_index]],\"y\":y0[ind[grp_index]],\"z\":z0[ind[grp_index]],\"feh\":feh_in_cluster}\n",
    "    export_cluster.update({groupid:cluster})\n",
    "\n"
   ]
  },
  {
   "cell_type": "code",
   "execution_count": 5,
   "id": "cf01a913-c36f-4a89-b6cb-6ee3cb0f14ca",
   "metadata": {},
   "outputs": [
    {
     "name": "stdout",
     "output_type": "stream",
     "text": [
      "{1: {'cluster_groupid': 1, 'no_of_star': 5, 'id': array([19282605, 37408125, 30082663, 38998283, 10956972], dtype=uint32), 'id_children': array([ 0, 29,  0,  0,  0], dtype=uint32), 'xcm': -3.5963564855064325, 'ycm': 2.4800067280945903, 'zcm': -0.9373722607820829, 'mtot': 48031.23779296875, 'r90': 0.002372313036747412, 'r50': 0.002235945037752304, 'rmax': 0.003531726547188485, 'x': array([-3.5977977 , -3.59806283, -3.59620019, -3.59551358, -3.59360648]), 'y': array([2.48183714, 2.48046878, 2.47866463, 2.4799973 , 2.47931488]), 'z': array([-0.93781988, -0.93795365, -0.93715236, -0.9353013 , -0.93947746]), 'feh': array([ 0.22366543,  0.01020421, -0.10092573, -0.08314352, -0.18668084],\n",
      "      dtype=float32)}}\n"
     ]
    }
   ],
   "source": [
    "print(export_cluster)"
   ]
  },
  {
   "cell_type": "code",
   "execution_count": null,
   "id": "c87e1a35-d2be-4433-a268-d3943d9f596c",
   "metadata": {},
   "outputs": [],
   "source": []
  }
 ],
 "metadata": {
  "kernelspec": {
   "display_name": "Python 3",
   "language": "python",
   "name": "python3"
  },
  "language_info": {
   "codemirror_mode": {
    "name": "ipython",
    "version": 3
   },
   "file_extension": ".py",
   "mimetype": "text/x-python",
   "name": "python",
   "nbconvert_exporter": "python",
   "pygments_lexer": "ipython3",
   "version": "3.8.8"
  }
 },
 "nbformat": 4,
 "nbformat_minor": 5
}
