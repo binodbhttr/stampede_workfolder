{
 "cells": [
  {
   "cell_type": "code",
   "execution_count": 1,
   "id": "f5c6cba0",
   "metadata": {},
   "outputs": [],
   "source": [
    "import matplotlib as plt2 #need this for patches for shaded circles\n",
    "import numpy as np\n",
    "import matplotlib.pyplot as plt\n",
    "import gizmo_analysis as gizmo \n",
    "import utilities as ut\n",
    "import matplotlib.colors as colors\n",
    "from matplotlib import rc #to use Latex math symbols like 'phi'\n",
    "import astropy\n",
    "from astropy.io import ascii\n",
    "import matplotlib\n",
    "\n",
    "import pdb\n",
    "from importlib import reload\n",
    "# from sl_utilities import distance_functions\n",
    "#pdb.set_trace()  #<--in case need to troubleshoot\n",
    "import pickle\n",
    "import os\n",
    "from fof_analysis import fof"
   ]
  },
  {
   "cell_type": "code",
   "execution_count": 3,
   "id": "487e8851",
   "metadata": {},
   "outputs": [
    {
     "name": "stdout",
     "output_type": "stream",
     "text": [
      "\n",
      "# in utilities.simulation.Snapshot():\n",
      "* reading:  scratch/projects/xsede/GalaxiesOnFIRE/metal_diffusion/m12i_r7100/snapshot_times.txt\n",
      "\n",
      "  using snapshot index = 600, redshift = 0.000\n",
      "\n",
      "\n",
      "# in gizmo_analysis.gizmo_io.Read():\n",
      "* reading header from:  scratch/projects/xsede/GalaxiesOnFIRE/metal_diffusion/m12i_r7100/output/snapdir_600/snapshot_600.0.hdf5\n",
      "  snapshot contains the following number of particles:\n",
      "    dark      (id = 1): 70514272 particles\n",
      "    dark2     (id = 2): 5513331 particles\n",
      "    gas       (id = 0): 57060074 particles\n",
      "    star      (id = 4): 13976485 particles\n",
      "    blackhole (id = 5): 0 particles\n",
      "\n",
      "* reading the following\n",
      "  species: ['star']\n",
      "\n",
      "* reading particles from:\n",
      "    snapshot_600.0.hdf5\n",
      "    snapshot_600.1.hdf5\n",
      "    snapshot_600.2.hdf5\n",
      "    snapshot_600.3.hdf5\n",
      "\n",
      "* reading cosmological parameters from:  scratch/projects/xsede/GalaxiesOnFIRE/metal_diffusion/m12i_r7100/initial_condition/ic_agora_m12i.conf\n",
      "\n",
      "* checking sanity of particle properties\n",
      "\n",
      "\n",
      "# in gizmo_analysis.gizmo_track.ParticleCoordinate():\n",
      "  read 1 host (position, velocity, principal axes) from:  scratch/projects/xsede/GalaxiesOnFIRE/metal_diffusion/m12i_r7100/track/host_coordinates.hdf5\n",
      "  host1 position = (41792.15, 44131.23, 46267.68) [kpc comoving]\n",
      "  host1 velocity = (-52.2, 73.6, 94.7) [km / s]\n",
      "  host1 axis ratios = (0.16, 0.16, 0.99)\n",
      "\n"
     ]
    }
   ],
   "source": [
    "#########################################################################\n",
    "#########################################################################\n",
    "#load particle data here as you normally do to get the star information\n",
    "#cut on Rxy, |z| and age\n",
    "#run fof\n",
    "#sind, sxcm, sycm, szcm, smtot, sgrpid, sr90, sr50, srmax =fof.find(x[si],y[si],z[si], b=b_kpc, mass=mass[si], ncut=ncut_min)\n",
    "#srcm = np.sqrt(sxcm**2. + sycm**2.)\n",
    "\n",
    "simname = 'm12i_res7100_mhdcv'\n",
    "simtype=\"fire2\"\n",
    "simdir='/scratch/projects/xsede/GalaxiesOnFIRE/metal_diffusion/m12i_r7100/'\n",
    "#simdir = '/scratch/projects/xsede/GalaxiesOnFIRE/cr_suite/m12i_r7100/mhdcv/1Myr/fire2/'\n",
    "snapnumber = 600\n",
    "part = gizmo.io.Read.read_snapshots(['star'],'index', snapnumber, simulation_name=simname, simulation_directory=simdir, assign_hosts_rotation=True, assign_hosts=True)  \n"
   ]
  },
  {
   "cell_type": "code",
   "execution_count": 10,
   "id": "581d7acf",
   "metadata": {},
   "outputs": [],
   "source": [
    "rxyz     = part['star'].prop('host.distance.total')\n",
    "Rxy      = part['star'].prop('host.distance.principal.cylindrical')[:,0]\n",
    "x        = part['star'].prop('host.distance.principal')[:,0]\n",
    "y        = part['star'].prop('host.distance.principal')[:,1]\n",
    "z        = part['star'].prop('host.distance.principal')[:,2] \n",
    "mass     = part['star'].prop('mass')\n",
    "feh      = part['star'].prop('metallicity.fe')\n",
    "ids      = part['star'].prop('id')\n",
    "id_child = part['star'].prop('id.child')\n",
    "age      = part['star'].prop('age')\n",
    "\n",
    "\n",
    "min_age_value = 5.42\n",
    "max_age_value = 5.46\n",
    "#select young stars within the disk for star clusters\n",
    "keep = np.where((age >= min_age_value) & (age <= max_age_value) & ((Rxy < 20) & (Rxy>2)) & (abs(z) < 1.5))\n",
    "#to run cluster finding on\n",
    "rxyz0     = rxyz[keep]\n",
    "Rxy0      = Rxy[keep]\n",
    "x0        = x[keep]\n",
    "y0        = y[keep]\n",
    "z0        = z[keep]\n",
    "mass0     = mass[keep]\n",
    "feh0      = feh[keep]\n",
    "id0       = ids[keep]\n",
    "id_child0 = id_child[keep]\n",
    "age0      = age[keep]"
   ]
  },
  {
   "cell_type": "code",
   "execution_count": 11,
   "id": "645f01c9",
   "metadata": {},
   "outputs": [],
   "source": [
    "# print(x0)\n",
    "# print(mass0)\n",
    "# print(y0)\n",
    "# print(ncut)\n",
    "# ncut           = 5 #4 star particles\n",
    "# ind, xcm, ycm, zcm, mtot, grpid, r90, r50, rmax, feh_avg, age_avg =fof.find(x0,y0,z0,feh=feh0,age=age0,b=linking_length, mass=mass0, ncut=ncut)"
   ]
  },
  {
   "cell_type": "code",
   "execution_count": null,
   "id": "19e0bccf",
   "metadata": {},
   "outputs": [],
   "source": []
  },
  {
   "cell_type": "code",
   "execution_count": 12,
   "id": "c2870f4f",
   "metadata": {},
   "outputs": [
    {
     "name": "stdout",
     "output_type": "stream",
     "text": [
      "linking length  0.004\n",
      "min number particles in group  5\n",
      "10.088620901107788 seconds\n",
      "there are no groups with this linking length\n"
     ]
    },
    {
     "ename": "TypeError",
     "evalue": "object of type 'numpy.uint32' has no len()",
     "output_type": "error",
     "traceback": [
      "\u001b[0;31m---------------------------------------------------------------------------\u001b[0m",
      "\u001b[0;31mTypeError\u001b[0m                                 Traceback (most recent call last)",
      "\u001b[0;32m<ipython-input-12-dcdf7746c982>\u001b[0m in \u001b[0;36m<module>\u001b[0;34m\u001b[0m\n\u001b[1;32m     11\u001b[0m     \u001b[0mid_children_in_cluster\u001b[0m \u001b[0;34m=\u001b[0m \u001b[0mid_child0\u001b[0m\u001b[0;34m[\u001b[0m\u001b[0mind\u001b[0m\u001b[0;34m[\u001b[0m\u001b[0mgrp_index\u001b[0m\u001b[0;34m]\u001b[0m\u001b[0;34m]\u001b[0m\u001b[0;34m\u001b[0m\u001b[0;34m\u001b[0m\u001b[0m\n\u001b[1;32m     12\u001b[0m     \u001b[0mage\u001b[0m\u001b[0;34m=\u001b[0m\u001b[0mage0\u001b[0m\u001b[0;34m[\u001b[0m\u001b[0mind\u001b[0m\u001b[0;34m[\u001b[0m\u001b[0mgrp_index\u001b[0m\u001b[0;34m]\u001b[0m\u001b[0;34m]\u001b[0m\u001b[0;34m\u001b[0m\u001b[0;34m\u001b[0m\u001b[0m\n\u001b[0;32m---> 13\u001b[0;31m     \u001b[0mnstar\u001b[0m \u001b[0;34m=\u001b[0m \u001b[0mlen\u001b[0m\u001b[0;34m(\u001b[0m\u001b[0mids_in_cluster\u001b[0m\u001b[0;34m)\u001b[0m\u001b[0;34m\u001b[0m\u001b[0;34m\u001b[0m\u001b[0m\n\u001b[0m\u001b[1;32m     14\u001b[0m     \u001b[0mgroupid\u001b[0m\u001b[0;34m=\u001b[0m\u001b[0mgrpid\u001b[0m\u001b[0;34m[\u001b[0m\u001b[0mgrp_index\u001b[0m\u001b[0;34m]\u001b[0m\u001b[0;34m\u001b[0m\u001b[0;34m\u001b[0m\u001b[0m\n\u001b[1;32m     15\u001b[0m     \u001b[0mprint\u001b[0m\u001b[0;34m(\u001b[0m\u001b[0;34m'------------------------------------------------------------------------------------------------------------------'\u001b[0m\u001b[0;34m)\u001b[0m\u001b[0;34m\u001b[0m\u001b[0;34m\u001b[0m\u001b[0m\n",
      "\u001b[0;31mTypeError\u001b[0m: object of type 'numpy.uint32' has no len()"
     ]
    }
   ],
   "source": [
    "linking_length = 0.004 #4 parsec\n",
    "ncut           = 5 #4 star particles\n",
    "\n",
    "ind, xcm, ycm, zcm, mtot, grpid, r90, r50, rmax =fof.find(x0,y0,z0,b=linking_length, mass=mass0, ncut=ncut)\n",
    "ngroup = len(mtot)\n",
    "\n",
    "export_cluster={}\n",
    "for grp_index in range(ngroup):  #iterate over each group\n",
    "    cluster={}\n",
    "    ids_in_cluster = id0[ind[grp_index]]  #these are the star particle ids in each cluster\n",
    "    id_children_in_cluster = id_child0[ind[grp_index]]\n",
    "    age=age0[ind[grp_index]]\n",
    "    nstar = len(ids_in_cluster)\n",
    "    groupid=grpid[grp_index]\n",
    "    print('------------------------------------------------------------------------------------------------------------------')\n",
    "    print('grpid, nstar, xcm (kpc), ycm (kpc), zcm (kpc), mtot (msun), rmax (pc)')\n",
    "    print('%s     %i     %.4f     %.4f    %.4f     %.2e     %.1f ' % (grpid[grp_index], nstar, xcm[grp_index], ycm[grp_index], zcm[grp_index], mtot[grp_index], 1000*rmax[grp_index]))\n",
    "    print(\"age of stars in the cluster\",age)\n",
    "    print('ids')\n",
    "    string = '[' \n",
    "    for i in ids_in_cluster:\n",
    "        string = string + str(i) + ', '\n",
    "\n",
    "    #get rid of last extra ,\n",
    "    length = len(string)-2\n",
    "    string = string[0:length] + ']'\n",
    "    print(string)\n",
    "\n",
    "    print('id children')\n",
    "    string = '[' \n",
    "    for i in id_children_in_cluster:\n",
    "        string = string + str(i) + ', '\n",
    "\n",
    "    #get rid of last extra ,\n",
    "    length = len(string)-2\n",
    "    string = string[0:length] + ']'\n",
    "    print(string)\n",
    "    print(\"These are the ids printed\",ids_in_cluster)\n",
    "    #feh_in_cluster=feh[ids_in_cluster]\n",
    "    cluster={\"cluster_groupid\":groupid,\"no_of_star\":nstar,\"id\":ids_in_cluster,\"id_children\":id_children_in_cluster,\"xcm\":xcm[grp_index],\"ycm\":ycm[grp_index],\"zcm\":zcm[grp_index],\"mtot\":mtot[grp_index],\"r90\":r90[grp_index],\"r50\":r50[grp_index],\"rmax\":rmax[grp_index],\"x\":x0[ind[grp_index]],\"y\":y0[ind[grp_index]],\"z\":z0[ind[grp_index]],\"age\":age0[ind[grp_index]]}\n",
    "    export_cluster.update({groupid:cluster})\n",
    "\n",
    "\n",
    "\n",
    "######################################################################\n",
    "#######################################################################\n",
    "\n",
    "print('------------------------------------------------------------------------------------------------------------------')\n",
    "\n"
   ]
  },
  {
   "cell_type": "markdown",
   "id": "70315828",
   "metadata": {},
   "source": [
    "#### 4-5 Gyr started at 8:11 PM ended at 9:06 PM - 4 clusters found\n",
    "#### 5-6 Gyr started at 4:11 PM ended at 5:04 PM - 2 clusters found\n",
    "#### 6-7 Gyr started at 5:06 PM ended at 5:44 PM - no clusters found\n",
    "#### 7-8 Gyr started at 5:49 PM ended at 5:50 PM - no clusters found\n",
    "#### 8-9 Gyr started at something to something - no clusters found\n",
    "#### 9-11 Gyr started at 6:56 PM ended at "
   ]
  },
  {
   "cell_type": "code",
   "execution_count": 8,
   "id": "530e251e",
   "metadata": {},
   "outputs": [],
   "source": [
    "# instead of re running FOF to access cluster info, I am just extracting the data from a pickle file.\n",
    "\n",
    "\n",
    "clusters_datapath=\"./\"\n",
    "\n",
    "file_name= \"fire2_clusters_m12i_res7100_snapshot_600_5.0>age>6.0.pkl\"\n",
    "\n",
    "with open(clusters_datapath+file_name, \"rb\") as input:\n",
    "  import_cluster = pickle.load(input)\n",
    "\n"
   ]
  },
  {
   "cell_type": "code",
   "execution_count": 9,
   "id": "b96ccca7",
   "metadata": {},
   "outputs": [
    {
     "ename": "NameError",
     "evalue": "name 'age_avg' is not defined",
     "output_type": "error",
     "traceback": [
      "\u001b[0;31m---------------------------------------------------------------------------\u001b[0m",
      "\u001b[0;31mNameError\u001b[0m                                 Traceback (most recent call last)",
      "\u001b[0;32m/var/folders/gg/mn_2q0nx7091304qmb7pj9zr00013y/T/ipykernel_54219/593498634.py\u001b[0m in \u001b[0;36m<module>\u001b[0;34m\u001b[0m\n\u001b[0;32m----> 1\u001b[0;31m \u001b[0mprint\u001b[0m\u001b[0;34m(\u001b[0m\u001b[0mage_avg\u001b[0m\u001b[0;34m[\u001b[0m\u001b[0;36m0\u001b[0m\u001b[0;34m]\u001b[0m\u001b[0;34m,\u001b[0m \u001b[0;34m\"Gyr\"\u001b[0m\u001b[0;34m)\u001b[0m\u001b[0;34m\u001b[0m\u001b[0;34m\u001b[0m\u001b[0m\n\u001b[0m\u001b[1;32m      2\u001b[0m \u001b[0mprint\u001b[0m\u001b[0;34m(\u001b[0m\u001b[0mage_avg\u001b[0m\u001b[0;34m[\u001b[0m\u001b[0;36m1\u001b[0m\u001b[0;34m]\u001b[0m\u001b[0;34m,\u001b[0m \u001b[0;34m\"Gyr\"\u001b[0m\u001b[0;34m)\u001b[0m\u001b[0;34m\u001b[0m\u001b[0;34m\u001b[0m\u001b[0m\n\u001b[1;32m      3\u001b[0m \u001b[0;31m# print(age_avg[5]*1000)\u001b[0m\u001b[0;34m\u001b[0m\u001b[0;34m\u001b[0m\u001b[0m\n\u001b[1;32m      4\u001b[0m \u001b[0;31m# print(age_avg[7]*1000)\u001b[0m\u001b[0;34m\u001b[0m\u001b[0;34m\u001b[0m\u001b[0m\n\u001b[1;32m      5\u001b[0m \u001b[0;34m\u001b[0m\u001b[0m\n",
      "\u001b[0;31mNameError\u001b[0m: name 'age_avg' is not defined"
     ]
    }
   ],
   "source": [
    "print(age_avg[0], \"Gyr\")\n",
    "print(age_avg[1], \"Gyr\")\n",
    "# print(age_avg[5]*1000)\n",
    "# print(age_avg[7]*1000)\n",
    "\n",
    "\n",
    "for i in range(0,2):\n",
    "    age=age0[ind[i]]\n",
    "    print(np.std(age)*1000, 'Myr')"
   ]
  },
  {
   "cell_type": "code",
   "execution_count": 10,
   "id": "75a4882b",
   "metadata": {},
   "outputs": [
    {
     "ename": "NameError",
     "evalue": "name 'xcm' is not defined",
     "output_type": "error",
     "traceback": [
      "\u001b[0;31m---------------------------------------------------------------------------\u001b[0m",
      "\u001b[0;31mNameError\u001b[0m                                 Traceback (most recent call last)",
      "\u001b[0;32m/var/folders/gg/mn_2q0nx7091304qmb7pj9zr00013y/T/ipykernel_54219/2132357089.py\u001b[0m in \u001b[0;36m<module>\u001b[0;34m\u001b[0m\n\u001b[1;32m     14\u001b[0m \u001b[0;31m# image1 = plt.scatter(x[si],y[si],s=4,c=age[si]*1000,cmap='Greys',vmin=age_cut_Gyr_min*1000,vmax=age_cut_Gyr_max*1000)\u001b[0m\u001b[0;34m\u001b[0m\u001b[0;34m\u001b[0m\u001b[0m\n\u001b[1;32m     15\u001b[0m \u001b[0;34m\u001b[0m\u001b[0m\n\u001b[0;32m---> 16\u001b[0;31m \u001b[0mplt\u001b[0m\u001b[0;34m.\u001b[0m\u001b[0mscatter\u001b[0m\u001b[0;34m(\u001b[0m\u001b[0mxcm\u001b[0m\u001b[0;34m,\u001b[0m\u001b[0mzcm\u001b[0m\u001b[0;34m,\u001b[0m\u001b[0ms\u001b[0m\u001b[0;34m=\u001b[0m\u001b[0;36m120\u001b[0m\u001b[0;34m,\u001b[0m\u001b[0mc\u001b[0m\u001b[0;34m=\u001b[0m\u001b[0;34m'r'\u001b[0m\u001b[0;34m)\u001b[0m\u001b[0;34m\u001b[0m\u001b[0;34m\u001b[0m\u001b[0m\n\u001b[0m",
      "\u001b[0;31mNameError\u001b[0m: name 'xcm' is not defined"
     ]
    }
   ],
   "source": [
    "# s5_max = '40'   # Myr\n",
    "# s5_min = '1'\n",
    "\n",
    "# age_cut_Myr_min = float(s5_min) #Myr\n",
    "# age_cut_Myr_max = float(s5_max) #Myr\n",
    "# age_cut_Gyr_min = age_cut_Myr_min / 1000. #Gyr\n",
    "# age_cut_Gyr_max = age_cut_Myr_max / 1000. #Gyr\n",
    "\n",
    "# si = np.where(((age <= age_cut_Gyr_max) & (age >= age_cut_Gyr_min)) & (rxyz < 30) & (abs(z) < 10)) #use this for selecting stars of interest\n",
    "# fig = plt.figure(figsize=(10, 10))\n",
    "# fig.subplots_adjust(wspace=0.22, left=0.1, right=0.95,\n",
    "#                     bottom=0.12, top=0.95)\n",
    "\n",
    "# image1 = plt.scatter(x[si],y[si],s=4,c=age[si]*1000,cmap='Greys',vmin=age_cut_Gyr_min*1000,vmax=age_cut_Gyr_max*1000)\n",
    "\n",
    "plt.scatter(xcm,zcm,s=120,c='r')\n"
   ]
  },
  {
   "cell_type": "code",
   "execution_count": 11,
   "id": "def90b44",
   "metadata": {},
   "outputs": [
    {
     "ename": "SyntaxError",
     "evalue": "invalid syntax (1332271033.py, line 1)",
     "output_type": "error",
     "traceback": [
      "\u001b[0;36m  File \u001b[0;32m\"/var/folders/gg/mn_2q0nx7091304qmb7pj9zr00013y/T/ipykernel_54219/1332271033.py\"\u001b[0;36m, line \u001b[0;32m1\u001b[0m\n\u001b[0;31m    x vs z plots edge on top down\u001b[0m\n\u001b[0m      ^\u001b[0m\n\u001b[0;31mSyntaxError\u001b[0m\u001b[0;31m:\u001b[0m invalid syntax\n"
     ]
    }
   ],
   "source": [
    "x vs z plots edge on top down "
   ]
  },
  {
   "cell_type": "code",
   "execution_count": 12,
   "id": "6258b2a1",
   "metadata": {},
   "outputs": [],
   "source": [
    "def first_snap_finder(age_array):\n",
    "    #read in snapshot_times file here (maybe need to test astropy instead)\n",
    "    data_file = np.genfromtxt(\"../snapshot_times.txt\",names=True,skip_header=5)\n",
    "    min_age = np.min(age_array)\n",
    "    lookback_time = data_file[\"lookbacktimeGyr\"]\n",
    "    snapshot_number = data_file[\"i\"]\n",
    "    index = np.where(min_age>lookback_time)\n",
    "    snaps_keep = snapshot_number[index]\n",
    "    return(snaps_keep)\n",
    "\n",
    "#     pretend I have an array called look_back time (this is the second to last column in snapshot_times)\n",
    "# comment above"
   ]
  },
  {
   "cell_type": "code",
   "execution_count": 13,
   "id": "1cf1c449",
   "metadata": {},
   "outputs": [
    {
     "name": "stdout",
     "output_type": "stream",
     "text": [
      "[385. 386. 387. 388. 389. 390. 391. 392. 393. 394. 395. 396. 397. 398.\n",
      " 399. 400. 401. 402. 403. 404. 405. 406. 407. 408. 409. 410. 411. 412.\n",
      " 413. 414. 415. 416. 417. 418. 419. 420. 421. 422. 423. 424. 425. 426.\n",
      " 427. 428. 429. 430. 431. 432. 433. 434. 435. 436. 437. 438. 439. 440.\n",
      " 441. 442. 443. 444. 445. 446. 447. 448. 449. 450. 451. 452. 453. 454.\n",
      " 455. 456. 457. 458. 459. 460. 461. 462. 463. 464. 465. 466. 467. 468.\n",
      " 469. 470. 471. 472. 473. 474. 475. 476. 477. 478. 479. 480. 481. 482.\n",
      " 483. 484. 485. 486. 487. 488. 489. 490. 491. 492. 493. 494. 495. 496.\n",
      " 497. 498. 499. 500. 501. 502. 503. 504. 505. 506. 507. 508. 509. 510.\n",
      " 511. 512. 513. 514. 515. 516. 517. 518. 519. 520. 521. 522. 523. 524.\n",
      " 525. 526. 527. 528. 529. 530. 531. 532. 533. 534. 535. 536. 537. 538.\n",
      " 539. 540. 541. 542. 543. 544. 545. 546. 547. 548. 549. 550. 551. 552.\n",
      " 553. 554. 555. 556. 557. 558. 559. 560. 561. 562. 563. 564. 565. 566.\n",
      " 567. 568. 569. 570. 571. 572. 573. 574. 575. 576. 577. 578. 579. 580.\n",
      " 581. 582. 583. 584. 585. 586. 587. 588. 589. 590. 591. 592. 593. 594.\n",
      " 595. 596. 597. 598. 599. 600.]\n"
     ]
    }
   ],
   "source": [
    "snaps_to_itterate_over = first_snap_finder([5,6])\n",
    "print(snaps_to_itterate_over)"
   ]
  },
  {
   "cell_type": "code",
   "execution_count": 14,
   "id": "1aa070c6",
   "metadata": {},
   "outputs": [
    {
     "data": {
      "text/plain": [
       "dtype([('i', '<f8'), ('scalefactor', '<f8'), ('redshift', '<f8'), ('timeGyr', '<f8'), ('lookbacktimeGyr', '<f8'), ('timewidthMyr', '<f8')])"
      ]
     },
     "execution_count": 14,
     "metadata": {},
     "output_type": "execute_result"
    }
   ],
   "source": [
    "# trouble shoot this bit so you can read in the data file\n",
    "data_file = np.genfromtxt(\"../snapshot_times.txt\",names=True,skip_header=5)\n",
    "data_file.dtype"
   ]
  },
  {
   "cell_type": "code",
   "execution_count": 9,
   "id": "b9274c9f",
   "metadata": {},
   "outputs": [
    {
     "name": "stdout",
     "output_type": "stream",
     "text": [
      "[0.  0.1]\n",
      "[0.1 0.2]\n",
      "2\n"
     ]
    },
    {
     "ename": "NameError",
     "evalue": "name 'snaps' is not defined",
     "output_type": "error",
     "traceback": [
      "\u001b[0;31m---------------------------------------------------------------------------\u001b[0m",
      "\u001b[0;31mNameError\u001b[0m                                 Traceback (most recent call last)",
      "\u001b[0;32m/var/folders/gg/mn_2q0nx7091304qmb7pj9zr00013y/T/ipykernel_34320/308827844.py\u001b[0m in \u001b[0;36m<module>\u001b[0;34m\u001b[0m\n\u001b[1;32m     29\u001b[0m \u001b[0;34m\u001b[0m\u001b[0m\n\u001b[1;32m     30\u001b[0m \u001b[0;32mfor\u001b[0m \u001b[0mk\u001b[0m \u001b[0;32min\u001b[0m \u001b[0mrange\u001b[0m\u001b[0;34m(\u001b[0m\u001b[0mn\u001b[0m\u001b[0;34m)\u001b[0m\u001b[0;34m:\u001b[0m\u001b[0;34m\u001b[0m\u001b[0;34m\u001b[0m\u001b[0m\n\u001b[0;32m---> 31\u001b[0;31m     \u001b[0mtemporary_name\u001b[0m \u001b[0;34m=\u001b[0m \u001b[0msimname\u001b[0m\u001b[0;34m+\u001b[0m\u001b[0;34m'.'\u001b[0m\u001b[0;34m+\u001b[0m\u001b[0mstr\u001b[0m\u001b[0;34m(\u001b[0m\u001b[0msnaps\u001b[0m\u001b[0;34m[\u001b[0m\u001b[0;36m0\u001b[0m\u001b[0;34m]\u001b[0m\u001b[0;34m)\u001b[0m\u001b[0;34m+\u001b[0m\u001b[0;34m\".minage\"\u001b[0m\u001b[0;34m+\u001b[0m \u001b[0mstr\u001b[0m\u001b[0;34m(\u001b[0m\u001b[0;34m'%.2f'\u001b[0m \u001b[0;34m%\u001b[0m\u001b[0mmin_age_array_Gyr\u001b[0m\u001b[0;34m[\u001b[0m\u001b[0mk\u001b[0m\u001b[0;34m]\u001b[0m\u001b[0;34m)\u001b[0m\u001b[0;34m+\u001b[0m\u001b[0;34m\"_\"\u001b[0m\u001b[0;34m+\u001b[0m\u001b[0;34m\"maxage\"\u001b[0m\u001b[0;34m+\u001b[0m\u001b[0;34m\"_\"\u001b[0m\u001b[0;34m+\u001b[0m\u001b[0mstr\u001b[0m\u001b[0;34m(\u001b[0m\u001b[0;34m'%.2f'\u001b[0m \u001b[0;34m%\u001b[0m\u001b[0mmax_age_array_Gyr\u001b[0m\u001b[0;34m[\u001b[0m\u001b[0mk\u001b[0m\u001b[0;34m]\u001b[0m\u001b[0;34m)\u001b[0m\u001b[0;34m+\u001b[0m\u001b[0;34m\"_b\"\u001b[0m\u001b[0;34m+\u001b[0m\u001b[0mstr\u001b[0m\u001b[0;34m(\u001b[0m\u001b[0mb_parsec\u001b[0m\u001b[0;34m)\u001b[0m\u001b[0;34m+\u001b[0m\u001b[0;34m\"_nmin\"\u001b[0m\u001b[0;34m+\u001b[0m\u001b[0mstr\u001b[0m\u001b[0;34m(\u001b[0m\u001b[0mncut_min\u001b[0m\u001b[0;34m)\u001b[0m\u001b[0;34m+\u001b[0m\u001b[0;34m\".pkl\"\u001b[0m\u001b[0;34m\u001b[0m\u001b[0;34m\u001b[0m\u001b[0m\n\u001b[0m\u001b[1;32m     32\u001b[0m \u001b[0;34m\u001b[0m\u001b[0m\n\u001b[1;32m     33\u001b[0m     \u001b[0mlistd\u001b[0m\u001b[0;34m.\u001b[0m\u001b[0mappend\u001b[0m\u001b[0;34m(\u001b[0m\u001b[0mtemporary_name\u001b[0m\u001b[0;34m)\u001b[0m\u001b[0;34m\u001b[0m\u001b[0;34m\u001b[0m\u001b[0m\n",
      "\u001b[0;31mNameError\u001b[0m: name 'snaps' is not defined"
     ]
    }
   ],
   "source": [
    "num_clusters = []\n",
    "\n",
    "age_increments_array = 0.1 #Gyr\n",
    "age_width = 0.1 #Gyr\n",
    "# age_increments_array = 1.0 #Gyr\n",
    "# age_width = 1.0 #Gyr\n",
    "\n",
    "# min_age_array_Gyr = np.arange(0,1,age_increments_array)\n",
    "# max_age_array_Gyr = min_age_array_Gyr + age_width\n",
    "    \n",
    "min_age_array_Gyr = np.arange(0.0,0.2,age_increments_array)\n",
    "max_age_array_Gyr = min_age_array_Gyr + age_width\n",
    "\n",
    "\n",
    "\n",
    "\n",
    "print(min_age_array_Gyr)\n",
    "print(max_age_array_Gyr)\n",
    "\n",
    "\n",
    "b_parsec =  4.0 #linking length in parsecs\n",
    "b_kpc = b_parsec / 1000.\n",
    "ncut_min = 5 #min number of particles per group\n",
    "\n",
    "\n",
    "n = len(min_age_array_Gyr)\n",
    "print(n)\n",
    "listd = []\n",
    "\n",
    "for k in range(n):\n",
    "    temporary_name = simname+'.'+str(snaps[0])+\".minage\"+ str('%.2f' %min_age_array_Gyr[k])+\"_\"+\"maxage\"+\"_\"+str('%.2f' %max_age_array_Gyr[k])+\"_b\"+str(b_parsec)+\"_nmin\"+str(ncut_min)+\".pkl\"\n",
    "    \n",
    "    listd.append(temporary_name)\n",
    "\n",
    "# print(listd)\n",
    "\n",
    "\n",
    "for i in range(len(min_age_array_Gyr)):\n",
    "\n",
    "\n",
    "\n",
    "    age_cut_Gyr_min = min_age_array_Gyr[i]\n",
    "    age_cut_Gyr_max = max_age_array_Gyr[i]\n",
    "\n",
    "\n",
    "\n",
    "    si = np.where(((age <= age_cut_Gyr_max) & (age >= age_cut_Gyr_min)) & (rxyz < 30) & (abs(z) < 10)) #use this for selecting stars of interest\n",
    "    small_sid = sid[si]\n",
    "    small_child = sid_child[si]\n",
    "    small_generation = sid_generation[si]\n",
    "    small_age = age[si]\n",
    "    small_mass = mass[si]\n",
    "    small_x = x[si]\n",
    "    small_y = y[si]\n",
    "    small_z = z[si]\n",
    "    small_rxyz = rxyz[si]\n",
    "    small_feh = feh[si]\n",
    "\n",
    "    \n",
    "    ind, xcm, ycm, zcm, mtot, grpid, r90, r50, rmax, feh_avg, age_avg =fof.find(x[si],y[si],z[si],feh=feh[si],age=age[si],b=b_kpc, mass=mass[si], ncut=ncut_min)\n",
    "    cluster_dic={\"id\":small_sid,\"child\":small_child,\"generation\":small_generation,\"age\":small_age,\"mass\":small_mass,\"x\":small_x,\"y\":small_y,\"z\":small_z,\n",
    "                   \"rxyz\":small_rxyz,\"ind\":ind,\"xcm\":xcm,\"ycm\":ycm,\"zcm\":zcm,\"mtot\":mtot,\"grpid\":grpid,\n",
    "                  \"r90\":r90,\"r50\":r50,\"rmax\":rmax,\"feh_avg\":feh_avg,\"age_avg\":age_avg,\"feh\":feh}\n",
    "    \n",
    "    with open(listd[i], 'wb') as output:\n",
    "        pickle.dump(cluster_dic, output) #access the data using tracked_data_all_clusters_each_snap[snapshot][cluster_id][\"x_tracked\"])\n",
    "\n",
    "    num_clusters.append(len(mtot))"
   ]
  },
  {
   "cell_type": "code",
   "execution_count": 33,
   "id": "a301a4e1",
   "metadata": {},
   "outputs": [],
   "source": [
    "# instead of re running FOF to access cluster info, I am just extracting the data from a pickle file.\n",
    "\n",
    "\n",
    "clusters_datapath=\"./\"\n",
    "\n",
    "file_name= \"m12i_res7100.600.minage4.35_maxage_4.40_b4.0_nmin5.pkl\"\n",
    "\n",
    "with open(clusters_datapath+file_name, \"rb\") as input:\n",
    "  import_clusterdata = pickle.load(input)"
   ]
  },
  {
   "cell_type": "code",
   "execution_count": null,
   "id": "e195d763",
   "metadata": {},
   "outputs": [],
   "source": []
  }
 ],
 "metadata": {
  "kernelspec": {
   "display_name": "Python 3",
   "language": "python",
   "name": "python3"
  },
  "language_info": {
   "codemirror_mode": {
    "name": "ipython",
    "version": 3
   },
   "file_extension": ".py",
   "mimetype": "text/x-python",
   "name": "python",
   "nbconvert_exporter": "python",
   "pygments_lexer": "ipython3",
   "version": "3.8.8"
  }
 },
 "nbformat": 4,
 "nbformat_minor": 5
}
