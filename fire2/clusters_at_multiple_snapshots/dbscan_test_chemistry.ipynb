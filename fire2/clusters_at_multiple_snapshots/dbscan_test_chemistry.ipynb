{
 "cells": [
  {
   "cell_type": "code",
   "execution_count": 2,
   "id": "303957c0-a72b-44d1-9eb5-5a8e059dcac2",
   "metadata": {},
   "outputs": [],
   "source": [
    "import matplotlib as plt2 #need this for patches for shaded circles\n",
    "import numpy as np\n",
    "import matplotlib.pyplot as plt\n",
    "import gizmo_analysis as gizmo \n",
    "import utilities as ut\n",
    "import matplotlib.colors as colors\n",
    "from matplotlib import rc #to use Latex math symbols like 'phi'\n",
    "import astropy\n",
    "from astropy.io import ascii\n",
    "import matplotlib\n",
    "import pdb\n",
    "from importlib import reload\n",
    "from sl_utilities import distance_functions\n",
    "#pdb.set_trace()  #<--in case need to troubleshoot\n",
    "import pickle\n",
    "import os\n",
    "from fof_analysis import fof\n",
    "\n",
    "from sklearn.cluster import DBSCAN\n",
    "\n",
    "import hdbscan\n",
    "from mycolorpy import colorlist as mcp #my python package for colors\n",
    "\n",
    "#########################################################################\n",
    "#########################################################################\n",
    "#load particle data here as you normally do to get the star information\n",
    "#cut on Rxy, |z| and age\n",
    "#run fof\n",
    "#sind, sxcm, sycm, szcm, smtot, sgrpid, sr90, sr50, srmax =fof.find(x[si],y[si],z[si], b=b_kpc, mass=mass[si], ncut=ncut_min)\n",
    "#srcm = np.sqrt(sxcm**2. + sycm**2.)\n",
    "\n",
    "simname = 'm12i_res7100_mhdcv'\n",
    "simdir = '/scratch/projects/xsede/GalaxiesOnFIRE/cr_suite/m12i_r7100/mhdcv/1Myr/fire2/'\n",
    "snapnumber = 693"
   ]
  },
  {
   "cell_type": "code",
   "execution_count": null,
   "id": "30dc4ab9-9347-41a6-a6b5-25293c352ae0",
   "metadata": {},
   "outputs": [],
   "source": []
  },
  {
   "cell_type": "code",
   "execution_count": 3,
   "id": "a996a215-6e12-4b38-bb4c-901d053460c6",
   "metadata": {},
   "outputs": [
    {
     "name": "stdout",
     "output_type": "stream",
     "text": [
      "\n",
      "# in utilities.simulation.Snapshot():\n",
      "* reading:  scratch/projects/xsede/GalaxiesOnFIRE/cr_suite/m12i_r7100/mhdcv/1Myr/fire2/snapshot_times.txt\n",
      "\n",
      "  using snapshot index = 693, redshift = 0.000\n",
      "\n",
      "\n",
      "# in gizmo_analysis.gizmo_io.Read():\n",
      "* reading header from:  scratch/projects/xsede/GalaxiesOnFIRE/cr_suite/m12i_r7100/mhdcv/1Myr/fire2/output/snapdir_693/snapshot_693.0.hdf5\n",
      "  snapshot contains the following number of particles:\n",
      "    dark      (id = 1): 70514272 particles\n",
      "    dark2     (id = 2): 5513331 particles\n",
      "    gas       (id = 0): 55620162 particles\n",
      "    star      (id = 4): 15373067 particles\n",
      "    blackhole (id = 5): 0 particles\n",
      "\n",
      "* reading the following\n",
      "  species: ['dark', 'dark2', 'gas', 'star']\n",
      "  gas properties: ['acceleration', 'density', 'electron.fraction', 'hydrogen.neutral.fraction', 'id', 'id.child', 'id.generation', 'magnetic.field', 'mass', 'massfraction', 'photon.energy', 'position', 'potential', 'sfr', 'size', 'temperature', 'velocity']\n",
      "\n",
      "* reading particles from:\n",
      "    snapshot_693.0.hdf5\n",
      "    snapshot_693.1.hdf5\n",
      "    snapshot_693.2.hdf5\n",
      "    snapshot_693.3.hdf5\n",
      "\n",
      "* reading cosmological parameters from:  scratch/projects/xsede/GalaxiesOnFIRE/cr_suite/m12i_r7100/mhdcv/1Myr/fire2/initial_condition/ic_agora_m12i.conf\n",
      "\n",
      "* checking sanity of particle properties\n",
      "! warning: gas id.child [min, max] = [0.000, 4.290e9]\n",
      "! warning: star id.child [min, max] = [0.000, 4.294e9]\n",
      "\n",
      "\n",
      "# in gizmo_analysis.gizmo_track.ParticleCoordinate():\n",
      "  read 1 host (position, velocity, principal axes) from:  scratch/projects/xsede/GalaxiesOnFIRE/cr_suite/m12i_r7100/mhdcv/1Myr/fire2/track/host_coordinates.hdf5\n",
      "  host1 position = (41844.97, 44106.67, 46284.37) [kpc comoving]\n",
      "  host1 velocity = (-48.7, 80.1, 89.4) [km / s]\n",
      "  host1 axis ratios = (0.18, 0.19, 0.96)\n",
      "  host1 R_90 = 9.8 kpc\n",
      "  host1 M_90 = 6.2e+10 Msun\n",
      "\n"
     ]
    }
   ],
   "source": [
    "part = gizmo.io.Read.read_snapshots(['all'],'snapshot_index', snapnumber, simulation_name=simname, \n",
    "                                    simulation_directory=simdir, assign_hosts_rotation=True, assign_hosts=True)\n"
   ]
  },
  {
   "cell_type": "code",
   "execution_count": 6,
   "id": "64cd639e-bb6b-4cf3-bc7f-192bd2f6fd97",
   "metadata": {},
   "outputs": [],
   "source": [
    "rxyz     = part['star'].prop('host.distance.total')\n",
    "#Rxy      = part['star'].prop('host.distance.cylindrical')[:,0]\n",
    "x        = part['star'].prop('host.distance')[:,0]\n",
    "y        = part['star'].prop('host.distance')[:,1]\n",
    "z        = part['star'].prop('host.distance')[:,2] \n",
    "mass     = part['star'].prop('mass')\n",
    "\n",
    "ids      = part['star'].prop('id')\n",
    "id_child = part['star'].prop('id.child')\n",
    "age      = part['star'].prop('age')\n",
    "\n",
    "\n",
    "feh      = part['star'].prop('metallicity.fe')\n",
    "mgh      = part['star'].prop('metallicity.mg')\n",
    "cah      = part['star'].prop('metallicity.ca')\n",
    "sh      = part['star'].prop('metallicity.s')\n",
    "sih      = part['star'].prop('metallicity.si')\n",
    "neh      = part['star'].prop('metallicity.ne')\n",
    "oh      = part['star'].prop('metallicity.o')\n",
    "nh      = part['star'].prop('metallicity.n')\n",
    "ch      = part['star'].prop('metallicity.c')"
   ]
  },
  {
   "cell_type": "code",
   "execution_count": 7,
   "id": "39c25a3a-6972-49a6-a521-d6b7af119799",
   "metadata": {},
   "outputs": [],
   "source": [
    "#select young stars within the disk for star clusters\n",
    "keep = np.where((age <= .003) & ((rxyz < 20)) & (abs(z) < 1.5))"
   ]
  },
  {
   "cell_type": "code",
   "execution_count": 8,
   "id": "c7bc530c-cad0-4684-ab7d-c8c018375c7a",
   "metadata": {},
   "outputs": [],
   "source": [
    "#to run cluster finding on\n",
    "rxyz0     = rxyz[keep]\n",
    "#Rxy0      = Rxy[keep]\n",
    "x0        = x[keep]\n",
    "y0        = y[keep]\n",
    "z0        = z[keep]\n",
    "mass0     = mass[keep]\n",
    "\n",
    "\n",
    "id0       = ids[keep]\n",
    "id_child0 = id_child[keep]\n",
    "age0      = age[keep]\n",
    "\n",
    "feh0      = feh[keep]\n",
    "mgh0=mgh[keep]\n",
    "ch0=ch[keep]\n",
    "nh0=nh[keep]\n",
    "oh0=oh[keep]\n",
    "neh0=neh[keep]\n",
    "sih0=sih[keep]\n",
    "sh0=sh[keep]\n",
    "cah0=cah[keep]\n",
    "\n",
    "#del part,rxyz,Rxy,x,y,z,mass,feh,mgh,ch,nh,oh,neh,sih,sh,cah,mgfe,ofe,sife,cafe,sfe,nefe,nfe,cfe,\n"
   ]
  },
  {
   "cell_type": "code",
   "execution_count": 9,
   "id": "d9b6eeab-3b54-4fc3-8551-cbbd33b3dcb9",
   "metadata": {},
   "outputs": [],
   "source": [
    "#Creating a n*3 matrix for dbscan\n",
    "positions=np.column_stack((x0,y0,z0))\n",
    "chemistry=np.column_stack((feh0,mgh0,ch0,nh0,oh0,neh0,sih0,sh0,cah0))"
   ]
  },
  {
   "cell_type": "markdown",
   "id": "4069fa0d-21df-4fb4-9a45-ca30646e38df",
   "metadata": {},
   "source": [
    "# Applying DBSCAN"
   ]
  },
  {
   "cell_type": "code",
   "execution_count": 10,
   "id": "d2391cab-69d2-4e4d-8fea-d584238c34ec",
   "metadata": {},
   "outputs": [
    {
     "data": {
      "text/plain": [
       "{-1: 411,\n",
       " 0: 203,\n",
       " 1: 61,\n",
       " 2: 6,\n",
       " 3: 19,\n",
       " 4: 15,\n",
       " 5: 67,\n",
       " 6: 13,\n",
       " 7: 31,\n",
       " 8: 8,\n",
       " 9: 38,\n",
       " 10: 8,\n",
       " 11: 10,\n",
       " 12: 10,\n",
       " 13: 9,\n",
       " 14: 36,\n",
       " 15: 39,\n",
       " 16: 8,\n",
       " 17: 10,\n",
       " 18: 18,\n",
       " 19: 12,\n",
       " 20: 19,\n",
       " 21: 29,\n",
       " 22: 5,\n",
       " 23: 5,\n",
       " 24: 11,\n",
       " 25: 6,\n",
       " 26: 13,\n",
       " 27: 9,\n",
       " 28: 8,\n",
       " 29: 5,\n",
       " 30: 4,\n",
       " 31: 4,\n",
       " 32: 5}"
      ]
     },
     "execution_count": 10,
     "metadata": {},
     "output_type": "execute_result"
    }
   ],
   "source": [
    "dbscan = DBSCAN(eps=0.004, min_samples=5)\n",
    "labels = dbscan.fit_predict(positions)\n",
    "\n",
    "labels_chem=dbscan.fit_predict(chemistry)\n",
    "\n",
    "groups,n_members=np.unique(labels,return_counts=True)\n",
    "dict(zip(groups,n_members))\n",
    "\n",
    "\n",
    "groups_chem,n_members_chem=np.unique(labels_chem,return_counts=True)\n",
    "dict(zip(groups_chem,n_members_chem))"
   ]
  },
  {
   "cell_type": "code",
   "execution_count": 23,
   "id": "87ec412e-885b-4620-a7b0-bdef3ca9b95c",
   "metadata": {},
   "outputs": [
    {
     "name": "stdout",
     "output_type": "stream",
     "text": [
      "4\n"
     ]
    }
   ],
   "source": [
    "def get_cluster_members(labels,positions):\n",
    "    cluster_dict={}\n",
    "    for label in range(np.max(labels)+1):\n",
    "        members_loc=np.where(labels==label)\n",
    "        cluster_dict.update({label:positions[members_loc]})\n",
    "    return cluster_dict\n",
    "\n",
    "groups_pos=get_cluster_members(labels,positions)\n",
    "print(len(groups_pos))\n",
    "path=\"./\"\n",
    "file_name=\"dbscan_clusters\"+str(snapnumber)+\".pkl\" \n",
    "#with open(path+file_name, 'wb') as output:\n",
    "    # Pickle dictionary using protocol 0.\n",
    "    #pickle.dump(groups, output)\n"
   ]
  },
  {
   "cell_type": "markdown",
   "id": "0aefaf34-23af-409c-915f-bdcb2f64d6c2",
   "metadata": {},
   "source": [
    "# Comparison chem vs pos "
   ]
  },
  {
   "cell_type": "code",
   "execution_count": 22,
   "id": "c2f8aac1-329f-447f-af7e-def918696a5a",
   "metadata": {},
   "outputs": [
    {
     "name": "stdout",
     "output_type": "stream",
     "text": [
      "33\n"
     ]
    }
   ],
   "source": [
    "groups_chem=get_cluster_members(labels_chem,chemistry)\n",
    "print(len(groups_chem))"
   ]
  },
  {
   "cell_type": "code",
   "execution_count": 19,
   "id": "f32b3b54-2179-4c14-83d1-2d49522d7d4d",
   "metadata": {},
   "outputs": [
    {
     "data": {
      "image/png": "[encoded data removed]",
      "text/plain": [
       "<Figure size 432x288 with 1 Axes>"
      ]
     },
     "metadata": {
      "needs_background": "light"
     },
     "output_type": "display_data"
    }
   ],
   "source": [
    "color_db_pos=mcp.gen_color(cmap=\"seismic\",n=len(groups_pos))\n",
    "color_db_chem=mcp.gen_color(cmap=\"rainbow\",n=len(groups_chem))\n",
    "\n",
    "fig1=plt.figure()\n",
    "\n",
    "ax=fig1.add_subplot(111)\n",
    "\n",
    "\n",
    "for j in range(len(groups_pos)):\n",
    "    each_cluster_hdb=groups_pos[j]\n",
    "    ax.scatter(each_cluster_hdb[:,0],each_cluster_hdb[:,1],facecolors='none',marker=\"*\",edgecolors=color_db_pos[j],alpha=0.5)\n",
    "\n",
    "for i in range(len(groups_chem)):\n",
    "    each_cluster=groups_chem[i]\n",
    "    ax.scatter(each_cluster[:,0],each_cluster[:,1],facecolors='none',marker=\"v\",edgecolors=color_db_chem[i])\n",
    "    \n"
   ]
  },
  {
   "cell_type": "markdown",
   "id": "19efec98-6caf-41a9-911e-f7d84e658cf8",
   "metadata": {},
   "source": [
    "# Applying HDBSCAN"
   ]
  },
  {
   "cell_type": "code",
   "execution_count": null,
   "id": "6a953dfb-e01c-4c9c-8fb7-041d4ca2f042",
   "metadata": {},
   "outputs": [],
   "source": []
  },
  {
   "cell_type": "code",
   "execution_count": 9,
   "id": "bb20cc53-37a3-4ac5-ad4e-e407b4a29767",
   "metadata": {},
   "outputs": [
    {
     "data": {
      "text/plain": [
       "{-1: 223,\n",
       " 0: 6,\n",
       " 1: 6,\n",
       " 2: 6,\n",
       " 3: 8,\n",
       " 4: 18,\n",
       " 5: 9,\n",
       " 6: 24,\n",
       " 7: 6,\n",
       " 8: 14,\n",
       " 9: 15,\n",
       " 10: 10,\n",
       " 11: 29,\n",
       " 12: 16,\n",
       " 13: 21,\n",
       " 14: 13,\n",
       " 15: 16,\n",
       " 16: 20,\n",
       " 17: 7,\n",
       " 18: 17,\n",
       " 19: 8,\n",
       " 20: 27,\n",
       " 21: 12,\n",
       " 22: 9,\n",
       " 23: 23,\n",
       " 24: 8,\n",
       " 25: 9,\n",
       " 26: 6,\n",
       " 27: 9,\n",
       " 28: 15,\n",
       " 29: 5,\n",
       " 30: 6,\n",
       " 31: 7,\n",
       " 32: 6,\n",
       " 33: 7,\n",
       " 34: 12,\n",
       " 35: 5,\n",
       " 36: 36,\n",
       " 37: 6,\n",
       " 38: 23,\n",
       " 39: 28,\n",
       " 40: 29,\n",
       " 41: 9,\n",
       " 42: 7,\n",
       " 43: 13,\n",
       " 44: 11,\n",
       " 45: 6,\n",
       " 46: 8,\n",
       " 47: 30,\n",
       " 48: 14,\n",
       " 49: 11,\n",
       " 50: 9,\n",
       " 51: 31,\n",
       " 52: 12,\n",
       " 53: 15,\n",
       " 54: 21,\n",
       " 55: 7,\n",
       " 56: 30,\n",
       " 57: 9,\n",
       " 58: 9,\n",
       " 59: 31,\n",
       " 60: 12,\n",
       " 61: 22,\n",
       " 62: 11,\n",
       " 63: 9,\n",
       " 64: 22,\n",
       " 65: 16}"
      ]
     },
     "execution_count": 9,
     "metadata": {},
     "output_type": "execute_result"
    }
   ],
   "source": [
    "hdbscan_alg = hdbscan.HDBSCAN(min_cluster_size=5, min_samples=5,cluster_selection_epsilon=0.004)\n",
    "\n",
    "# Fit the algorithm to the data\n",
    "hdbscan_alg.fit(positions)\n",
    "\n",
    "# Extract the cluster labels and probabilities for each point\n",
    "labels_hdbscan = hdbscan_alg.labels_\n",
    "probabilities = hdbscan_alg.probabilities_\n",
    "\n",
    "groups_hdbscan,n_members_hdbscan=np.unique(labels_hdbscan,return_counts=True)\n",
    "dict(zip(groups_hdbscan,n_members_hdbscan))"
   ]
  },
  {
   "cell_type": "code",
   "execution_count": 10,
   "id": "3da1eeb6-49b1-4631-8eb3-d7c64a7a4739",
   "metadata": {},
   "outputs": [],
   "source": [
    "h_groups=get_cluster_members(labels_hdbscan,positions)\n",
    "\n",
    "path=\"./\"\n",
    "file_name=\"hdbscan_clusters\"+str(snapnumber)+\".pkl\" \n",
    "with open(path+file_name, 'wb') as output:\n",
    "    # Pickle dictionary using protocol 0.\n",
    "    pickle.dump(h_groups, output)"
   ]
  },
  {
   "cell_type": "code",
   "execution_count": null,
   "id": "570a6582-3217-4a7e-a4ca-66554a18ba11",
   "metadata": {},
   "outputs": [],
   "source": []
  },
  {
   "cell_type": "markdown",
   "id": "800628ed-7748-41da-9b57-c49f771e2abd",
   "metadata": {},
   "source": [
    "# Applying FOF"
   ]
  },
  {
   "cell_type": "code",
   "execution_count": 11,
   "id": "bfc0c909-d3f7-47d9-8d1d-b8f764591a85",
   "metadata": {},
   "outputs": [
    {
     "name": "stdout",
     "output_type": "stream",
     "text": [
      "linking length  0.004\n",
      "min number particles in group  5\n",
      "0.037943124771118164 seconds\n",
      "number of groups 8\n",
      "max number in a group 15\n",
      "%d, Clusters found !!! 8\n"
     ]
    }
   ],
   "source": [
    "linking_length = 0.004 #4 parsec (unit here is in kpc)\n",
    "ncut           = 5 #5 star particles\n",
    "\n",
    "ind, xcm, ycm, zcm, mtot, grpid, r90, r50, rmax =fof.find(x0,y0,z0, b=linking_length, mass=mass0, ncut=ncut)\n",
    "ngroup = len(mtot)\n",
    "print(\"%d, Clusters found !!!\",(ngroup))"
   ]
  },
  {
   "cell_type": "code",
   "execution_count": 12,
   "id": "fe4e761f-f252-4406-a774-6487dfad110b",
   "metadata": {},
   "outputs": [
    {
     "name": "stdout",
     "output_type": "stream",
     "text": [
      "------------------------------------------------------------------------------------------------------------------\n",
      "grpid, nstar, xcm (kpc), ycm (kpc), zcm (kpc), mtot (msun), rmax (pc)\n",
      "1     15     -5.6487     -1.2267    1.0871     1.85e+05     6.0 \n",
      "age os stars in the cluster [1.39232077e-04 1.39232077e-04 2.82884845e-04 8.06851215e-04\n",
      " 6.32471255e-04 5.70193011e-04 4.78851884e-04 1.69955427e-04\n",
      " 4.80512629e-04 5.04593438e-04 4.47297759e-04 2.52161346e-04\n",
      " 4.80512629e-04 1.10496090e-03 1.55087192e-05]\n",
      "ids\n",
      "[39059058, 63645813, 12707128, 32560062, 44462271, 50641754, 46174319, 17439992, 64090488, 48185763, 43993944, 32522190, 44475333, 21775301, 28029180]\n",
      "id children\n",
      "[0, 0, 0, 0, 1, 0, 0, 0, 0, 0, 0, 0, 0, 0, 0]\n",
      "These are the ids printed [39059058 63645813 12707128 32560062 44462271 50641754 46174319 17439992\n",
      " 64090488 48185763 43993944 32522190 44475333 21775301 28029180]\n",
      "------------------------------------------------------------------------------------------------------------------\n",
      "grpid, nstar, xcm (kpc), ycm (kpc), zcm (kpc), mtot (msun), rmax (pc)\n",
      "2     6     -2.4486     -0.1081    0.3361     8.03e+04     4.7 \n",
      "age os stars in the cluster [0.00143878 0.00141304 0.00115645 0.00119215 0.00091978 0.00106344]\n",
      "ids\n",
      "[13585121, 25327542, 50973358, 27860398, 11787984, 66842230]\n",
      "id children\n",
      "[0, 0, 0, 0, 0, 0]\n",
      "These are the ids printed [13585121 25327542 50973358 27860398 11787984 66842230]\n",
      "------------------------------------------------------------------------------------------------------------------\n",
      "grpid, nstar, xcm (kpc), ycm (kpc), zcm (kpc), mtot (msun), rmax (pc)\n",
      "3     5     0.1480     -0.5811    0.2038     7.33e+04     4.7 \n",
      "age os stars in the cluster [0.0014338  0.00163891 0.00225509 0.00274837 0.00258394]\n",
      "ids\n",
      "[40582135, 65214114, 17355137, 42088426, 59974090]\n",
      "id children\n",
      "[0, 0, 0, 1, 0]\n",
      "These are the ids printed [40582135 65214114 17355137 42088426 59974090]\n",
      "------------------------------------------------------------------------------------------------------------------\n",
      "grpid, nstar, xcm (kpc), ycm (kpc), zcm (kpc), mtot (msun), rmax (pc)\n",
      "4     5     13.0014     -4.6057    0.3634     5.21e+04     3.0 \n",
      "age os stars in the cluster [0.00159822 0.0014338  0.00098123 0.00122786 0.00209149]\n",
      "ids\n",
      "[44518139, 25789063, 19453558, 19413092, 19476636]\n",
      "id children\n",
      "[0, 0, 0, 0, 0]\n",
      "These are the ids printed [44518139 25789063 19453558 19413092 19476636]\n",
      "------------------------------------------------------------------------------------------------------------------\n",
      "grpid, nstar, xcm (kpc), ycm (kpc), zcm (kpc), mtot (msun), rmax (pc)\n",
      "5     5     -0.4534     0.2110    -0.0073     7.92e+04     4.7 \n",
      "age os stars in the cluster [0.00075537 0.00077613 0.00077613 0.00081682 0.00100199]\n",
      "ids\n",
      "[13129882, 51437665, 60559555, 13763737, 20643770]\n",
      "id children\n",
      "[1, 0, 0, 0, 0]\n",
      "These are the ids printed [13129882 51437665 60559555 13763737 20643770]\n",
      "------------------------------------------------------------------------------------------------------------------\n",
      "grpid, nstar, xcm (kpc), ycm (kpc), zcm (kpc), mtot (msun), rmax (pc)\n",
      "6     5     -2.3907     -0.1332    0.3690     6.00e+04     4.3 \n",
      "age os stars in the cluster [0.00048965 0.00089902 0.00032357 0.00157746 0.00026213]\n",
      "ids\n",
      "[43680322, 46175722, 47643940, 11337479, 22643258]\n",
      "id children\n",
      "[0, 0, 0, 0, 0]\n",
      "These are the ids printed [43680322 46175722 47643940 11337479 22643258]\n",
      "------------------------------------------------------------------------------------------------------------------\n",
      "grpid, nstar, xcm (kpc), ycm (kpc), zcm (kpc), mtot (msun), rmax (pc)\n",
      "7     5     -2.3894     -0.1300    0.3724     6.62e+04     2.9 \n",
      "age os stars in the cluster [0.00091978 0.0009613  0.00036509 0.00135159 0.00085834]\n",
      "ids\n",
      "[59782579, 43617740, 13423739, 14869946, 4411349]\n",
      "id children\n",
      "[0, 0, 0, 0, 0]\n",
      "These are the ids printed [59782579 43617740 13423739 14869946  4411349]\n",
      "------------------------------------------------------------------------------------------------------------------\n",
      "grpid, nstar, xcm (kpc), ycm (kpc), zcm (kpc), mtot (msun), rmax (pc)\n",
      "8     5     -5.6332     -1.2588    1.0937     6.00e+04     3.2 \n",
      "age os stars in the cluster [0.00180333 0.00083758 0.00092975 0.00119215 0.00075537]\n",
      "ids\n",
      "[13290229, 63857311, 54434413, 7239101, 9426975]\n",
      "id children\n",
      "[0, 0, 0, 0, 0]\n",
      "These are the ids printed [13290229 63857311 54434413  7239101  9426975]\n"
     ]
    }
   ],
   "source": [
    "export_cluster={}\n",
    "\n",
    "for grp_index in range(ngroup):  #iterate over each group\n",
    "    cluster={}\n",
    "    ids_in_cluster = id0[ind[grp_index]]  #these are the star particle ids in each cluster\n",
    "    id_children_in_cluster = id_child0[ind[grp_index]]\n",
    "    age=age0[ind[grp_index]]\n",
    "    nstar = len(ids_in_cluster)\n",
    "    groupid=grpid[grp_index]\n",
    "    print('------------------------------------------------------------------------------------------------------------------')\n",
    "    print('grpid, nstar, xcm (kpc), ycm (kpc), zcm (kpc), mtot (msun), rmax (pc)')\n",
    "    print('%s     %i     %.4f     %.4f    %.4f     %.2e     %.1f ' % (grpid[grp_index], nstar, xcm[grp_index], ycm[grp_index], zcm[grp_index], mtot[grp_index], 1000*rmax[grp_index]))\n",
    "    print(\"age os stars in the cluster\",age)\n",
    "    print('ids')\n",
    "    string = '[' \n",
    "    for i in ids_in_cluster:\n",
    "        string = string + str(i) + ', '\n",
    "\n",
    "    #get rid of last extra ,\n",
    "    length = len(string)-2\n",
    "    string = string[0:length] + ']'\n",
    "    print(string)\n",
    "\n",
    "    print('id children')\n",
    "    string = '[' \n",
    "    for i in id_children_in_cluster:\n",
    "        string = string + str(i) + ', '\n",
    "\n",
    "    #get rid of last extra ,\n",
    "    length = len(string)-2\n",
    "    string = string[0:length] + ']'\n",
    "    print(string)\n",
    "    print(\"These are the ids printed\",ids_in_cluster)\n",
    "    #feh_in_cluster=feh0[ind[grp_index]]\n",
    "    cluster={\"cluster_groupid\":groupid,\"no_of_star\":nstar,\"id\":ids_in_cluster,\n",
    "    \"id_children\":id_children_in_cluster,\"xcm\":xcm[grp_index],\"ycm\":ycm[grp_index],\n",
    "    \"zcm\":zcm[grp_index],\"mtot\":mtot[grp_index],\"r90\":r90[grp_index],\"r50\":r50[grp_index],\n",
    "    \"rmax\":rmax[grp_index],\"x\":x0[ind[grp_index]],\"y\":y0[ind[grp_index]],\"z\":z0[ind[grp_index]]}\n",
    "    export_cluster.update({groupid:cluster})\n",
    "\n",
    "######################################################################\n",
    "#######################################################################\n"
   ]
  },
  {
   "cell_type": "code",
   "execution_count": 13,
   "id": "28610ee0-a6d5-4d88-971a-68033214f1f2",
   "metadata": {},
   "outputs": [
    {
     "name": "stdout",
     "output_type": "stream",
     "text": [
      "\n",
      "\n",
      "\n",
      "The ids of the cluster with group id 1 is [39059058 63645813 12707128 32560062 44462271 50641754 46174319 17439992\n",
      " 64090488 48185763 43993944 32522190 44475333 21775301 28029180]\n"
     ]
    }
   ],
   "source": [
    "path=\"./\"\n",
    "file_name=\"fof_clusters_\"+str(snapnumber)+\".pkl\" \n",
    "\n",
    "with open(path+file_name, 'wb') as output:\n",
    "    # Pickle dictionary using protocol 0.\n",
    "    pickle.dump(export_cluster, output)\n",
    "\n",
    "########################\n",
    "#to test if the information was stored properly\n",
    "with open(path+file_name, \"rb\") as fp:\n",
    "    import_cluster = pickle.load(fp)\n",
    "\n",
    "print(\"\\n\\n\\nThe ids of the cluster with group id 1 is\",import_cluster[1][\"id\"])"
   ]
  },
  {
   "cell_type": "markdown",
   "id": "131f0ce6-a081-47b8-b78e-2d9e9502f6a6",
   "metadata": {},
   "source": [
    "# Visualizing dbscan, hdbscan and fof clusters"
   ]
  },
  {
   "cell_type": "code",
   "execution_count": 14,
   "id": "e26449fe-e68c-45be-a59a-723e169651cd",
   "metadata": {},
   "outputs": [],
   "source": [
    "fn1=\"dbscan_clusters\"+str(snapnumber)+\".pkl\" \n",
    "fn2=\"hdbscan_clusters\"+str(snapnumber)+\".pkl\" \n",
    "\n",
    "with open(path+fn1, \"rb\") as input:\n",
    "  dbscan_data = pickle.load(input)\n",
    "\n",
    "with open(path+fn2, \"rb\") as input:\n",
    "  hdbscan_data = pickle.load(input)\n",
    "\n",
    "fof_data=import_cluster"
   ]
  },
  {
   "cell_type": "code",
   "execution_count": 15,
   "id": "fce319d5-f454-4f05-8c90-84a8bf0d7da8",
   "metadata": {},
   "outputs": [
    {
     "name": "stdout",
     "output_type": "stream",
     "text": [
      "dict_keys([1, 2, 3, 4, 5, 6, 7, 8])\n"
     ]
    }
   ],
   "source": [
    "print(fof_data.keys())"
   ]
  },
  {
   "cell_type": "code",
   "execution_count": 16,
   "id": "66e52f2b-c658-4a57-93a4-4200ca58e621",
   "metadata": {},
   "outputs": [
    {
     "name": "stdout",
     "output_type": "stream",
     "text": [
      "4\n",
      "66\n",
      "8\n"
     ]
    }
   ],
   "source": [
    "print(len(dbscan_data))\n",
    "print(len(hdbscan_data))\n",
    "print(len(fof_data))"
   ]
  },
  {
   "cell_type": "code",
   "execution_count": 17,
   "id": "e13ba889-30e4-4574-9537-33cd44ba4c01",
   "metadata": {},
   "outputs": [
    {
     "data": {
      "image/png": "[encoded data removed]",
      "text/plain": [
       "<Figure size 432x288 with 1 Axes>"
      ]
     },
     "metadata": {
      "needs_background": "light"
     },
     "output_type": "display_data"
    }
   ],
   "source": [
    "color_dbscan=mcp.gen_color(cmap=\"seismic\",n=len(dbscan_data))\n",
    "color_fof=mcp.gen_color(cmap=\"seismic\",n=len(fof_data))\n",
    "color_hdbscan=mcp.gen_color(cmap=\"rainbow\",n=len(hdbscan_data))\n",
    "\n",
    "fig1=plt.figure()\n",
    "\n",
    "ax=fig1.add_subplot(111)\n",
    "\n",
    "\n",
    "for j in range(len(hdbscan_data)):\n",
    "    each_cluster_hdb=hdbscan_data[j]\n",
    "    ax.scatter(each_cluster_hdb[:,0],each_cluster_hdb[:,1],facecolors='none',marker=\"*\",edgecolors=color_hdbscan[j],alpha=0.5)\n",
    "\n",
    "for i in range(len(dbscan_data)):\n",
    "    each_cluster=dbscan_data[i]\n",
    "    ax.scatter(each_cluster[:,0],each_cluster[:,1],facecolors='none',marker=\"v\",edgecolors=color_dbscan[i])\n",
    "    \n",
    "    \n",
    "for k in range(len(fof_data)):\n",
    "    each_cluster=fof_data[k+1]\n",
    "    ax.scatter(each_cluster[\"x\"],each_cluster[\"y\"],facecolors='none',marker=\"o\",edgecolors=color_fof[k])\n",
    "    \n",
    "    \n",
    "    "
   ]
  },
  {
   "cell_type": "markdown",
   "id": "f0014047-237a-450e-b553-d5a0a3f6e907",
   "metadata": {},
   "source": [
    "# Comparison between DBSCAN and FOF"
   ]
  },
  {
   "cell_type": "code",
   "execution_count": 18,
   "id": "00925de7-8a53-4208-b91c-362a0d8872bc",
   "metadata": {},
   "outputs": [
    {
     "data": {
      "image/png": "[encoded data removed]",
      "text/plain": [
       "<Figure size 432x288 with 1 Axes>"
      ]
     },
     "metadata": {
      "needs_background": "light"
     },
     "output_type": "display_data"
    }
   ],
   "source": [
    "color_dbscan=mcp.gen_color(cmap=\"seismic\",n=len(dbscan_data))\n",
    "color_fof=mcp.gen_color(cmap=\"rainbow\",n=len(fof_data))\n",
    "\n",
    "fig1=plt.figure()\n",
    "\n",
    "ax=fig1.add_subplot(111)\n",
    "    \n",
    "for k in range(len(fof_data)):\n",
    "    each_cluster=fof_data[k+1]\n",
    "    ax.scatter(each_cluster[\"x\"],each_cluster[\"y\"],facecolors='none',marker=\"o\",edgecolors=color_fof[k])\n",
    "    \n",
    "\n",
    "for i in range(len(dbscan_data)):\n",
    "    each_cluster=dbscan_data[i]\n",
    "    ax.scatter(each_cluster[:,0],each_cluster[:,1],facecolors='none',marker=\"v\",edgecolors=color_dbscan[i])"
   ]
  },
  {
   "cell_type": "code",
   "execution_count": null,
   "id": "99d9f381-c85a-4e71-a8fc-9b8bba369881",
   "metadata": {},
   "outputs": [],
   "source": []
  },
  {
   "cell_type": "code",
   "execution_count": null,
   "id": "868e0ab8-285b-481c-8dc8-53e8486d6dac",
   "metadata": {},
   "outputs": [],
   "source": []
  },
  {
   "cell_type": "code",
   "execution_count": null,
   "id": "d7f46d5d-3805-483e-9cfa-be6b98e99956",
   "metadata": {},
   "outputs": [],
   "source": []
  }
 ],
 "metadata": {
  "kernelspec": {
   "display_name": "Python 3",
   "language": "python",
   "name": "python3"
  },
  "language_info": {
   "codemirror_mode": {
    "name": "ipython",
    "version": 3
   },
   "file_extension": ".py",
   "mimetype": "text/x-python",
   "name": "python",
   "nbconvert_exporter": "python",
   "pygments_lexer": "ipython3",
   "version": "3.8.8"
  }
 },
 "nbformat": 4,
 "nbformat_minor": 5
}
