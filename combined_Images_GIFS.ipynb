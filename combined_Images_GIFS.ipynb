{
 "cells": [
  {
   "cell_type": "code",
   "execution_count": 58,
   "metadata": {},
   "outputs": [
    {
     "name": "stdout",
     "output_type": "stream",
     "text": [
      "2\n",
      "Created a combined image and saved as: combined695.png\r"
     ]
    }
   ],
   "source": [
    "#this is the code to select images from the same snapshot of the given list of simtypes\n",
    "#and combine them into a single image.\n",
    "#we would use the combined image of each snapshot from each simtypes to create a GIF\n",
    "import sys\n",
    "from PIL import Image\n",
    "\n",
    "simtype=[\"sf-fire3\",\"sf-fire3-alpha01\",\"sf-fire3-alpha03\",\"sf-fire3-alpha05\"]\n",
    "total_sims=len(simtype)\n",
    "cols=2      #choose this manually\n",
    "rows=total_sims//cols\n",
    "rows=rows+total_sims%cols\n",
    "#print(rows)\n",
    "snapshot_start=596\n",
    "snapshot_end=696\n",
    "plot_folder_postfix=\"_plots_with_gas\" #this is how folder names are similar\n",
    "image_name_infix=\"_gas_and_clusters\" #this is how image names are similar\n",
    "total_snaps=snapshot_end-snapshot_start\n",
    "\n",
    "for i in range (total_snaps): #do for all snapshot images\n",
    "    images_to_combine=[]      #create a list of images to combine which would be a particular snapshot from all simtypes\n",
    "    for j in range(total_sims):\n",
    "        imagename=\"./\"+simtype[j]+\"/\"+simtype[j]+plot_folder_postfix+\"/\"+simtype[j]+image_name_infix+str(i+596)+\".png\"\n",
    "        images_to_combine.append(imagename)\n",
    "    #created the list of images to combine from each simtype for the given snapshot\n",
    "    images = [Image.open(x) for x in images_to_combine]\n",
    "    #opened the images and stored to a list images\n",
    "    #print((images))\n",
    "    widths, heights = zip(*(i.size for i in images))    \n",
    "    #print(widths)\n",
    "    total_width = max(widths)*cols #total width of the combined image\n",
    "    max_height = max(heights)*rows #total height of the combined image\n",
    "    new_im = Image.new('RGB', (total_width, max_height))\n",
    "    y_offset=0  #it will determine the y position\n",
    "    #print(y_offset)\n",
    "    image_count=0\n",
    "    for r in range(rows):\n",
    "        x_offset =0 #it will determine the xposition\n",
    "        for c in range(cols):\n",
    "            #print(\"c is:\",c)\n",
    "            new_im.paste(images[image_count], (x_offset,y_offset))\n",
    "            x_offset += images[image_count].size[0] #shifting the x position for the colum\n",
    "            #print(\"image_count is:\",image_count)\n",
    "            image_count+=1        \n",
    "        y_offset= images[image_count-1].size[1] #y position shifed only once (may need edit)\n",
    "    combined_im_name=\"combined\"+str(i+596)+\".png\"\n",
    "    print(\"Created a combined image and saved as:\",combined_im_name,end=\"\\r\",flush=True)\n",
    "    combined_im_path=\"./GIFs/\"\n",
    "    new_im.save(combined_im_path+combined_im_name) #saved the combined image\n",
    "    "
   ]
  },
  {
   "cell_type": "code",
   "execution_count": 56,
   "metadata": {},
   "outputs": [
    {
     "name": "stdout",
     "output_type": "stream",
     "text": [
      "Scanned image from the File:  combined695.png\n",
      "Saved the GIF into the File:  combined_all_simtypes.gif\n"
     ]
    }
   ],
   "source": [
    "#Now we create a GIF of all the combined images\n",
    "from PIL import Image\n",
    "import os\n",
    "imgs=[]\n",
    "combined_im_path=\"./GIFs/\"\n",
    "if not os.path.exists(combined_im_path):\n",
    "  os.makedirs(combined_im_path)\n",
    "\n",
    "for i in range(596,696): #startig and ending value+1 of the index that identifies different file names or imgs = glob.glob(\"*.png\") can do done as well\n",
    "    filename=\"combined\"+str(i)+\".png\"\n",
    "    imgs.append(combined_im_path+filename)\n",
    "    print(\"Scanned image from the File: \",filename,end=\"\\r\",flush=True)    \n",
    "\n",
    "frames = []\n",
    "for i in imgs:\n",
    "    new_frame = Image.open(i)\n",
    "    frames.append(new_frame)\n",
    "# Save into a GIF file that loops forever\n",
    "gifname=\"combined_all_simtypes.gif\"\n",
    "frames[0].save(combined_im_path+gifname, format='GIF',\n",
    "               append_images=frames[1:],\n",
    "               save_all=True,\n",
    "               duration=200, loop=0)    #duration =200 looked good\n",
    "print(\"\\nSaved the GIF into the File: \",gifname)"
   ]
  }
 ],
 "metadata": {
  "kernelspec": {
   "display_name": "Python 3",
   "language": "python",
   "name": "python3"
  },
  "language_info": {
   "codemirror_mode": {
    "name": "ipython",
    "version": 3
   },
   "file_extension": ".py",
   "mimetype": "text/x-python",
   "name": "python",
   "nbconvert_exporter": "python",
   "pygments_lexer": "ipython3",
   "version": "3.7.6"
  }
 },
 "nbformat": 4,
 "nbformat_minor": 4
}
